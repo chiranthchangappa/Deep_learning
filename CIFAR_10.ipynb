{
 "cells": [
  {
   "cell_type": "code",
   "execution_count": 1,
   "metadata": {},
   "outputs": [
    {
     "name": "stderr",
     "output_type": "stream",
     "text": [
      "Using TensorFlow backend.\n"
     ]
    }
   ],
   "source": [
    "# Image classification MNIST\n",
    "from keras.datasets import cifar10"
   ]
  },
  {
   "cell_type": "code",
   "execution_count": 15,
   "metadata": {},
   "outputs": [],
   "source": [
    "#loading the datset\n",
    "(x_train,y_train),(x_test,y_test) = cifar10.load_data()"
   ]
  },
  {
   "cell_type": "code",
   "execution_count": 16,
   "metadata": {},
   "outputs": [
    {
     "data": {
      "text/plain": [
       "((50000, 32, 32, 3), (50000, 1), (10000, 32, 32, 3), (10000, 1))"
      ]
     },
     "execution_count": 16,
     "metadata": {},
     "output_type": "execute_result"
    }
   ],
   "source": [
    "#print the  shape of the datset\n",
    "x_train.shape,y_train.shape,x_test.shape,y_test.shape"
   ]
  },
  {
   "cell_type": "code",
   "execution_count": 4,
   "metadata": {},
   "outputs": [],
   "source": [
    "from keras.models import Sequential\n",
    "from keras.layers import Dense, Dropout, Conv2D, MaxPool2D\n",
    "from keras.utils import np_utils"
   ]
  },
  {
   "cell_type": "code",
   "execution_count": 17,
   "metadata": {},
   "outputs": [],
   "source": [
    "#flattening the imagesfrom 28x28 pixels to 1D 787 pixels\n",
    "x_train=x_train.reshape(x_train.shape[0],3,32,32)\n",
    "x_test=x_test.reshape(x_test.shape[0],3,32,32)\n",
    "x_train=x_train.astype('float32')\n",
    "x_test=x_test.astype('float32')"
   ]
  },
  {
   "cell_type": "code",
   "execution_count": 6,
   "metadata": {},
   "outputs": [],
   "source": [
    "#normalising data to help with training\n",
    "x_train/=255.0\n",
    "x_test/=255.0"
   ]
  },
  {
   "cell_type": "code",
   "execution_count": 7,
   "metadata": {},
   "outputs": [],
   "source": [
    "#one hot encode outputs\n",
    "y_train=np_utils.to_categorical(y_train)\n",
    "y_test=np_utils.to_categorical(y_test)\n",
    "num_classes=y_test.shape[1]"
   ]
  },
  {
   "cell_type": "code",
   "execution_count": 8,
   "metadata": {},
   "outputs": [
    {
     "name": "stdout",
     "output_type": "stream",
     "text": [
      "Model: \"sequential_1\"\n",
      "_________________________________________________________________\n",
      "Layer (type)                 Output Shape              Param #   \n",
      "=================================================================\n",
      "conv2d_1 (Conv2D)            (None, 3, 32, 32)         9248      \n",
      "_________________________________________________________________\n",
      "max_pooling2d_1 (MaxPooling2 (None, 2, 16, 32)         0         \n",
      "_________________________________________________________________\n",
      "dropout_1 (Dropout)          (None, 2, 16, 32)         0         \n",
      "_________________________________________________________________\n",
      "conv2d_2 (Conv2D)            (None, 2, 16, 32)         9248      \n",
      "_________________________________________________________________\n",
      "max_pooling2d_2 (MaxPooling2 (None, 1, 8, 32)          0         \n",
      "_________________________________________________________________\n",
      "flatten_1 (Flatten)          (None, 256)               0         \n",
      "_________________________________________________________________\n",
      "dense_1 (Dense)              (None, 512)               131584    \n",
      "_________________________________________________________________\n",
      "dropout_2 (Dropout)          (None, 512)               0         \n",
      "_________________________________________________________________\n",
      "dense_2 (Dense)              (None, 10)                5130      \n",
      "=================================================================\n",
      "Total params: 155,210\n",
      "Trainable params: 155,210\n",
      "Non-trainable params: 0\n",
      "_________________________________________________________________\n"
     ]
    }
   ],
   "source": [
    "import numpy \n",
    "from keras.datasets import cifar10\n",
    "from keras.models import Sequential\n",
    "from keras.layers import Dense \n",
    "from keras.layers import Dropout\n",
    "from keras.layers import Flatten\n",
    "from keras.constraints import maxnorm\n",
    "from keras.optimizers import SGD\n",
    "from keras.layers.convolutional import Conv2D\n",
    "from keras.layers.convolutional import MaxPooling2D\n",
    "from keras.utils import np_utils\n",
    "from keras import backend as K\n",
    "K.image_data_format()\n",
    "\n",
    "#create model\n",
    "model=Sequential()\n",
    "model.add(Conv2D(32,(3,3),input_shape=(3,32,32),activation='relu',padding='same',kernel_constraint=maxnorm(3)))\n",
    "model.add(MaxPooling2D(pool_size=(2,2),padding='same'))\n",
    "model.add(Dropout(0.2))\n",
    "model.add(Conv2D(32,(3,3),activation='relu',padding='same',kernel_constraint=maxnorm(3)))\n",
    "model.add(MaxPooling2D(pool_size=(2,2),padding='same'))\n",
    "model.add(Flatten())\n",
    "model.add(Dense(512, activation='relu',kernel_constraint=maxnorm(3)))\n",
    "model.add(Dropout(0.5))\n",
    "model.add(Dense(num_classes,activation='softmax'))\n",
    "#compile model\n",
    "epochs=25\n",
    "lrate=0.01\n",
    "decay=lrate/epochs\n",
    "sgd=SGD(lr=lrate,momentum=0.9,decay=decay,nesterov=False)\n",
    "model.compile(loss='categorical_crossentropy',optimizer=sgd,metrics=['accuracy'])\n",
    "model.summary()\n",
    "\n",
    "\n"
   ]
  },
  {
   "cell_type": "code",
   "execution_count": 10,
   "metadata": {},
   "outputs": [
    {
     "name": "stdout",
     "output_type": "stream",
     "text": [
      "Train on 50000 samples, validate on 10000 samples\n",
      "Epoch 1/25\n",
      "   64/50000 [..............................] - ETA: 42:04 - loss: 1.8367 - accuracy: 0.3438  "
     ]
    },
    {
     "name": "stderr",
     "output_type": "stream",
     "text": [
      "C:\\Users\\Chiranth SB\\.conda\\envs\\tensorflow\\lib\\site-packages\\keras\\callbacks\\callbacks.py:95: RuntimeWarning: Method (on_train_batch_end) is slow compared to the batch update (0.110759). Check your callbacks.\n",
      "  % (hook_name, delta_t_median), RuntimeWarning)\n"
     ]
    },
    {
     "name": "stdout",
     "output_type": "stream",
     "text": [
      "50000/50000 [==============================] - 487s 10ms/step - loss: 1.7797 - accuracy: 0.3544 - val_loss: 1.6322 - val_accuracy: 0.4083\n",
      "Epoch 2/25\n",
      "50000/50000 [==============================] - 141s 3ms/step - loss: 1.6520 - accuracy: 0.4019 - val_loss: 1.5414 - val_accuracy: 0.4484\n",
      "Epoch 3/25\n",
      "50000/50000 [==============================] - 57s 1ms/step - loss: 1.5966 - accuracy: 0.4243 - val_loss: 1.5353 - val_accuracy: 0.4476\n",
      "Epoch 4/25\n",
      "50000/50000 [==============================] - 57s 1ms/step - loss: 1.5539 - accuracy: 0.4374 - val_loss: 1.5109 - val_accuracy: 0.4519\n",
      "Epoch 5/25\n",
      "50000/50000 [==============================] - 56s 1ms/step - loss: 1.5235 - accuracy: 0.4523 - val_loss: 1.4583 - val_accuracy: 0.4726\n",
      "Epoch 6/25\n",
      "50000/50000 [==============================] - 56s 1ms/step - loss: 1.4994 - accuracy: 0.4586 - val_loss: 1.4384 - val_accuracy: 0.4876\n",
      "Epoch 7/25\n",
      "50000/50000 [==============================] - 69s 1ms/step - loss: 1.4827 - accuracy: 0.4674 - val_loss: 1.4280 - val_accuracy: 0.4826\n",
      "Epoch 8/25\n",
      "50000/50000 [==============================] - 83s 2ms/step - loss: 1.4661 - accuracy: 0.4732 - val_loss: 1.4175 - val_accuracy: 0.4925\n",
      "Epoch 9/25\n",
      "50000/50000 [==============================] - 82s 2ms/step - loss: 1.4509 - accuracy: 0.4787 - val_loss: 1.4090 - val_accuracy: 0.5026\n",
      "Epoch 10/25\n",
      "50000/50000 [==============================] - 70s 1ms/step - loss: 1.4382 - accuracy: 0.4840 - val_loss: 1.4220 - val_accuracy: 0.4860\n",
      "Epoch 11/25\n",
      "50000/50000 [==============================] - 66s 1ms/step - loss: 1.4273 - accuracy: 0.4870 - val_loss: 1.3972 - val_accuracy: 0.4986\n",
      "Epoch 12/25\n",
      "50000/50000 [==============================] - 77s 2ms/step - loss: 1.4238 - accuracy: 0.4900 - val_loss: 1.3882 - val_accuracy: 0.5083\n",
      "Epoch 13/25\n",
      "50000/50000 [==============================] - 58s 1ms/step - loss: 1.4121 - accuracy: 0.4917 - val_loss: 1.3963 - val_accuracy: 0.5061\n",
      "Epoch 14/25\n",
      "50000/50000 [==============================] - 56s 1ms/step - loss: 1.4077 - accuracy: 0.4929 - val_loss: 1.3713 - val_accuracy: 0.5160\n",
      "Epoch 15/25\n",
      "50000/50000 [==============================] - 58s 1ms/step - loss: 1.3955 - accuracy: 0.5014 - val_loss: 1.3676 - val_accuracy: 0.5131\n",
      "Epoch 16/25\n",
      "50000/50000 [==============================] - 56s 1ms/step - loss: 1.3897 - accuracy: 0.5016 - val_loss: 1.3693 - val_accuracy: 0.5151\n",
      "Epoch 17/25\n",
      "50000/50000 [==============================] - 56s 1ms/step - loss: 1.3856 - accuracy: 0.5042 - val_loss: 1.3516 - val_accuracy: 0.5208\n",
      "Epoch 18/25\n",
      "50000/50000 [==============================] - 56s 1ms/step - loss: 1.3739 - accuracy: 0.5079 - val_loss: 1.3612 - val_accuracy: 0.5196\n",
      "Epoch 19/25\n",
      "50000/50000 [==============================] - 56s 1ms/step - loss: 1.3740 - accuracy: 0.5094 - val_loss: 1.3452 - val_accuracy: 0.5216\n",
      "Epoch 20/25\n",
      "50000/50000 [==============================] - 55s 1ms/step - loss: 1.3708 - accuracy: 0.5086 - val_loss: 1.3450 - val_accuracy: 0.5233\n",
      "Epoch 21/25\n",
      "50000/50000 [==============================] - 56s 1ms/step - loss: 1.3651 - accuracy: 0.5112 - val_loss: 1.3333 - val_accuracy: 0.5294\n",
      "Epoch 22/25\n",
      "50000/50000 [==============================] - 58s 1ms/step - loss: 1.3617 - accuracy: 0.5106 - val_loss: 1.3508 - val_accuracy: 0.5233\n",
      "Epoch 23/25\n",
      "50000/50000 [==============================] - 58s 1ms/step - loss: 1.3561 - accuracy: 0.5142 - val_loss: 1.3599 - val_accuracy: 0.5254\n",
      "Epoch 24/25\n",
      "50000/50000 [==============================] - 56s 1ms/step - loss: 1.3530 - accuracy: 0.5154 - val_loss: 1.3494 - val_accuracy: 0.5282\n",
      "Epoch 25/25\n",
      "50000/50000 [==============================] - 56s 1ms/step - loss: 1.3453 - accuracy: 0.5190 - val_loss: 1.3412 - val_accuracy: 0.5257\n",
      "Accuracy: 52.57%\n"
     ]
    }
   ],
   "source": [
    "#fit the model\n",
    "aa = model.fit(x_train,y_train,validation_data=(x_test,y_test),epochs=epochs,batch_size=32)\n",
    "#final evaluation of the model\n",
    "scores=model.evaluate(x_test,y_test,verbose=0)\n",
    "print(\"Accuracy: %.2f%%\" %(scores[1]*100))"
   ]
  },
  {
   "cell_type": "code",
   "execution_count": 11,
   "metadata": {},
   "outputs": [],
   "source": [
    "aa = aa.history"
   ]
  },
  {
   "cell_type": "code",
   "execution_count": 12,
   "metadata": {},
   "outputs": [
    {
     "data": {
      "text/plain": [
       "dict_keys(['val_loss', 'val_accuracy', 'loss', 'accuracy'])"
      ]
     },
     "execution_count": 12,
     "metadata": {},
     "output_type": "execute_result"
    }
   ],
   "source": [
    "aa.keys()"
   ]
  },
  {
   "cell_type": "code",
   "execution_count": 13,
   "metadata": {},
   "outputs": [
    {
     "data": {
      "image/png": "[encoded data removed]",
      "text/plain": [
       "<Figure size 432x288 with 1 Axes>"
      ]
     },
     "metadata": {
      "needs_background": "light"
     },
     "output_type": "display_data"
    }
   ],
   "source": [
    "import matplotlib.pyplot as plt\n",
    "\n",
    "acc = aa['accuracy']\n",
    "val_acc = aa['val_accuracy']\n",
    "loss = aa['loss']\n",
    "val_loss = aa['val_loss']\n",
    "\n",
    "epochs = range(1, len(acc) + 1)\n",
    "\n",
    "# \"bo\" is for \"blue dot\"\n",
    "plt.plot(epochs, loss, 'ro', label='Training loss')\n",
    "# b is for \"solid blue line\"\n",
    "plt.plot(epochs, val_loss, 'b', label='Validation loss')\n",
    "plt.title('Training and validation loss')\n",
    "plt.xlabel('Epochs')\n",
    "plt.ylabel('Loss')\n",
    "plt.legend()\n",
    "\n",
    "plt.show()"
   ]
  },
  {
   "cell_type": "code",
   "execution_count": 14,
   "metadata": {},
   "outputs": [
    {
     "data": {
      "image/png": "[encoded data removed]",
      "text/plain": [
       "<Figure size 432x288 with 1 Axes>"
      ]
     },
     "metadata": {
      "needs_background": "light"
     },
     "output_type": "display_data"
    }
   ],
   "source": [
    "plt.clf()   # clear figure\n",
    "loss = aa['loss']\n",
    "val_loss = aa['val_loss']\n",
    "\n",
    "plt.plot(epochs, loss, 'ro', label='Training acc')\n",
    "plt.plot(epochs, val_loss, 'b', label='Validation acc')\n",
    "plt.title('Training and validation accuracy')\n",
    "plt.xlabel('Epochs')\n",
    "plt.ylabel('Loss')\n",
    "plt.legend()\n",
    "\n",
    "plt.show()"
   ]
  }
 ],
 "metadata": {
  "kernelspec": {
   "display_name": "Python 3",
   "language": "python",
   "name": "python3"
  },
  "language_info": {
   "codemirror_mode": {
    "name": "ipython",
    "version": 3
   },
   "file_extension": ".py",
   "mimetype": "text/x-python",
   "name": "python",
   "nbconvert_exporter": "python",
   "pygments_lexer": "ipython3",
   "version": "3.7.9"
  }
 },
 "nbformat": 4,
 "nbformat_minor": 4
}
