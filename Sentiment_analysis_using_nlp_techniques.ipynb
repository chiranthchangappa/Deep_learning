{
 "cells": [
  {
   "cell_type": "markdown",
   "metadata": {},
   "source": [
    "# Chiranth changappa (PGAA-02)"
   ]
  },
  {
   "cell_type": "markdown",
   "metadata": {},
   "source": [
    "# Capstone project "
   ]
  },
  {
   "cell_type": "markdown",
   "metadata": {},
   "source": [
    "# Problem Statement"
   ]
  },
  {
   "cell_type": "markdown",
   "metadata": {},
   "source": [
    "A friendly foodie community in Bengaluru formed by 20 students has conducted a survey on Food Restaurant reviews. With the analysis of the survey, the community came to know that many restaurant owners are willing to know their customer’s opinion in terms of the ratings given by them but most of them are not willing to know their customer’s opinion in terms of reviews. Usually few customers give only review, few give only rating and few give both review and rating. The foodie community has collected all the raw data from restaurant managers and they have promised to help them in knowing the rating incase if customer has given only a review."
   ]
  },
  {
   "cell_type": "markdown",
   "metadata": {},
   "source": [
    "# Goal/Objective"
   ]
  },
  {
   "cell_type": "markdown",
   "metadata": {},
   "source": [
    "Assume you are one among the 20 members of the community and you want to make their job easier in helping restaurant managers, build a classification model which predicts the rating based on the customer reviews and other parameters"
   ]
  },
  {
   "cell_type": "markdown",
   "metadata": {},
   "source": [
    "# Data Description"
   ]
  },
  {
   "cell_type": "markdown",
   "metadata": {},
   "source": [
    "Data is collected from multiple restaurants around the city of Bengaluru."
   ]
  },
  {
   "cell_type": "markdown",
   "metadata": {},
   "source": [
    "# Attribute Information"
   ]
  },
  {
   "cell_type": "markdown",
   "metadata": {},
   "source": [
    "1. Restaurant_Name: Consists of restaurant name.\n",
    "2. Reviewer_Name: Name of the customer who gave review.\n",
    "3. Review_Text: Actual body of the review.\n",
    "4. Rating(1 - 5): Target variable ranges from 1 to 5.\n",
    "5. Reviews & Followers: Gives count of reviews and followers.\n",
    "6. Time: Time the review has given.\n",
    "7. Pictures_uploaded: How many food and restaurant pictures the\n",
    "customer has uploaded along with a review"
   ]
  },
  {
   "cell_type": "markdown",
   "metadata": {},
   "source": [
    "# AIM : TO PREDICT THE MOVIE RATING OF RESTAURANTS IN BANGALORE DEPENDS ON REVIEW TEXT"
   ]
  },
  {
   "cell_type": "code",
   "execution_count": null,
   "metadata": {},
   "outputs": [],
   "source": []
  },
  {
   "cell_type": "markdown",
   "metadata": {},
   "source": [
    "1. **[IMPORTING LIBRARIES](#import_lib)**\n",
    "2. **[Loading Data](#load_data)**\n",
    "3. **[Feature Engineering](#feature)**\n",
    "4. **[Exploratory Data Analysis](#eda)**\n",
    "5. **[NLP Techniques](#nlp)**\n",
    "6. **[Label Encoding](#label)**\n",
    "7. **[Target Variable analysis](#target)**\n",
    "8. **[Model Building](#base)**\n",
    "9. **[Handling imbalanced dataset using Oversampling technique(Random Oversampler)](#oversampler)**\n",
    "10. **[Test data](#test)**\n",
    "11. **[Using Best Classifier to predict the test data - Random Forest](#rf)**\n",
    "12. **[Exporting Dataframe to csv](#export)**"
   ]
  },
  {
   "cell_type": "markdown",
   "metadata": {},
   "source": [
    "<a id='import_lib'></a>\n",
    "# 1.  IMPORTING LIBRARIES\n"
   ]
  },
  {
   "cell_type": "code",
   "execution_count": 193,
   "metadata": {
    "id": "BwoKRifApDrN"
   },
   "outputs": [
    {
     "name": "stderr",
     "output_type": "stream",
     "text": [
      "[nltk_data] Downloading package stopwords to C:\\Users\\Chiranth\n",
      "[nltk_data]     SB\\AppData\\Roaming\\nltk_data...\n",
      "[nltk_data]   Package stopwords is already up-to-date!\n"
     ]
    }
   ],
   "source": [
    "#Importing required library for mathematical operations, data manupulation and to make 2d and 3d plots \n",
    "import numpy as np\n",
    "import matplotlib.pyplot as plt\n",
    "import pandas as pd\n",
    "import seaborn as sns\n",
    "from warnings import simplefilter\n",
    "simplefilter(action='ignore', category=FutureWarning)\n",
    "\n",
    "#regular expression imports\n",
    "import re\n",
    "#the Natural Language Toolkit (NLTK) is a use to understand human language data applying in statistical natural language processing .\n",
    "import nltk\n",
    "#'stopwords used to remove most commonly used word such as 'a, an, the, this etc'\n",
    "nltk.download('stopwords')\n",
    "from nltk.corpus import stopwords\n",
    "from nltk.stem.porter import PorterStemmer\n",
    "ps = PorterStemmer()\n",
    "\n",
    "# train test split is a technique used for spliting of dataset to train and test\n",
    "from sklearn.model_selection import train_test_split\n",
    "\n",
    "\n",
    "# To Converts group of words into a matrix, showing each words frequency\n",
    "from sklearn.feature_extraction.text import CountVectorizer\n",
    "from sklearn.feature_extraction.text import TfidfTransformer\n",
    "import scipy.sparse\n",
    "\n",
    "# to encode varibales \n",
    "from sklearn.preprocessing import LabelEncoder\n",
    "#standardizing the df_final\n",
    "from sklearn.preprocessing import Normalizer\n",
    "\n",
    "\n",
    "# import libraries for building different model\n",
    "from sklearn.naive_bayes import MultinomialNB\n",
    "from sklearn.linear_model import LogisticRegression\n",
    "\n",
    "from sklearn.tree import DecisionTreeClassifier\n",
    "from sklearn.ensemble import AdaBoostClassifier,RandomForestClassifier\n",
    "from xgboost import XGBClassifier\n",
    "from sklearn import metrics\n",
    "from statsmodels.stats.outliers_influence import variance_inflation_factor\n",
    "\n",
    "from sklearn.model_selection import cross_val_score\n",
    "#metrics evaluation \n",
    "from sklearn.metrics import roc_curve,roc_auc_score,accuracy_score,f1_score,confusion_matrix,classification_report,cohen_kappa_score\n",
    "\n",
    "# to balance any feature(Target variable)  \n",
    "from imblearn.over_sampling import RandomOverSampler"
   ]
  },
  {
   "cell_type": "markdown",
   "metadata": {},
   "source": [
    "<a id='load_data'></a>\n",
    "# 2.LOADING DATA"
   ]
  },
  {
   "cell_type": "code",
   "execution_count": 235,
   "metadata": {
    "colab": {
     "base_uri": "https://localhost:8080/",
     "height": 191
    },
    "id": "-Ge7sAsPr4gt",
    "outputId": "7cc58bf8-510b-473f-efe3-733920e4dd0c"
   },
   "outputs": [
    {
     "data": {
      "text/html": [
       "<div>\n",
       "<style scoped>\n",
       "    .dataframe tbody tr th:only-of-type {\n",
       "        vertical-align: middle;\n",
       "    }\n",
       "\n",
       "    .dataframe tbody tr th {\n",
       "        vertical-align: top;\n",
       "    }\n",
       "\n",
       "    .dataframe thead th {\n",
       "        text-align: right;\n",
       "    }\n",
       "</style>\n",
       "<table border=\"1\" class=\"dataframe\">\n",
       "  <thead>\n",
       "    <tr style=\"text-align: right;\">\n",
       "      <th></th>\n",
       "      <th>Restaurant_Name</th>\n",
       "      <th>Reviewer_Name</th>\n",
       "      <th>Review_Text</th>\n",
       "      <th>Rating(1 - 5)</th>\n",
       "      <th>Reviews &amp; Followers</th>\n",
       "      <th>Time</th>\n",
       "      <th>Pictures_uploaded</th>\n",
       "    </tr>\n",
       "  </thead>\n",
       "  <tbody>\n",
       "    <tr>\n",
       "      <th>0</th>\n",
       "      <td>Tiki Shack</td>\n",
       "      <td>Priya</td>\n",
       "      <td>The place was good, ambiance was very nice! Mu...</td>\n",
       "      <td>4</td>\n",
       "      <td>1 Review</td>\n",
       "      <td>2019-05-18 01:35:00.000000</td>\n",
       "      <td>0</td>\n",
       "    </tr>\n",
       "    <tr>\n",
       "      <th>1</th>\n",
       "      <td>Dine O China</td>\n",
       "      <td>Swarn Lata Singh</td>\n",
       "      <td>poor quality</td>\n",
       "      <td>2</td>\n",
       "      <td>8 Reviews , 4 Followers</td>\n",
       "      <td>2018-08-11 14:44:00.000000</td>\n",
       "      <td>0</td>\n",
       "    </tr>\n",
       "    <tr>\n",
       "      <th>2</th>\n",
       "      <td>Hotel Zara Hi-Fi</td>\n",
       "      <td>Samadhan Pawar</td>\n",
       "      <td>Worst experience with delivery time.. It took ...</td>\n",
       "      <td>1</td>\n",
       "      <td>1 Review , 1 Follower</td>\n",
       "      <td>2018-10-02 14:40:00.000000</td>\n",
       "      <td>0</td>\n",
       "    </tr>\n",
       "    <tr>\n",
       "      <th>3</th>\n",
       "      <td>Driven Cafe</td>\n",
       "      <td>Tanvi Naik/ Taste.a.licious</td>\n",
       "      <td>What's not to love here ... The best and the m...</td>\n",
       "      <td>5</td>\n",
       "      <td>36 Reviews , 2045 Followers</td>\n",
       "      <td>2018-08-18 23:20:00.000000</td>\n",
       "      <td>3</td>\n",
       "    </tr>\n",
       "    <tr>\n",
       "      <th>4</th>\n",
       "      <td>KFC</td>\n",
       "      <td>Umesh Gopu</td>\n",
       "      <td>worst</td>\n",
       "      <td>1</td>\n",
       "      <td>1 Review , 6 Followers</td>\n",
       "      <td>2018-07-25 20:49:59.999999</td>\n",
       "      <td>0</td>\n",
       "    </tr>\n",
       "  </tbody>\n",
       "</table>\n",
       "</div>"
      ],
      "text/plain": [
       "    Restaurant_Name                Reviewer_Name  \\\n",
       "0        Tiki Shack                        Priya   \n",
       "1      Dine O China             Swarn Lata Singh   \n",
       "2  Hotel Zara Hi-Fi               Samadhan Pawar   \n",
       "3       Driven Cafe  Tanvi Naik/ Taste.a.licious   \n",
       "4               KFC                   Umesh Gopu   \n",
       "\n",
       "                                         Review_Text Rating(1 - 5)  \\\n",
       "0  The place was good, ambiance was very nice! Mu...             4   \n",
       "1                                       poor quality             2   \n",
       "2  Worst experience with delivery time.. It took ...             1   \n",
       "3  What's not to love here ... The best and the m...             5   \n",
       "4                                              worst             1   \n",
       "\n",
       "           Reviews & Followers                       Time  Pictures_uploaded  \n",
       "0                     1 Review 2019-05-18 01:35:00.000000                  0  \n",
       "1      8 Reviews , 4 Followers 2018-08-11 14:44:00.000000                  0  \n",
       "2        1 Review , 1 Follower 2018-10-02 14:40:00.000000                  0  \n",
       "3  36 Reviews , 2045 Followers 2018-08-18 23:20:00.000000                  3  \n",
       "4       1 Review , 6 Followers 2018-07-25 20:49:59.999999                  0  "
      ]
     },
     "execution_count": 235,
     "metadata": {},
     "output_type": "execute_result"
    }
   ],
   "source": [
    "#reading excel file using pandas library\n",
    "df = pd.read_excel('Foodie_Community_Train.xlsx')\n",
    "#display top 5 records of the data\n",
    "df.head()"
   ]
  },
  {
   "cell_type": "code",
   "execution_count": 126,
   "metadata": {
    "colab": {
     "base_uri": "https://localhost:8080/",
     "height": 277
    },
    "id": "1ywW4TNfxgSF",
    "outputId": "73fd3f86-a02f-4fe0-e6e1-f20a250e4115"
   },
   "outputs": [
    {
     "data": {
      "text/html": [
       "<div>\n",
       "<style scoped>\n",
       "    .dataframe tbody tr th:only-of-type {\n",
       "        vertical-align: middle;\n",
       "    }\n",
       "\n",
       "    .dataframe tbody tr th {\n",
       "        vertical-align: top;\n",
       "    }\n",
       "\n",
       "    .dataframe thead th {\n",
       "        text-align: right;\n",
       "    }\n",
       "</style>\n",
       "<table border=\"1\" class=\"dataframe\">\n",
       "  <thead>\n",
       "    <tr style=\"text-align: right;\">\n",
       "      <th></th>\n",
       "      <th>Pictures_uploaded</th>\n",
       "    </tr>\n",
       "  </thead>\n",
       "  <tbody>\n",
       "    <tr>\n",
       "      <th>count</th>\n",
       "      <td>6400.000000</td>\n",
       "    </tr>\n",
       "    <tr>\n",
       "      <th>mean</th>\n",
       "      <td>0.718594</td>\n",
       "    </tr>\n",
       "    <tr>\n",
       "      <th>std</th>\n",
       "      <td>2.437472</td>\n",
       "    </tr>\n",
       "    <tr>\n",
       "      <th>min</th>\n",
       "      <td>0.000000</td>\n",
       "    </tr>\n",
       "    <tr>\n",
       "      <th>25%</th>\n",
       "      <td>0.000000</td>\n",
       "    </tr>\n",
       "    <tr>\n",
       "      <th>50%</th>\n",
       "      <td>0.000000</td>\n",
       "    </tr>\n",
       "    <tr>\n",
       "      <th>75%</th>\n",
       "      <td>0.000000</td>\n",
       "    </tr>\n",
       "    <tr>\n",
       "      <th>max</th>\n",
       "      <td>52.000000</td>\n",
       "    </tr>\n",
       "  </tbody>\n",
       "</table>\n",
       "</div>"
      ],
      "text/plain": [
       "       Pictures_uploaded\n",
       "count        6400.000000\n",
       "mean            0.718594\n",
       "std             2.437472\n",
       "min             0.000000\n",
       "25%             0.000000\n",
       "50%             0.000000\n",
       "75%             0.000000\n",
       "max            52.000000"
      ]
     },
     "execution_count": 126,
     "metadata": {},
     "output_type": "execute_result"
    }
   ],
   "source": [
    "#checking descriptive features of numeric columns \n",
    "df.describe()"
   ]
  },
  {
   "cell_type": "code",
   "execution_count": 127,
   "metadata": {},
   "outputs": [
    {
     "data": {
      "text/html": [
       "<div>\n",
       "<style scoped>\n",
       "    .dataframe tbody tr th:only-of-type {\n",
       "        vertical-align: middle;\n",
       "    }\n",
       "\n",
       "    .dataframe tbody tr th {\n",
       "        vertical-align: top;\n",
       "    }\n",
       "\n",
       "    .dataframe thead th {\n",
       "        text-align: right;\n",
       "    }\n",
       "</style>\n",
       "<table border=\"1\" class=\"dataframe\">\n",
       "  <thead>\n",
       "    <tr style=\"text-align: right;\">\n",
       "      <th></th>\n",
       "      <th>Restaurant_Name</th>\n",
       "      <th>Reviewer_Name</th>\n",
       "      <th>Review_Text</th>\n",
       "      <th>Rating(1 - 5)</th>\n",
       "      <th>Reviews &amp; Followers</th>\n",
       "    </tr>\n",
       "  </thead>\n",
       "  <tbody>\n",
       "    <tr>\n",
       "      <th>count</th>\n",
       "      <td>6400</td>\n",
       "      <td>6400</td>\n",
       "      <td>6396</td>\n",
       "      <td>6400</td>\n",
       "      <td>6400</td>\n",
       "    </tr>\n",
       "    <tr>\n",
       "      <th>unique</th>\n",
       "      <td>80</td>\n",
       "      <td>5068</td>\n",
       "      <td>6047</td>\n",
       "      <td>10</td>\n",
       "      <td>1884</td>\n",
       "    </tr>\n",
       "    <tr>\n",
       "      <th>top</th>\n",
       "      <td>Komatose - Holiday Inn Express &amp; Suites</td>\n",
       "      <td>Parijat Ray</td>\n",
       "      <td>good</td>\n",
       "      <td>5</td>\n",
       "      <td>1 Review</td>\n",
       "    </tr>\n",
       "    <tr>\n",
       "      <th>freq</th>\n",
       "      <td>90</td>\n",
       "      <td>11</td>\n",
       "      <td>152</td>\n",
       "      <td>2482</td>\n",
       "      <td>600</td>\n",
       "    </tr>\n",
       "  </tbody>\n",
       "</table>\n",
       "</div>"
      ],
      "text/plain": [
       "                                Restaurant_Name Reviewer_Name Review_Text  \\\n",
       "count                                      6400          6400        6396   \n",
       "unique                                       80          5068        6047   \n",
       "top     Komatose - Holiday Inn Express & Suites   Parijat Ray        good   \n",
       "freq                                         90            11         152   \n",
       "\n",
       "        Rating(1 - 5) Reviews & Followers  \n",
       "count            6400                6400  \n",
       "unique             10                1884  \n",
       "top                 5            1 Review  \n",
       "freq             2482                 600  "
      ]
     },
     "execution_count": 127,
     "metadata": {},
     "output_type": "execute_result"
    }
   ],
   "source": [
    "#df.describe(include='objects')checking descriptive features of catergorical columns\n",
    "df.describe(include='object')"
   ]
  },
  {
   "cell_type": "code",
   "execution_count": 128,
   "metadata": {
    "colab": {
     "base_uri": "https://localhost:8080/"
    },
    "id": "lWUgn_EJxgIL",
    "outputId": "09fdc5c7-ee91-476d-b150-3298e55ae1d9"
   },
   "outputs": [
    {
     "name": "stdout",
     "output_type": "stream",
     "text": [
      "<class 'pandas.core.frame.DataFrame'>\n",
      "RangeIndex: 6400 entries, 0 to 6399\n",
      "Data columns (total 7 columns):\n",
      " #   Column               Non-Null Count  Dtype         \n",
      "---  ------               --------------  -----         \n",
      " 0   Restaurant_Name      6400 non-null   object        \n",
      " 1   Reviewer_Name        6400 non-null   object        \n",
      " 2   Review_Text          6396 non-null   object        \n",
      " 3   Rating(1 - 5)        6400 non-null   object        \n",
      " 4   Reviews & Followers  6400 non-null   object        \n",
      " 5   Time                 6400 non-null   datetime64[ns]\n",
      " 6   Pictures_uploaded    6400 non-null   int64         \n",
      "dtypes: datetime64[ns](1), int64(1), object(5)\n",
      "memory usage: 350.1+ KB\n"
     ]
    }
   ],
   "source": [
    "#checking null and datatypes\n",
    "df.info()"
   ]
  },
  {
   "cell_type": "code",
   "execution_count": 130,
   "metadata": {},
   "outputs": [
    {
     "data": {
      "text/plain": [
       "(6400, 7)"
      ]
     },
     "execution_count": 130,
     "metadata": {},
     "output_type": "execute_result"
    }
   ],
   "source": [
    "#checking dimension of dataset\n",
    "df.shape"
   ]
  },
  {
   "cell_type": "code",
   "execution_count": 131,
   "metadata": {
    "colab": {
     "base_uri": "https://localhost:8080/"
    },
    "id": "BqPpCM5613Ht",
    "outputId": "953219c0-9d6f-4f13-b0c8-c34cf6f828a3"
   },
   "outputs": [
    {
     "data": {
      "text/plain": [
       "Restaurant_Name        0\n",
       "Reviewer_Name          0\n",
       "Review_Text            4\n",
       "Rating(1 - 5)          0\n",
       "Reviews & Followers    0\n",
       "Time                   0\n",
       "Pictures_uploaded      0\n",
       "dtype: int64"
      ]
     },
     "execution_count": 131,
     "metadata": {},
     "output_type": "execute_result"
    }
   ],
   "source": [
    "#checking null values\n",
    "df.isnull().sum()"
   ]
  },
  {
   "cell_type": "code",
   "execution_count": 132,
   "metadata": {
    "id": "AonrCLdb2Xx1"
   },
   "outputs": [],
   "source": [
    "#droping records with null values \n",
    "df.dropna(inplace=True)"
   ]
  },
  {
   "cell_type": "markdown",
   "metadata": {
    "id": "zKuB0xmWN0BF"
   },
   "source": [
    "<a id='feature'></a>\n",
    "# 3.FEATURE ENGINEERING"
   ]
  },
  {
   "cell_type": "code",
   "execution_count": null,
   "metadata": {},
   "outputs": [],
   "source": [
    "#spliting up reviews and followers\n",
    "df['list_of_reviews_followers'] = df['Reviews & Followers'].apply(lambda x: x.split(' '))"
   ]
  },
  {
   "cell_type": "code",
   "execution_count": 136,
   "metadata": {
    "id": "5m7F-5OMGVJA"
   },
   "outputs": [],
   "source": [
    "df['followers'] = df['list_of_reviews_followers'].apply(lambda x: x[-2] if len(x) > 2 else 0)"
   ]
  },
  {
   "cell_type": "code",
   "execution_count": 137,
   "metadata": {
    "id": "5_-MnO2zGVBA"
   },
   "outputs": [],
   "source": [
    "df['reviews'] = df['list_of_reviews_followers'].apply(lambda x: x[0])"
   ]
  },
  {
   "cell_type": "code",
   "execution_count": 138,
   "metadata": {
    "id": "xMc7jCoTGUVM"
   },
   "outputs": [],
   "source": [
    "#droping the original 'Reviews & Followers' and 'list_of_reviews_followers' columns \n",
    "df.drop(['list_of_reviews_followers', 'Reviews & Followers'], axis=1, inplace=True)"
   ]
  },
  {
   "cell_type": "code",
   "execution_count": 140,
   "metadata": {},
   "outputs": [
    {
     "data": {
      "text/plain": [
       "array([4, 2, 1, 5, 3, 3.5, 4.5, 2.5, 1.5, 'Like'], dtype=object)"
      ]
     },
     "execution_count": 140,
     "metadata": {},
     "output_type": "execute_result"
    }
   ],
   "source": [
    "#checking unique elements in target variable\n",
    "df['Rating(1 - 5)'].unique()"
   ]
  },
  {
   "cell_type": "code",
   "execution_count": 141,
   "metadata": {},
   "outputs": [],
   "source": [
    "#replacing 'Like' with mode \n",
    "df['Rating(1 - 5)'].replace('Like', df['Rating(1 - 5)'].mode()[0], inplace=True)"
   ]
  },
  {
   "cell_type": "code",
   "execution_count": 143,
   "metadata": {},
   "outputs": [
    {
     "data": {
      "text/plain": [
       "(6396,)"
      ]
     },
     "execution_count": 143,
     "metadata": {},
     "output_type": "execute_result"
    }
   ],
   "source": [
    "#checking shape of target variable\n",
    "df['Rating(1 - 5)'].shape"
   ]
  },
  {
   "cell_type": "code",
   "execution_count": 144,
   "metadata": {},
   "outputs": [
    {
     "data": {
      "text/html": [
       "<div>\n",
       "<style scoped>\n",
       "    .dataframe tbody tr th:only-of-type {\n",
       "        vertical-align: middle;\n",
       "    }\n",
       "\n",
       "    .dataframe tbody tr th {\n",
       "        vertical-align: top;\n",
       "    }\n",
       "\n",
       "    .dataframe thead th {\n",
       "        text-align: right;\n",
       "    }\n",
       "</style>\n",
       "<table border=\"1\" class=\"dataframe\">\n",
       "  <thead>\n",
       "    <tr style=\"text-align: right;\">\n",
       "      <th></th>\n",
       "      <th>Restaurant_Name</th>\n",
       "      <th>Reviewer_Name</th>\n",
       "      <th>Review_Text</th>\n",
       "      <th>Rating(1 - 5)</th>\n",
       "      <th>Time</th>\n",
       "      <th>Pictures_uploaded</th>\n",
       "      <th>followers</th>\n",
       "      <th>reviews</th>\n",
       "    </tr>\n",
       "  </thead>\n",
       "  <tbody>\n",
       "    <tr>\n",
       "      <th>0</th>\n",
       "      <td>Tiki Shack</td>\n",
       "      <td>Priya</td>\n",
       "      <td>The place was good, ambiance was very nice! Mu...</td>\n",
       "      <td>4.0</td>\n",
       "      <td>2019-05-18 01:35:00.000000</td>\n",
       "      <td>0</td>\n",
       "      <td>0</td>\n",
       "      <td>1</td>\n",
       "    </tr>\n",
       "    <tr>\n",
       "      <th>1</th>\n",
       "      <td>Dine O China</td>\n",
       "      <td>Swarn Lata Singh</td>\n",
       "      <td>poor quality</td>\n",
       "      <td>2.0</td>\n",
       "      <td>2018-08-11 14:44:00.000000</td>\n",
       "      <td>0</td>\n",
       "      <td>4</td>\n",
       "      <td>8</td>\n",
       "    </tr>\n",
       "    <tr>\n",
       "      <th>2</th>\n",
       "      <td>Hotel Zara Hi-Fi</td>\n",
       "      <td>Samadhan Pawar</td>\n",
       "      <td>Worst experience with delivery time.. It took ...</td>\n",
       "      <td>1.0</td>\n",
       "      <td>2018-10-02 14:40:00.000000</td>\n",
       "      <td>0</td>\n",
       "      <td>1</td>\n",
       "      <td>1</td>\n",
       "    </tr>\n",
       "    <tr>\n",
       "      <th>3</th>\n",
       "      <td>Driven Cafe</td>\n",
       "      <td>Tanvi Naik/ Taste.a.licious</td>\n",
       "      <td>What's not to love here ... The best and the m...</td>\n",
       "      <td>5.0</td>\n",
       "      <td>2018-08-18 23:20:00.000000</td>\n",
       "      <td>3</td>\n",
       "      <td>2045</td>\n",
       "      <td>36</td>\n",
       "    </tr>\n",
       "    <tr>\n",
       "      <th>4</th>\n",
       "      <td>KFC</td>\n",
       "      <td>Umesh Gopu</td>\n",
       "      <td>worst</td>\n",
       "      <td>1.0</td>\n",
       "      <td>2018-07-25 20:49:59.999999</td>\n",
       "      <td>0</td>\n",
       "      <td>6</td>\n",
       "      <td>1</td>\n",
       "    </tr>\n",
       "  </tbody>\n",
       "</table>\n",
       "</div>"
      ],
      "text/plain": [
       "    Restaurant_Name                Reviewer_Name  \\\n",
       "0        Tiki Shack                        Priya   \n",
       "1      Dine O China             Swarn Lata Singh   \n",
       "2  Hotel Zara Hi-Fi               Samadhan Pawar   \n",
       "3       Driven Cafe  Tanvi Naik/ Taste.a.licious   \n",
       "4               KFC                   Umesh Gopu   \n",
       "\n",
       "                                         Review_Text  Rating(1 - 5)  \\\n",
       "0  The place was good, ambiance was very nice! Mu...            4.0   \n",
       "1                                       poor quality            2.0   \n",
       "2  Worst experience with delivery time.. It took ...            1.0   \n",
       "3  What's not to love here ... The best and the m...            5.0   \n",
       "4                                              worst            1.0   \n",
       "\n",
       "                        Time  Pictures_uploaded followers reviews  \n",
       "0 2019-05-18 01:35:00.000000                  0         0       1  \n",
       "1 2018-08-11 14:44:00.000000                  0         4       8  \n",
       "2 2018-10-02 14:40:00.000000                  0         1       1  \n",
       "3 2018-08-18 23:20:00.000000                  3      2045      36  \n",
       "4 2018-07-25 20:49:59.999999                  0         6       1  "
      ]
     },
     "execution_count": 144,
     "metadata": {},
     "output_type": "execute_result"
    }
   ],
   "source": [
    "#checking top 5 records after feature engineering.\n",
    "df.head()"
   ]
  },
  {
   "cell_type": "markdown",
   "metadata": {},
   "source": [
    "<a id='eda'></a>\n",
    "# 4.EXPLORATORY DATA ANALYSIS"
   ]
  },
  {
   "cell_type": "code",
   "execution_count": 145,
   "metadata": {},
   "outputs": [
    {
     "data": {
      "text/plain": [
       "<AxesSubplot:xlabel='Rating(1 - 5)', ylabel='count'>"
      ]
     },
     "execution_count": 145,
     "metadata": {},
     "output_type": "execute_result"
    },
    {
     "data": {
      "image/png": "[encoded data removed]",
      "text/plain": [
       "<Figure size 432x288 with 1 Axes>"
      ]
     },
     "metadata": {
      "needs_background": "light"
     },
     "output_type": "display_data"
    }
   ],
   "source": [
    "#lets plot a countplot for rating (Target variable)\n",
    "sns.countplot(df['Rating(1 - 5)'])"
   ]
  },
  {
   "cell_type": "code",
   "execution_count": null,
   "metadata": {},
   "outputs": [],
   "source": [
    "# Highest ratings given is 5."
   ]
  },
  {
   "cell_type": "code",
   "execution_count": 146,
   "metadata": {},
   "outputs": [],
   "source": [
    "#converting string object to float(numeric) for column followers and reviews\n",
    "df['reviews'] = df['reviews'].astype(float)\n",
    "df['followers'] = df['followers'].astype(float)"
   ]
  },
  {
   "cell_type": "code",
   "execution_count": 147,
   "metadata": {},
   "outputs": [
    {
     "data": {
      "text/plain": [
       "<AxesSubplot:xlabel='Rating(1 - 5)', ylabel='reviews'>"
      ]
     },
     "execution_count": 147,
     "metadata": {},
     "output_type": "execute_result"
    },
    {
     "data": {
      "image/png": "[encoded data removed]",
      "text/plain": [
       "<Figure size 432x288 with 1 Axes>"
      ]
     },
     "metadata": {
      "needs_background": "light"
     },
     "output_type": "display_data"
    }
   ],
   "source": [
    "#lets plot a barplot for rating and reviews\n",
    "sns.barplot(df['Rating(1 - 5)'], df['reviews'])"
   ]
  },
  {
   "cell_type": "code",
   "execution_count": null,
   "metadata": {},
   "outputs": [],
   "source": [
    "# Rating with respect to reviews highest is 3.5 "
   ]
  },
  {
   "cell_type": "code",
   "execution_count": 148,
   "metadata": {},
   "outputs": [
    {
     "data": {
      "text/plain": [
       "<AxesSubplot:xlabel='Rating(1 - 5)', ylabel='followers'>"
      ]
     },
     "execution_count": 148,
     "metadata": {},
     "output_type": "execute_result"
    },
    {
     "data": {
      "image/png": "[encoded data removed]",
      "text/plain": [
       "<Figure size 432x288 with 1 Axes>"
      ]
     },
     "metadata": {
      "needs_background": "light"
     },
     "output_type": "display_data"
    }
   ],
   "source": [
    "#lets plot a barplot for rating and followers\n",
    "sns.barplot(df['Rating(1 - 5)'], df['followers'])"
   ]
  },
  {
   "cell_type": "code",
   "execution_count": null,
   "metadata": {},
   "outputs": [],
   "source": [
    "# Followers who follow them has been giving the highest rating of 4.5"
   ]
  },
  {
   "cell_type": "code",
   "execution_count": 149,
   "metadata": {
    "id": "FqHFCg--N-ms"
   },
   "outputs": [],
   "source": [
    "#For extracting year,month and day to new column,follow the code:\n",
    "df['year'] = df['Time'].dt.year\n",
    "df['month'] = df['Time'].dt.month\n",
    "df['day'] = df['Time'].dt.day\n",
    "df['hour'] = df['Time'].dt.hour\n",
    "df['day_of_week'] = df['Time'].dt.dayofweek"
   ]
  },
  {
   "cell_type": "code",
   "execution_count": 150,
   "metadata": {
    "colab": {
     "base_uri": "https://localhost:8080/",
     "height": 288
    },
    "id": "IG82GeHBN-MF",
    "outputId": "a2ffec32-3d04-456f-9d5e-3cdb11a303be"
   },
   "outputs": [
    {
     "data": {
      "text/html": [
       "<div>\n",
       "<style scoped>\n",
       "    .dataframe tbody tr th:only-of-type {\n",
       "        vertical-align: middle;\n",
       "    }\n",
       "\n",
       "    .dataframe tbody tr th {\n",
       "        vertical-align: top;\n",
       "    }\n",
       "\n",
       "    .dataframe thead th {\n",
       "        text-align: right;\n",
       "    }\n",
       "</style>\n",
       "<table border=\"1\" class=\"dataframe\">\n",
       "  <thead>\n",
       "    <tr style=\"text-align: right;\">\n",
       "      <th></th>\n",
       "      <th>Restaurant_Name</th>\n",
       "      <th>Reviewer_Name</th>\n",
       "      <th>Review_Text</th>\n",
       "      <th>Rating(1 - 5)</th>\n",
       "      <th>Time</th>\n",
       "      <th>Pictures_uploaded</th>\n",
       "      <th>followers</th>\n",
       "      <th>reviews</th>\n",
       "      <th>year</th>\n",
       "      <th>month</th>\n",
       "      <th>day</th>\n",
       "      <th>hour</th>\n",
       "      <th>day_of_week</th>\n",
       "    </tr>\n",
       "  </thead>\n",
       "  <tbody>\n",
       "    <tr>\n",
       "      <th>0</th>\n",
       "      <td>Tiki Shack</td>\n",
       "      <td>Priya</td>\n",
       "      <td>The place was good, ambiance was very nice! Mu...</td>\n",
       "      <td>4.0</td>\n",
       "      <td>2019-05-18 01:35:00.000000</td>\n",
       "      <td>0</td>\n",
       "      <td>0.0</td>\n",
       "      <td>1.0</td>\n",
       "      <td>2019</td>\n",
       "      <td>5</td>\n",
       "      <td>18</td>\n",
       "      <td>1</td>\n",
       "      <td>5</td>\n",
       "    </tr>\n",
       "    <tr>\n",
       "      <th>1</th>\n",
       "      <td>Dine O China</td>\n",
       "      <td>Swarn Lata Singh</td>\n",
       "      <td>poor quality</td>\n",
       "      <td>2.0</td>\n",
       "      <td>2018-08-11 14:44:00.000000</td>\n",
       "      <td>0</td>\n",
       "      <td>4.0</td>\n",
       "      <td>8.0</td>\n",
       "      <td>2018</td>\n",
       "      <td>8</td>\n",
       "      <td>11</td>\n",
       "      <td>14</td>\n",
       "      <td>5</td>\n",
       "    </tr>\n",
       "    <tr>\n",
       "      <th>2</th>\n",
       "      <td>Hotel Zara Hi-Fi</td>\n",
       "      <td>Samadhan Pawar</td>\n",
       "      <td>Worst experience with delivery time.. It took ...</td>\n",
       "      <td>1.0</td>\n",
       "      <td>2018-10-02 14:40:00.000000</td>\n",
       "      <td>0</td>\n",
       "      <td>1.0</td>\n",
       "      <td>1.0</td>\n",
       "      <td>2018</td>\n",
       "      <td>10</td>\n",
       "      <td>2</td>\n",
       "      <td>14</td>\n",
       "      <td>1</td>\n",
       "    </tr>\n",
       "    <tr>\n",
       "      <th>3</th>\n",
       "      <td>Driven Cafe</td>\n",
       "      <td>Tanvi Naik/ Taste.a.licious</td>\n",
       "      <td>What's not to love here ... The best and the m...</td>\n",
       "      <td>5.0</td>\n",
       "      <td>2018-08-18 23:20:00.000000</td>\n",
       "      <td>3</td>\n",
       "      <td>2045.0</td>\n",
       "      <td>36.0</td>\n",
       "      <td>2018</td>\n",
       "      <td>8</td>\n",
       "      <td>18</td>\n",
       "      <td>23</td>\n",
       "      <td>5</td>\n",
       "    </tr>\n",
       "    <tr>\n",
       "      <th>4</th>\n",
       "      <td>KFC</td>\n",
       "      <td>Umesh Gopu</td>\n",
       "      <td>worst</td>\n",
       "      <td>1.0</td>\n",
       "      <td>2018-07-25 20:49:59.999999</td>\n",
       "      <td>0</td>\n",
       "      <td>6.0</td>\n",
       "      <td>1.0</td>\n",
       "      <td>2018</td>\n",
       "      <td>7</td>\n",
       "      <td>25</td>\n",
       "      <td>20</td>\n",
       "      <td>2</td>\n",
       "    </tr>\n",
       "  </tbody>\n",
       "</table>\n",
       "</div>"
      ],
      "text/plain": [
       "    Restaurant_Name                Reviewer_Name  \\\n",
       "0        Tiki Shack                        Priya   \n",
       "1      Dine O China             Swarn Lata Singh   \n",
       "2  Hotel Zara Hi-Fi               Samadhan Pawar   \n",
       "3       Driven Cafe  Tanvi Naik/ Taste.a.licious   \n",
       "4               KFC                   Umesh Gopu   \n",
       "\n",
       "                                         Review_Text  Rating(1 - 5)  \\\n",
       "0  The place was good, ambiance was very nice! Mu...            4.0   \n",
       "1                                       poor quality            2.0   \n",
       "2  Worst experience with delivery time.. It took ...            1.0   \n",
       "3  What's not to love here ... The best and the m...            5.0   \n",
       "4                                              worst            1.0   \n",
       "\n",
       "                        Time  Pictures_uploaded  followers  reviews  year  \\\n",
       "0 2019-05-18 01:35:00.000000                  0        0.0      1.0  2019   \n",
       "1 2018-08-11 14:44:00.000000                  0        4.0      8.0  2018   \n",
       "2 2018-10-02 14:40:00.000000                  0        1.0      1.0  2018   \n",
       "3 2018-08-18 23:20:00.000000                  3     2045.0     36.0  2018   \n",
       "4 2018-07-25 20:49:59.999999                  0        6.0      1.0  2018   \n",
       "\n",
       "   month  day  hour  day_of_week  \n",
       "0      5   18     1            5  \n",
       "1      8   11    14            5  \n",
       "2     10    2    14            1  \n",
       "3      8   18    23            5  \n",
       "4      7   25    20            2  "
      ]
     },
     "execution_count": 150,
     "metadata": {},
     "output_type": "execute_result"
    }
   ],
   "source": [
    "df.head()"
   ]
  },
  {
   "cell_type": "code",
   "execution_count": 151,
   "metadata": {
    "id": "xAnIamG4N989"
   },
   "outputs": [],
   "source": [
    "#droping 'Time' column\n",
    "df.drop('Time', axis=1, inplace=True)"
   ]
  },
  {
   "cell_type": "code",
   "execution_count": 152,
   "metadata": {
    "colab": {
     "base_uri": "https://localhost:8080/",
     "height": 191
    },
    "id": "6uTOTuhUN9tp",
    "outputId": "1d467d9a-aab0-4a23-b4bc-bdf5ebddce39"
   },
   "outputs": [
    {
     "data": {
      "text/html": [
       "<div>\n",
       "<style scoped>\n",
       "    .dataframe tbody tr th:only-of-type {\n",
       "        vertical-align: middle;\n",
       "    }\n",
       "\n",
       "    .dataframe tbody tr th {\n",
       "        vertical-align: top;\n",
       "    }\n",
       "\n",
       "    .dataframe thead th {\n",
       "        text-align: right;\n",
       "    }\n",
       "</style>\n",
       "<table border=\"1\" class=\"dataframe\">\n",
       "  <thead>\n",
       "    <tr style=\"text-align: right;\">\n",
       "      <th></th>\n",
       "      <th>Restaurant_Name</th>\n",
       "      <th>Reviewer_Name</th>\n",
       "      <th>Review_Text</th>\n",
       "      <th>Rating(1 - 5)</th>\n",
       "      <th>Pictures_uploaded</th>\n",
       "      <th>followers</th>\n",
       "      <th>reviews</th>\n",
       "      <th>year</th>\n",
       "      <th>month</th>\n",
       "      <th>day</th>\n",
       "      <th>hour</th>\n",
       "      <th>day_of_week</th>\n",
       "    </tr>\n",
       "  </thead>\n",
       "  <tbody>\n",
       "    <tr>\n",
       "      <th>0</th>\n",
       "      <td>Tiki Shack</td>\n",
       "      <td>Priya</td>\n",
       "      <td>The place was good, ambiance was very nice! Mu...</td>\n",
       "      <td>4.0</td>\n",
       "      <td>0</td>\n",
       "      <td>0.0</td>\n",
       "      <td>1.0</td>\n",
       "      <td>2019</td>\n",
       "      <td>5</td>\n",
       "      <td>18</td>\n",
       "      <td>1</td>\n",
       "      <td>5</td>\n",
       "    </tr>\n",
       "    <tr>\n",
       "      <th>1</th>\n",
       "      <td>Dine O China</td>\n",
       "      <td>Swarn Lata Singh</td>\n",
       "      <td>poor quality</td>\n",
       "      <td>2.0</td>\n",
       "      <td>0</td>\n",
       "      <td>4.0</td>\n",
       "      <td>8.0</td>\n",
       "      <td>2018</td>\n",
       "      <td>8</td>\n",
       "      <td>11</td>\n",
       "      <td>14</td>\n",
       "      <td>5</td>\n",
       "    </tr>\n",
       "    <tr>\n",
       "      <th>2</th>\n",
       "      <td>Hotel Zara Hi-Fi</td>\n",
       "      <td>Samadhan Pawar</td>\n",
       "      <td>Worst experience with delivery time.. It took ...</td>\n",
       "      <td>1.0</td>\n",
       "      <td>0</td>\n",
       "      <td>1.0</td>\n",
       "      <td>1.0</td>\n",
       "      <td>2018</td>\n",
       "      <td>10</td>\n",
       "      <td>2</td>\n",
       "      <td>14</td>\n",
       "      <td>1</td>\n",
       "    </tr>\n",
       "    <tr>\n",
       "      <th>3</th>\n",
       "      <td>Driven Cafe</td>\n",
       "      <td>Tanvi Naik/ Taste.a.licious</td>\n",
       "      <td>What's not to love here ... The best and the m...</td>\n",
       "      <td>5.0</td>\n",
       "      <td>3</td>\n",
       "      <td>2045.0</td>\n",
       "      <td>36.0</td>\n",
       "      <td>2018</td>\n",
       "      <td>8</td>\n",
       "      <td>18</td>\n",
       "      <td>23</td>\n",
       "      <td>5</td>\n",
       "    </tr>\n",
       "    <tr>\n",
       "      <th>4</th>\n",
       "      <td>KFC</td>\n",
       "      <td>Umesh Gopu</td>\n",
       "      <td>worst</td>\n",
       "      <td>1.0</td>\n",
       "      <td>0</td>\n",
       "      <td>6.0</td>\n",
       "      <td>1.0</td>\n",
       "      <td>2018</td>\n",
       "      <td>7</td>\n",
       "      <td>25</td>\n",
       "      <td>20</td>\n",
       "      <td>2</td>\n",
       "    </tr>\n",
       "  </tbody>\n",
       "</table>\n",
       "</div>"
      ],
      "text/plain": [
       "    Restaurant_Name                Reviewer_Name  \\\n",
       "0        Tiki Shack                        Priya   \n",
       "1      Dine O China             Swarn Lata Singh   \n",
       "2  Hotel Zara Hi-Fi               Samadhan Pawar   \n",
       "3       Driven Cafe  Tanvi Naik/ Taste.a.licious   \n",
       "4               KFC                   Umesh Gopu   \n",
       "\n",
       "                                         Review_Text  Rating(1 - 5)  \\\n",
       "0  The place was good, ambiance was very nice! Mu...            4.0   \n",
       "1                                       poor quality            2.0   \n",
       "2  Worst experience with delivery time.. It took ...            1.0   \n",
       "3  What's not to love here ... The best and the m...            5.0   \n",
       "4                                              worst            1.0   \n",
       "\n",
       "   Pictures_uploaded  followers  reviews  year  month  day  hour  day_of_week  \n",
       "0                  0        0.0      1.0  2019      5   18     1            5  \n",
       "1                  0        4.0      8.0  2018      8   11    14            5  \n",
       "2                  0        1.0      1.0  2018     10    2    14            1  \n",
       "3                  3     2045.0     36.0  2018      8   18    23            5  \n",
       "4                  0        6.0      1.0  2018      7   25    20            2  "
      ]
     },
     "execution_count": 152,
     "metadata": {},
     "output_type": "execute_result"
    }
   ],
   "source": [
    "df.head()"
   ]
  },
  {
   "cell_type": "code",
   "execution_count": 153,
   "metadata": {},
   "outputs": [],
   "source": [
    "def food(x):\n",
    "    if x>=6 and x<=10:\n",
    "        return 'breakfast'\n",
    "    elif x>=10 and x<=12:\n",
    "        return 'brunch'\n",
    "    elif x>=12 and x<= 15:\n",
    "        return 'lunch'\n",
    "    elif x>=15 and x<=19:\n",
    "        return 'snacks'\n",
    "    elif x>=19 and x<=22:\n",
    "        return 'dinner'\n",
    "    else:\n",
    "        return 'late night dinner'"
   ]
  },
  {
   "cell_type": "code",
   "execution_count": 154,
   "metadata": {},
   "outputs": [],
   "source": [
    "df['type_of_food'] = df.hour.apply(food)"
   ]
  },
  {
   "cell_type": "code",
   "execution_count": 155,
   "metadata": {},
   "outputs": [
    {
     "data": {
      "text/html": [
       "<div>\n",
       "<style scoped>\n",
       "    .dataframe tbody tr th:only-of-type {\n",
       "        vertical-align: middle;\n",
       "    }\n",
       "\n",
       "    .dataframe tbody tr th {\n",
       "        vertical-align: top;\n",
       "    }\n",
       "\n",
       "    .dataframe thead th {\n",
       "        text-align: right;\n",
       "    }\n",
       "</style>\n",
       "<table border=\"1\" class=\"dataframe\">\n",
       "  <thead>\n",
       "    <tr style=\"text-align: right;\">\n",
       "      <th></th>\n",
       "      <th>Restaurant_Name</th>\n",
       "      <th>Reviewer_Name</th>\n",
       "      <th>Review_Text</th>\n",
       "      <th>Rating(1 - 5)</th>\n",
       "      <th>Pictures_uploaded</th>\n",
       "      <th>followers</th>\n",
       "      <th>reviews</th>\n",
       "      <th>year</th>\n",
       "      <th>month</th>\n",
       "      <th>day</th>\n",
       "      <th>hour</th>\n",
       "      <th>day_of_week</th>\n",
       "      <th>type_of_food</th>\n",
       "    </tr>\n",
       "  </thead>\n",
       "  <tbody>\n",
       "    <tr>\n",
       "      <th>0</th>\n",
       "      <td>Tiki Shack</td>\n",
       "      <td>Priya</td>\n",
       "      <td>The place was good, ambiance was very nice! Mu...</td>\n",
       "      <td>4.0</td>\n",
       "      <td>0</td>\n",
       "      <td>0.0</td>\n",
       "      <td>1.0</td>\n",
       "      <td>2019</td>\n",
       "      <td>5</td>\n",
       "      <td>18</td>\n",
       "      <td>1</td>\n",
       "      <td>5</td>\n",
       "      <td>late night dinner</td>\n",
       "    </tr>\n",
       "    <tr>\n",
       "      <th>1</th>\n",
       "      <td>Dine O China</td>\n",
       "      <td>Swarn Lata Singh</td>\n",
       "      <td>poor quality</td>\n",
       "      <td>2.0</td>\n",
       "      <td>0</td>\n",
       "      <td>4.0</td>\n",
       "      <td>8.0</td>\n",
       "      <td>2018</td>\n",
       "      <td>8</td>\n",
       "      <td>11</td>\n",
       "      <td>14</td>\n",
       "      <td>5</td>\n",
       "      <td>lunch</td>\n",
       "    </tr>\n",
       "    <tr>\n",
       "      <th>2</th>\n",
       "      <td>Hotel Zara Hi-Fi</td>\n",
       "      <td>Samadhan Pawar</td>\n",
       "      <td>Worst experience with delivery time.. It took ...</td>\n",
       "      <td>1.0</td>\n",
       "      <td>0</td>\n",
       "      <td>1.0</td>\n",
       "      <td>1.0</td>\n",
       "      <td>2018</td>\n",
       "      <td>10</td>\n",
       "      <td>2</td>\n",
       "      <td>14</td>\n",
       "      <td>1</td>\n",
       "      <td>lunch</td>\n",
       "    </tr>\n",
       "    <tr>\n",
       "      <th>3</th>\n",
       "      <td>Driven Cafe</td>\n",
       "      <td>Tanvi Naik/ Taste.a.licious</td>\n",
       "      <td>What's not to love here ... The best and the m...</td>\n",
       "      <td>5.0</td>\n",
       "      <td>3</td>\n",
       "      <td>2045.0</td>\n",
       "      <td>36.0</td>\n",
       "      <td>2018</td>\n",
       "      <td>8</td>\n",
       "      <td>18</td>\n",
       "      <td>23</td>\n",
       "      <td>5</td>\n",
       "      <td>late night dinner</td>\n",
       "    </tr>\n",
       "    <tr>\n",
       "      <th>4</th>\n",
       "      <td>KFC</td>\n",
       "      <td>Umesh Gopu</td>\n",
       "      <td>worst</td>\n",
       "      <td>1.0</td>\n",
       "      <td>0</td>\n",
       "      <td>6.0</td>\n",
       "      <td>1.0</td>\n",
       "      <td>2018</td>\n",
       "      <td>7</td>\n",
       "      <td>25</td>\n",
       "      <td>20</td>\n",
       "      <td>2</td>\n",
       "      <td>dinner</td>\n",
       "    </tr>\n",
       "  </tbody>\n",
       "</table>\n",
       "</div>"
      ],
      "text/plain": [
       "    Restaurant_Name                Reviewer_Name  \\\n",
       "0        Tiki Shack                        Priya   \n",
       "1      Dine O China             Swarn Lata Singh   \n",
       "2  Hotel Zara Hi-Fi               Samadhan Pawar   \n",
       "3       Driven Cafe  Tanvi Naik/ Taste.a.licious   \n",
       "4               KFC                   Umesh Gopu   \n",
       "\n",
       "                                         Review_Text  Rating(1 - 5)  \\\n",
       "0  The place was good, ambiance was very nice! Mu...            4.0   \n",
       "1                                       poor quality            2.0   \n",
       "2  Worst experience with delivery time.. It took ...            1.0   \n",
       "3  What's not to love here ... The best and the m...            5.0   \n",
       "4                                              worst            1.0   \n",
       "\n",
       "   Pictures_uploaded  followers  reviews  year  month  day  hour  day_of_week  \\\n",
       "0                  0        0.0      1.0  2019      5   18     1            5   \n",
       "1                  0        4.0      8.0  2018      8   11    14            5   \n",
       "2                  0        1.0      1.0  2018     10    2    14            1   \n",
       "3                  3     2045.0     36.0  2018      8   18    23            5   \n",
       "4                  0        6.0      1.0  2018      7   25    20            2   \n",
       "\n",
       "        type_of_food  \n",
       "0  late night dinner  \n",
       "1              lunch  \n",
       "2              lunch  \n",
       "3  late night dinner  \n",
       "4             dinner  "
      ]
     },
     "execution_count": 155,
     "metadata": {},
     "output_type": "execute_result"
    }
   ],
   "source": [
    "df.head()"
   ]
  },
  {
   "cell_type": "code",
   "execution_count": 156,
   "metadata": {
    "id": "xk6zpXSgXAgL"
   },
   "outputs": [],
   "source": [
    "#droping Restaurant_Name and Reviewer_Name columns which are not important for building the model\n",
    "df.drop(['Restaurant_Name', 'Reviewer_Name'], axis=1, inplace=True)"
   ]
  },
  {
   "cell_type": "code",
   "execution_count": 157,
   "metadata": {
    "colab": {
     "base_uri": "https://localhost:8080/",
     "height": 191
    },
    "id": "NPp25hP-X_aH",
    "outputId": "2d9f5d88-5b3a-4fe0-8570-489ac0302b09"
   },
   "outputs": [
    {
     "data": {
      "text/html": [
       "<div>\n",
       "<style scoped>\n",
       "    .dataframe tbody tr th:only-of-type {\n",
       "        vertical-align: middle;\n",
       "    }\n",
       "\n",
       "    .dataframe tbody tr th {\n",
       "        vertical-align: top;\n",
       "    }\n",
       "\n",
       "    .dataframe thead th {\n",
       "        text-align: right;\n",
       "    }\n",
       "</style>\n",
       "<table border=\"1\" class=\"dataframe\">\n",
       "  <thead>\n",
       "    <tr style=\"text-align: right;\">\n",
       "      <th></th>\n",
       "      <th>Review_Text</th>\n",
       "      <th>Rating(1 - 5)</th>\n",
       "      <th>Pictures_uploaded</th>\n",
       "      <th>followers</th>\n",
       "      <th>reviews</th>\n",
       "      <th>year</th>\n",
       "      <th>month</th>\n",
       "      <th>day</th>\n",
       "      <th>hour</th>\n",
       "      <th>day_of_week</th>\n",
       "      <th>type_of_food</th>\n",
       "    </tr>\n",
       "  </thead>\n",
       "  <tbody>\n",
       "    <tr>\n",
       "      <th>0</th>\n",
       "      <td>The place was good, ambiance was very nice! Mu...</td>\n",
       "      <td>4.0</td>\n",
       "      <td>0</td>\n",
       "      <td>0.0</td>\n",
       "      <td>1.0</td>\n",
       "      <td>2019</td>\n",
       "      <td>5</td>\n",
       "      <td>18</td>\n",
       "      <td>1</td>\n",
       "      <td>5</td>\n",
       "      <td>late night dinner</td>\n",
       "    </tr>\n",
       "    <tr>\n",
       "      <th>1</th>\n",
       "      <td>poor quality</td>\n",
       "      <td>2.0</td>\n",
       "      <td>0</td>\n",
       "      <td>4.0</td>\n",
       "      <td>8.0</td>\n",
       "      <td>2018</td>\n",
       "      <td>8</td>\n",
       "      <td>11</td>\n",
       "      <td>14</td>\n",
       "      <td>5</td>\n",
       "      <td>lunch</td>\n",
       "    </tr>\n",
       "    <tr>\n",
       "      <th>2</th>\n",
       "      <td>Worst experience with delivery time.. It took ...</td>\n",
       "      <td>1.0</td>\n",
       "      <td>0</td>\n",
       "      <td>1.0</td>\n",
       "      <td>1.0</td>\n",
       "      <td>2018</td>\n",
       "      <td>10</td>\n",
       "      <td>2</td>\n",
       "      <td>14</td>\n",
       "      <td>1</td>\n",
       "      <td>lunch</td>\n",
       "    </tr>\n",
       "    <tr>\n",
       "      <th>3</th>\n",
       "      <td>What's not to love here ... The best and the m...</td>\n",
       "      <td>5.0</td>\n",
       "      <td>3</td>\n",
       "      <td>2045.0</td>\n",
       "      <td>36.0</td>\n",
       "      <td>2018</td>\n",
       "      <td>8</td>\n",
       "      <td>18</td>\n",
       "      <td>23</td>\n",
       "      <td>5</td>\n",
       "      <td>late night dinner</td>\n",
       "    </tr>\n",
       "    <tr>\n",
       "      <th>4</th>\n",
       "      <td>worst</td>\n",
       "      <td>1.0</td>\n",
       "      <td>0</td>\n",
       "      <td>6.0</td>\n",
       "      <td>1.0</td>\n",
       "      <td>2018</td>\n",
       "      <td>7</td>\n",
       "      <td>25</td>\n",
       "      <td>20</td>\n",
       "      <td>2</td>\n",
       "      <td>dinner</td>\n",
       "    </tr>\n",
       "  </tbody>\n",
       "</table>\n",
       "</div>"
      ],
      "text/plain": [
       "                                         Review_Text  Rating(1 - 5)  \\\n",
       "0  The place was good, ambiance was very nice! Mu...            4.0   \n",
       "1                                       poor quality            2.0   \n",
       "2  Worst experience with delivery time.. It took ...            1.0   \n",
       "3  What's not to love here ... The best and the m...            5.0   \n",
       "4                                              worst            1.0   \n",
       "\n",
       "   Pictures_uploaded  followers  reviews  year  month  day  hour  day_of_week  \\\n",
       "0                  0        0.0      1.0  2019      5   18     1            5   \n",
       "1                  0        4.0      8.0  2018      8   11    14            5   \n",
       "2                  0        1.0      1.0  2018     10    2    14            1   \n",
       "3                  3     2045.0     36.0  2018      8   18    23            5   \n",
       "4                  0        6.0      1.0  2018      7   25    20            2   \n",
       "\n",
       "        type_of_food  \n",
       "0  late night dinner  \n",
       "1              lunch  \n",
       "2              lunch  \n",
       "3  late night dinner  \n",
       "4             dinner  "
      ]
     },
     "execution_count": 157,
     "metadata": {},
     "output_type": "execute_result"
    }
   ],
   "source": [
    "df.head()"
   ]
  },
  {
   "cell_type": "code",
   "execution_count": 158,
   "metadata": {
    "colab": {
     "base_uri": "https://localhost:8080/",
     "height": 278
    },
    "id": "cGNGp2PLsWPY",
    "outputId": "9a6bd758-fb69-4e36-a669-de88390a5b25"
   },
   "outputs": [
    {
     "data": {
      "text/plain": [
       "Review_Text          0\n",
       "Rating(1 - 5)        0\n",
       "Pictures_uploaded    0\n",
       "followers            0\n",
       "reviews              0\n",
       "year                 0\n",
       "month                0\n",
       "day                  0\n",
       "hour                 0\n",
       "day_of_week          0\n",
       "type_of_food         0\n",
       "dtype: int64"
      ]
     },
     "execution_count": 158,
     "metadata": {},
     "output_type": "execute_result"
    }
   ],
   "source": [
    "#checking null values\n",
    "df.isnull().sum()"
   ]
  },
  {
   "cell_type": "code",
   "execution_count": 159,
   "metadata": {},
   "outputs": [],
   "source": [
    "#segregating categatrical and numerical columns\n",
    "df_num = df.select_dtypes(np.number)\n",
    "df_cat = df.select_dtypes('object')"
   ]
  },
  {
   "cell_type": "code",
   "execution_count": 160,
   "metadata": {},
   "outputs": [
    {
     "data": {
      "text/html": [
       "<div>\n",
       "<style scoped>\n",
       "    .dataframe tbody tr th:only-of-type {\n",
       "        vertical-align: middle;\n",
       "    }\n",
       "\n",
       "    .dataframe tbody tr th {\n",
       "        vertical-align: top;\n",
       "    }\n",
       "\n",
       "    .dataframe thead th {\n",
       "        text-align: right;\n",
       "    }\n",
       "</style>\n",
       "<table border=\"1\" class=\"dataframe\">\n",
       "  <thead>\n",
       "    <tr style=\"text-align: right;\">\n",
       "      <th></th>\n",
       "      <th>Rating(1 - 5)</th>\n",
       "      <th>Pictures_uploaded</th>\n",
       "      <th>followers</th>\n",
       "      <th>reviews</th>\n",
       "      <th>year</th>\n",
       "      <th>month</th>\n",
       "      <th>day</th>\n",
       "      <th>hour</th>\n",
       "      <th>day_of_week</th>\n",
       "    </tr>\n",
       "  </thead>\n",
       "  <tbody>\n",
       "    <tr>\n",
       "      <th>0</th>\n",
       "      <td>4.0</td>\n",
       "      <td>0</td>\n",
       "      <td>0.0</td>\n",
       "      <td>1.0</td>\n",
       "      <td>2019</td>\n",
       "      <td>5</td>\n",
       "      <td>18</td>\n",
       "      <td>1</td>\n",
       "      <td>5</td>\n",
       "    </tr>\n",
       "    <tr>\n",
       "      <th>1</th>\n",
       "      <td>2.0</td>\n",
       "      <td>0</td>\n",
       "      <td>4.0</td>\n",
       "      <td>8.0</td>\n",
       "      <td>2018</td>\n",
       "      <td>8</td>\n",
       "      <td>11</td>\n",
       "      <td>14</td>\n",
       "      <td>5</td>\n",
       "    </tr>\n",
       "    <tr>\n",
       "      <th>2</th>\n",
       "      <td>1.0</td>\n",
       "      <td>0</td>\n",
       "      <td>1.0</td>\n",
       "      <td>1.0</td>\n",
       "      <td>2018</td>\n",
       "      <td>10</td>\n",
       "      <td>2</td>\n",
       "      <td>14</td>\n",
       "      <td>1</td>\n",
       "    </tr>\n",
       "    <tr>\n",
       "      <th>3</th>\n",
       "      <td>5.0</td>\n",
       "      <td>3</td>\n",
       "      <td>2045.0</td>\n",
       "      <td>36.0</td>\n",
       "      <td>2018</td>\n",
       "      <td>8</td>\n",
       "      <td>18</td>\n",
       "      <td>23</td>\n",
       "      <td>5</td>\n",
       "    </tr>\n",
       "    <tr>\n",
       "      <th>4</th>\n",
       "      <td>1.0</td>\n",
       "      <td>0</td>\n",
       "      <td>6.0</td>\n",
       "      <td>1.0</td>\n",
       "      <td>2018</td>\n",
       "      <td>7</td>\n",
       "      <td>25</td>\n",
       "      <td>20</td>\n",
       "      <td>2</td>\n",
       "    </tr>\n",
       "  </tbody>\n",
       "</table>\n",
       "</div>"
      ],
      "text/plain": [
       "   Rating(1 - 5)  Pictures_uploaded  followers  reviews  year  month  day  \\\n",
       "0            4.0                  0        0.0      1.0  2019      5   18   \n",
       "1            2.0                  0        4.0      8.0  2018      8   11   \n",
       "2            1.0                  0        1.0      1.0  2018     10    2   \n",
       "3            5.0                  3     2045.0     36.0  2018      8   18   \n",
       "4            1.0                  0        6.0      1.0  2018      7   25   \n",
       "\n",
       "   hour  day_of_week  \n",
       "0     1            5  \n",
       "1    14            5  \n",
       "2    14            1  \n",
       "3    23            5  \n",
       "4    20            2  "
      ]
     },
     "execution_count": 160,
     "metadata": {},
     "output_type": "execute_result"
    }
   ],
   "source": [
    "df_num.head()"
   ]
  },
  {
   "cell_type": "code",
   "execution_count": 161,
   "metadata": {},
   "outputs": [
    {
     "data": {
      "text/html": [
       "<div>\n",
       "<style scoped>\n",
       "    .dataframe tbody tr th:only-of-type {\n",
       "        vertical-align: middle;\n",
       "    }\n",
       "\n",
       "    .dataframe tbody tr th {\n",
       "        vertical-align: top;\n",
       "    }\n",
       "\n",
       "    .dataframe thead th {\n",
       "        text-align: right;\n",
       "    }\n",
       "</style>\n",
       "<table border=\"1\" class=\"dataframe\">\n",
       "  <thead>\n",
       "    <tr style=\"text-align: right;\">\n",
       "      <th></th>\n",
       "      <th>Review_Text</th>\n",
       "      <th>type_of_food</th>\n",
       "    </tr>\n",
       "  </thead>\n",
       "  <tbody>\n",
       "    <tr>\n",
       "      <th>0</th>\n",
       "      <td>The place was good, ambiance was very nice! Mu...</td>\n",
       "      <td>late night dinner</td>\n",
       "    </tr>\n",
       "    <tr>\n",
       "      <th>1</th>\n",
       "      <td>poor quality</td>\n",
       "      <td>lunch</td>\n",
       "    </tr>\n",
       "    <tr>\n",
       "      <th>2</th>\n",
       "      <td>Worst experience with delivery time.. It took ...</td>\n",
       "      <td>lunch</td>\n",
       "    </tr>\n",
       "    <tr>\n",
       "      <th>3</th>\n",
       "      <td>What's not to love here ... The best and the m...</td>\n",
       "      <td>late night dinner</td>\n",
       "    </tr>\n",
       "    <tr>\n",
       "      <th>4</th>\n",
       "      <td>worst</td>\n",
       "      <td>dinner</td>\n",
       "    </tr>\n",
       "  </tbody>\n",
       "</table>\n",
       "</div>"
      ],
      "text/plain": [
       "                                         Review_Text       type_of_food\n",
       "0  The place was good, ambiance was very nice! Mu...  late night dinner\n",
       "1                                       poor quality              lunch\n",
       "2  Worst experience with delivery time.. It took ...              lunch\n",
       "3  What's not to love here ... The best and the m...  late night dinner\n",
       "4                                              worst             dinner"
      ]
     },
     "execution_count": 161,
     "metadata": {},
     "output_type": "execute_result"
    }
   ],
   "source": [
    "df_cat.head()"
   ]
  },
  {
   "cell_type": "code",
   "execution_count": 162,
   "metadata": {},
   "outputs": [
    {
     "name": "stderr",
     "output_type": "stream",
     "text": [
      "C:\\Users\\Chiranth SB\\.conda\\envs\\tensorflow\\lib\\site-packages\\pandas\\core\\frame.py:4312: SettingWithCopyWarning: \n",
      "A value is trying to be set on a copy of a slice from a DataFrame\n",
      "\n",
      "See the caveats in the documentation: https://pandas.pydata.org/pandas-docs/stable/user_guide/indexing.html#returning-a-view-versus-a-copy\n",
      "  errors=errors,\n"
     ]
    }
   ],
   "source": [
    "#droping target variable from df_num\n",
    "df_num.drop(['Rating(1 - 5)'], axis=1, inplace=True)"
   ]
  },
  {
   "cell_type": "code",
   "execution_count": 163,
   "metadata": {},
   "outputs": [
    {
     "data": {
      "text/plain": [
       "(array([0, 1, 2, 3, 4, 5]),\n",
       " [Text(0, 0, 'dinner'),\n",
       "  Text(1, 0, 'lunch'),\n",
       "  Text(2, 0, 'snacks'),\n",
       "  Text(3, 0, 'late night dinner'),\n",
       "  Text(4, 0, 'brunch'),\n",
       "  Text(5, 0, 'breakfast')])"
      ]
     },
     "execution_count": 163,
     "metadata": {},
     "output_type": "execute_result"
    },
    {
     "data": {
      "image/png": "[encoded data removed]",
      "text/plain": [
       "<Figure size 432x288 with 1 Axes>"
      ]
     },
     "metadata": {
      "needs_background": "light"
     },
     "output_type": "display_data"
    }
   ],
   "source": [
    "#checking type meal of the day behaviour\n",
    "sns.countplot(df.type_of_food, order = df.type_of_food.value_counts().index)\n",
    "plt.xticks(rotation=40)"
   ]
  },
  {
   "cell_type": "code",
   "execution_count": 164,
   "metadata": {},
   "outputs": [
    {
     "data": {
      "image/png": "[encoded data removed]",
      "text/plain": [
       "<Figure size 432x288 with 9 Axes>"
      ]
     },
     "metadata": {
      "needs_background": "light"
     },
     "output_type": "display_data"
    }
   ],
   "source": [
    "#lets check how distributed are our numercical columns \n",
    "df_num.hist()\n",
    "plt.tight_layout()"
   ]
  },
  {
   "cell_type": "code",
   "execution_count": 165,
   "metadata": {},
   "outputs": [
    {
     "data": {
      "text/plain": [
       "<AxesSubplot:>"
      ]
     },
     "execution_count": 165,
     "metadata": {},
     "output_type": "execute_result"
    },
    {
     "data": {
      "image/png": "[encoded data removed]",
      "text/plain": [
       "<Figure size 432x288 with 2 Axes>"
      ]
     },
     "metadata": {
      "needs_background": "light"
     },
     "output_type": "display_data"
    }
   ],
   "source": [
    "#checking for signicifant features\n",
    "sns.heatmap(df.corr(), annot = True)"
   ]
  },
  {
   "cell_type": "code",
   "execution_count": 166,
   "metadata": {},
   "outputs": [],
   "source": [
    "#Looks like non-of them have any significance towards target varibale i,e near to -0.75 pr 0.75"
   ]
  },
  {
   "cell_type": "code",
   "execution_count": 167,
   "metadata": {},
   "outputs": [],
   "source": [
    "# Lets consider only 'review_text' and 'rating' for the model buidling\n",
    "df1 = df[['Review_Text', 'Rating(1 - 5)']]"
   ]
  },
  {
   "cell_type": "code",
   "execution_count": 168,
   "metadata": {},
   "outputs": [
    {
     "data": {
      "text/html": [
       "<div>\n",
       "<style scoped>\n",
       "    .dataframe tbody tr th:only-of-type {\n",
       "        vertical-align: middle;\n",
       "    }\n",
       "\n",
       "    .dataframe tbody tr th {\n",
       "        vertical-align: top;\n",
       "    }\n",
       "\n",
       "    .dataframe thead th {\n",
       "        text-align: right;\n",
       "    }\n",
       "</style>\n",
       "<table border=\"1\" class=\"dataframe\">\n",
       "  <thead>\n",
       "    <tr style=\"text-align: right;\">\n",
       "      <th></th>\n",
       "      <th>Review_Text</th>\n",
       "      <th>Rating(1 - 5)</th>\n",
       "    </tr>\n",
       "  </thead>\n",
       "  <tbody>\n",
       "    <tr>\n",
       "      <th>0</th>\n",
       "      <td>The place was good, ambiance was very nice! Mu...</td>\n",
       "      <td>4.0</td>\n",
       "    </tr>\n",
       "    <tr>\n",
       "      <th>1</th>\n",
       "      <td>poor quality</td>\n",
       "      <td>2.0</td>\n",
       "    </tr>\n",
       "    <tr>\n",
       "      <th>2</th>\n",
       "      <td>Worst experience with delivery time.. It took ...</td>\n",
       "      <td>1.0</td>\n",
       "    </tr>\n",
       "    <tr>\n",
       "      <th>3</th>\n",
       "      <td>What's not to love here ... The best and the m...</td>\n",
       "      <td>5.0</td>\n",
       "    </tr>\n",
       "    <tr>\n",
       "      <th>4</th>\n",
       "      <td>worst</td>\n",
       "      <td>1.0</td>\n",
       "    </tr>\n",
       "  </tbody>\n",
       "</table>\n",
       "</div>"
      ],
      "text/plain": [
       "                                         Review_Text  Rating(1 - 5)\n",
       "0  The place was good, ambiance was very nice! Mu...            4.0\n",
       "1                                       poor quality            2.0\n",
       "2  Worst experience with delivery time.. It took ...            1.0\n",
       "3  What's not to love here ... The best and the m...            5.0\n",
       "4                                              worst            1.0"
      ]
     },
     "execution_count": 168,
     "metadata": {},
     "output_type": "execute_result"
    }
   ],
   "source": [
    "df1.head()"
   ]
  },
  {
   "cell_type": "code",
   "execution_count": 169,
   "metadata": {},
   "outputs": [
    {
     "name": "stderr",
     "output_type": "stream",
     "text": [
      "C:\\Users\\Chiranth SB\\.conda\\envs\\tensorflow\\lib\\site-packages\\ipykernel_launcher.py:2: SettingWithCopyWarning: \n",
      "A value is trying to be set on a copy of a slice from a DataFrame.\n",
      "Try using .loc[row_indexer,col_indexer] = value instead\n",
      "\n",
      "See the caveats in the documentation: https://pandas.pydata.org/pandas-docs/stable/user_guide/indexing.html#returning-a-view-versus-a-copy\n",
      "  \n",
      "C:\\Users\\Chiranth SB\\.conda\\envs\\tensorflow\\lib\\site-packages\\ipykernel_launcher.py:4: SettingWithCopyWarning: \n",
      "A value is trying to be set on a copy of a slice from a DataFrame.\n",
      "Try using .loc[row_indexer,col_indexer] = value instead\n",
      "\n",
      "See the caveats in the documentation: https://pandas.pydata.org/pandas-docs/stable/user_guide/indexing.html#returning-a-view-versus-a-copy\n",
      "  after removing the cwd from sys.path.\n",
      "C:\\Users\\Chiranth SB\\.conda\\envs\\tensorflow\\lib\\site-packages\\ipykernel_launcher.py:6: SettingWithCopyWarning: \n",
      "A value is trying to be set on a copy of a slice from a DataFrame.\n",
      "Try using .loc[row_indexer,col_indexer] = value instead\n",
      "\n",
      "See the caveats in the documentation: https://pandas.pydata.org/pandas-docs/stable/user_guide/indexing.html#returning-a-view-versus-a-copy\n",
      "  \n"
     ]
    }
   ],
   "source": [
    "# converting all text to lower\n",
    "df1['review_lower'] = df1[\"Review_Text\"].str.lower()\n",
    "#removing all unwanted punctuations\n",
    "df1['review_no_punctuation'] = df1['review_lower'].str.replace('[^\\w\\s]','')\n",
    "#removing all empty rows\n",
    "df1['clean_review_text'] = df1[\"review_no_punctuation\"].fillna(\"fillna\")"
   ]
  },
  {
   "cell_type": "code",
   "execution_count": 170,
   "metadata": {},
   "outputs": [
    {
     "data": {
      "text/plain": [
       "(6396, 5)"
      ]
     },
     "execution_count": 170,
     "metadata": {},
     "output_type": "execute_result"
    }
   ],
   "source": [
    "df1.shape"
   ]
  },
  {
   "cell_type": "code",
   "execution_count": 171,
   "metadata": {},
   "outputs": [
    {
     "data": {
      "text/html": [
       "<div>\n",
       "<style scoped>\n",
       "    .dataframe tbody tr th:only-of-type {\n",
       "        vertical-align: middle;\n",
       "    }\n",
       "\n",
       "    .dataframe tbody tr th {\n",
       "        vertical-align: top;\n",
       "    }\n",
       "\n",
       "    .dataframe thead th {\n",
       "        text-align: right;\n",
       "    }\n",
       "</style>\n",
       "<table border=\"1\" class=\"dataframe\">\n",
       "  <thead>\n",
       "    <tr style=\"text-align: right;\">\n",
       "      <th></th>\n",
       "      <th>index</th>\n",
       "      <th>Review_Text</th>\n",
       "      <th>Rating(1 - 5)</th>\n",
       "      <th>review_lower</th>\n",
       "      <th>review_no_punctuation</th>\n",
       "      <th>clean_review_text</th>\n",
       "    </tr>\n",
       "  </thead>\n",
       "  <tbody>\n",
       "    <tr>\n",
       "      <th>0</th>\n",
       "      <td>0</td>\n",
       "      <td>The place was good, ambiance was very nice! Mu...</td>\n",
       "      <td>4.0</td>\n",
       "      <td>the place was good, ambiance was very nice! mu...</td>\n",
       "      <td>the place was good ambiance was very nice musi...</td>\n",
       "      <td>the place was good ambiance was very nice musi...</td>\n",
       "    </tr>\n",
       "    <tr>\n",
       "      <th>1</th>\n",
       "      <td>1</td>\n",
       "      <td>poor quality</td>\n",
       "      <td>2.0</td>\n",
       "      <td>poor quality</td>\n",
       "      <td>poor quality</td>\n",
       "      <td>poor quality</td>\n",
       "    </tr>\n",
       "    <tr>\n",
       "      <th>2</th>\n",
       "      <td>2</td>\n",
       "      <td>Worst experience with delivery time.. It took ...</td>\n",
       "      <td>1.0</td>\n",
       "      <td>worst experience with delivery time.. it took ...</td>\n",
       "      <td>worst experience with delivery time it took 2 ...</td>\n",
       "      <td>worst experience with delivery time it took 2 ...</td>\n",
       "    </tr>\n",
       "    <tr>\n",
       "      <th>3</th>\n",
       "      <td>3</td>\n",
       "      <td>What's not to love here ... The best and the m...</td>\n",
       "      <td>5.0</td>\n",
       "      <td>what's not to love here ... the best and the m...</td>\n",
       "      <td>whats not to love here  the best and the most ...</td>\n",
       "      <td>whats not to love here  the best and the most ...</td>\n",
       "    </tr>\n",
       "    <tr>\n",
       "      <th>4</th>\n",
       "      <td>4</td>\n",
       "      <td>worst</td>\n",
       "      <td>1.0</td>\n",
       "      <td>worst</td>\n",
       "      <td>worst</td>\n",
       "      <td>worst</td>\n",
       "    </tr>\n",
       "    <tr>\n",
       "      <th>...</th>\n",
       "      <td>...</td>\n",
       "      <td>...</td>\n",
       "      <td>...</td>\n",
       "      <td>...</td>\n",
       "      <td>...</td>\n",
       "      <td>...</td>\n",
       "    </tr>\n",
       "    <tr>\n",
       "      <th>6391</th>\n",
       "      <td>6395</td>\n",
       "      <td>Jaw dropping ambience!!\\n\\nThe place is on 13t...</td>\n",
       "      <td>5.0</td>\n",
       "      <td>jaw dropping ambience!!\\n\\nthe place is on 13t...</td>\n",
       "      <td>jaw dropping ambience\\n\\nthe place is on 13th ...</td>\n",
       "      <td>jaw dropping ambience\\n\\nthe place is on 13th ...</td>\n",
       "    </tr>\n",
       "    <tr>\n",
       "      <th>6392</th>\n",
       "      <td>6396</td>\n",
       "      <td>U can try just for different environment. Food...</td>\n",
       "      <td>3.0</td>\n",
       "      <td>u can try just for different environment. food...</td>\n",
       "      <td>u can try just for different environment food ...</td>\n",
       "      <td>u can try just for different environment food ...</td>\n",
       "    </tr>\n",
       "    <tr>\n",
       "      <th>6393</th>\n",
       "      <td>6397</td>\n",
       "      <td>The worst experience ever. Ordered achari ghos...</td>\n",
       "      <td>1.0</td>\n",
       "      <td>the worst experience ever. ordered achari ghos...</td>\n",
       "      <td>the worst experience ever ordered achari ghosh...</td>\n",
       "      <td>the worst experience ever ordered achari ghosh...</td>\n",
       "    </tr>\n",
       "    <tr>\n",
       "      <th>6394</th>\n",
       "      <td>6398</td>\n",
       "      <td>One day my husband got this yummy brownies in ...</td>\n",
       "      <td>5.0</td>\n",
       "      <td>one day my husband got this yummy brownies in ...</td>\n",
       "      <td>one day my husband got this yummy brownies in ...</td>\n",
       "      <td>one day my husband got this yummy brownies in ...</td>\n",
       "    </tr>\n",
       "    <tr>\n",
       "      <th>6395</th>\n",
       "      <td>6399</td>\n",
       "      <td>food was less.</td>\n",
       "      <td>2.0</td>\n",
       "      <td>food was less.</td>\n",
       "      <td>food was less</td>\n",
       "      <td>food was less</td>\n",
       "    </tr>\n",
       "  </tbody>\n",
       "</table>\n",
       "<p>6396 rows × 6 columns</p>\n",
       "</div>"
      ],
      "text/plain": [
       "      index                                        Review_Text  Rating(1 - 5)  \\\n",
       "0         0  The place was good, ambiance was very nice! Mu...            4.0   \n",
       "1         1                                       poor quality            2.0   \n",
       "2         2  Worst experience with delivery time.. It took ...            1.0   \n",
       "3         3  What's not to love here ... The best and the m...            5.0   \n",
       "4         4                                              worst            1.0   \n",
       "...     ...                                                ...            ...   \n",
       "6391   6395  Jaw dropping ambience!!\\n\\nThe place is on 13t...            5.0   \n",
       "6392   6396  U can try just for different environment. Food...            3.0   \n",
       "6393   6397  The worst experience ever. Ordered achari ghos...            1.0   \n",
       "6394   6398  One day my husband got this yummy brownies in ...            5.0   \n",
       "6395   6399                                     food was less.            2.0   \n",
       "\n",
       "                                           review_lower  \\\n",
       "0     the place was good, ambiance was very nice! mu...   \n",
       "1                                          poor quality   \n",
       "2     worst experience with delivery time.. it took ...   \n",
       "3     what's not to love here ... the best and the m...   \n",
       "4                                                 worst   \n",
       "...                                                 ...   \n",
       "6391  jaw dropping ambience!!\\n\\nthe place is on 13t...   \n",
       "6392  u can try just for different environment. food...   \n",
       "6393  the worst experience ever. ordered achari ghos...   \n",
       "6394  one day my husband got this yummy brownies in ...   \n",
       "6395                                     food was less.   \n",
       "\n",
       "                                  review_no_punctuation  \\\n",
       "0     the place was good ambiance was very nice musi...   \n",
       "1                                          poor quality   \n",
       "2     worst experience with delivery time it took 2 ...   \n",
       "3     whats not to love here  the best and the most ...   \n",
       "4                                                 worst   \n",
       "...                                                 ...   \n",
       "6391  jaw dropping ambience\\n\\nthe place is on 13th ...   \n",
       "6392  u can try just for different environment food ...   \n",
       "6393  the worst experience ever ordered achari ghosh...   \n",
       "6394  one day my husband got this yummy brownies in ...   \n",
       "6395                                      food was less   \n",
       "\n",
       "                                      clean_review_text  \n",
       "0     the place was good ambiance was very nice musi...  \n",
       "1                                          poor quality  \n",
       "2     worst experience with delivery time it took 2 ...  \n",
       "3     whats not to love here  the best and the most ...  \n",
       "4                                                 worst  \n",
       "...                                                 ...  \n",
       "6391  jaw dropping ambience\\n\\nthe place is on 13th ...  \n",
       "6392  u can try just for different environment food ...  \n",
       "6393  the worst experience ever ordered achari ghosh...  \n",
       "6394  one day my husband got this yummy brownies in ...  \n",
       "6395                                      food was less  \n",
       "\n",
       "[6396 rows x 6 columns]"
      ]
     },
     "execution_count": 171,
     "metadata": {},
     "output_type": "execute_result"
    }
   ],
   "source": [
    "df1.reset_index()"
   ]
  },
  {
   "cell_type": "code",
   "execution_count": 172,
   "metadata": {},
   "outputs": [],
   "source": [
    "df1.reset_index(inplace = True, drop = True)"
   ]
  },
  {
   "cell_type": "markdown",
   "metadata": {},
   "source": [
    "<a id='nlp'></a>\n",
    "# 5.NLP TECHNIQUES"
   ]
  },
  {
   "cell_type": "code",
   "execution_count": 174,
   "metadata": {},
   "outputs": [],
   "source": [
    "# Initialize empty array \n",
    "# to append clean text  \n",
    "corpus = []\n",
    "for i in range(0, len(df)):\n",
    "    review = re.sub('[^a-zA-Z]',' ',df1['clean_review_text'][i])\n",
    "    review = review.lower()\n",
    "    review = review.split()\n",
    "    review = [ps.stem(word) for word in review if not word in stopwords.words('english')]\n",
    "    review = ' '.join(review)\n",
    "    corpus.append(review)"
   ]
  },
  {
   "cell_type": "code",
   "execution_count": 175,
   "metadata": {},
   "outputs": [
    {
     "data": {
      "text/plain": [
       "(6396, 10959)"
      ]
     },
     "execution_count": 175,
     "metadata": {},
     "output_type": "execute_result"
    }
   ],
   "source": [
    "# vectorizing the words \n",
    "cv=CountVectorizer()\n",
    "x = cv.fit_transform(corpus).toarray()\n",
    "x.shape"
   ]
  },
  {
   "cell_type": "code",
   "execution_count": 176,
   "metadata": {
    "id": "zJ_LRn3ZsWpU"
   },
   "outputs": [],
   "source": [
    "# tfidf for giving weight to the words depends on their no of occurences\n",
    "tfidf = TfidfTransformer()\n",
    "X = tfidf.fit_transform(x)\n",
    "X = tfidf.transform(x)"
   ]
  },
  {
   "cell_type": "code",
   "execution_count": 177,
   "metadata": {
    "id": "cZ34LRUPsWtv"
   },
   "outputs": [
    {
     "data": {
      "text/plain": [
       "(6396, 10959)"
      ]
     },
     "execution_count": 177,
     "metadata": {},
     "output_type": "execute_result"
    }
   ],
   "source": [
    "#checking shape\n",
    "X.shape"
   ]
  },
  {
   "cell_type": "code",
   "execution_count": 179,
   "metadata": {},
   "outputs": [
    {
     "data": {
      "text/html": [
       "<div>\n",
       "<style scoped>\n",
       "    .dataframe tbody tr th:only-of-type {\n",
       "        vertical-align: middle;\n",
       "    }\n",
       "\n",
       "    .dataframe tbody tr th {\n",
       "        vertical-align: top;\n",
       "    }\n",
       "\n",
       "    .dataframe thead th {\n",
       "        text-align: right;\n",
       "    }\n",
       "</style>\n",
       "<table border=\"1\" class=\"dataframe\">\n",
       "  <thead>\n",
       "    <tr style=\"text-align: right;\">\n",
       "      <th></th>\n",
       "      <th>Review_Text</th>\n",
       "      <th>Rating(1 - 5)</th>\n",
       "      <th>Pictures_uploaded</th>\n",
       "      <th>followers</th>\n",
       "      <th>reviews</th>\n",
       "      <th>year</th>\n",
       "      <th>month</th>\n",
       "      <th>day</th>\n",
       "      <th>hour</th>\n",
       "      <th>day_of_week</th>\n",
       "      <th>type_of_food</th>\n",
       "    </tr>\n",
       "  </thead>\n",
       "  <tbody>\n",
       "    <tr>\n",
       "      <th>0</th>\n",
       "      <td>The place was good, ambiance was very nice! Mu...</td>\n",
       "      <td>4.0</td>\n",
       "      <td>0</td>\n",
       "      <td>0.0</td>\n",
       "      <td>1.0</td>\n",
       "      <td>2019</td>\n",
       "      <td>5</td>\n",
       "      <td>18</td>\n",
       "      <td>1</td>\n",
       "      <td>5</td>\n",
       "      <td>late night dinner</td>\n",
       "    </tr>\n",
       "    <tr>\n",
       "      <th>1</th>\n",
       "      <td>poor quality</td>\n",
       "      <td>2.0</td>\n",
       "      <td>0</td>\n",
       "      <td>4.0</td>\n",
       "      <td>8.0</td>\n",
       "      <td>2018</td>\n",
       "      <td>8</td>\n",
       "      <td>11</td>\n",
       "      <td>14</td>\n",
       "      <td>5</td>\n",
       "      <td>lunch</td>\n",
       "    </tr>\n",
       "    <tr>\n",
       "      <th>2</th>\n",
       "      <td>Worst experience with delivery time.. It took ...</td>\n",
       "      <td>1.0</td>\n",
       "      <td>0</td>\n",
       "      <td>1.0</td>\n",
       "      <td>1.0</td>\n",
       "      <td>2018</td>\n",
       "      <td>10</td>\n",
       "      <td>2</td>\n",
       "      <td>14</td>\n",
       "      <td>1</td>\n",
       "      <td>lunch</td>\n",
       "    </tr>\n",
       "    <tr>\n",
       "      <th>3</th>\n",
       "      <td>What's not to love here ... The best and the m...</td>\n",
       "      <td>5.0</td>\n",
       "      <td>3</td>\n",
       "      <td>2045.0</td>\n",
       "      <td>36.0</td>\n",
       "      <td>2018</td>\n",
       "      <td>8</td>\n",
       "      <td>18</td>\n",
       "      <td>23</td>\n",
       "      <td>5</td>\n",
       "      <td>late night dinner</td>\n",
       "    </tr>\n",
       "    <tr>\n",
       "      <th>4</th>\n",
       "      <td>worst</td>\n",
       "      <td>1.0</td>\n",
       "      <td>0</td>\n",
       "      <td>6.0</td>\n",
       "      <td>1.0</td>\n",
       "      <td>2018</td>\n",
       "      <td>7</td>\n",
       "      <td>25</td>\n",
       "      <td>20</td>\n",
       "      <td>2</td>\n",
       "      <td>dinner</td>\n",
       "    </tr>\n",
       "  </tbody>\n",
       "</table>\n",
       "</div>"
      ],
      "text/plain": [
       "                                         Review_Text  Rating(1 - 5)  \\\n",
       "0  The place was good, ambiance was very nice! Mu...            4.0   \n",
       "1                                       poor quality            2.0   \n",
       "2  Worst experience with delivery time.. It took ...            1.0   \n",
       "3  What's not to love here ... The best and the m...            5.0   \n",
       "4                                              worst            1.0   \n",
       "\n",
       "   Pictures_uploaded  followers  reviews  year  month  day  hour  day_of_week  \\\n",
       "0                  0        0.0      1.0  2019      5   18     1            5   \n",
       "1                  0        4.0      8.0  2018      8   11    14            5   \n",
       "2                  0        1.0      1.0  2018     10    2    14            1   \n",
       "3                  3     2045.0     36.0  2018      8   18    23            5   \n",
       "4                  0        6.0      1.0  2018      7   25    20            2   \n",
       "\n",
       "        type_of_food  \n",
       "0  late night dinner  \n",
       "1              lunch  \n",
       "2              lunch  \n",
       "3  late night dinner  \n",
       "4             dinner  "
      ]
     },
     "execution_count": 179,
     "metadata": {},
     "output_type": "execute_result"
    }
   ],
   "source": [
    "df.head()"
   ]
  },
  {
   "cell_type": "code",
   "execution_count": 180,
   "metadata": {},
   "outputs": [
    {
     "name": "stderr",
     "output_type": "stream",
     "text": [
      "C:\\Users\\Chiranth SB\\.conda\\envs\\tensorflow\\lib\\site-packages\\ipykernel_launcher.py:4: SettingWithCopyWarning: \n",
      "A value is trying to be set on a copy of a slice from a DataFrame.\n",
      "Try using .loc[row_indexer,col_indexer] = value instead\n",
      "\n",
      "See the caveats in the documentation: https://pandas.pydata.org/pandas-docs/stable/user_guide/indexing.html#returning-a-view-versus-a-copy\n",
      "  after removing the cwd from sys.path.\n"
     ]
    }
   ],
   "source": [
    "# label encoding for 'type_of_food' feature\n",
    "LabelEncoder = LabelEncoder()\n",
    "df_cat['type_of_food'] = LabelEncoder.fit_transform(df_cat['type_of_food'])"
   ]
  },
  {
   "cell_type": "code",
   "execution_count": 181,
   "metadata": {},
   "outputs": [
    {
     "name": "stderr",
     "output_type": "stream",
     "text": [
      "C:\\Users\\Chiranth SB\\.conda\\envs\\tensorflow\\lib\\site-packages\\pandas\\core\\frame.py:4312: SettingWithCopyWarning: \n",
      "A value is trying to be set on a copy of a slice from a DataFrame\n",
      "\n",
      "See the caveats in the documentation: https://pandas.pydata.org/pandas-docs/stable/user_guide/indexing.html#returning-a-view-versus-a-copy\n",
      "  errors=errors,\n"
     ]
    }
   ],
   "source": [
    "#droping target variable\n",
    "df_cat.drop('Review_Text', axis=1, inplace=True)"
   ]
  },
  {
   "cell_type": "code",
   "execution_count": 182,
   "metadata": {},
   "outputs": [
    {
     "data": {
      "text/html": [
       "<div>\n",
       "<style scoped>\n",
       "    .dataframe tbody tr th:only-of-type {\n",
       "        vertical-align: middle;\n",
       "    }\n",
       "\n",
       "    .dataframe tbody tr th {\n",
       "        vertical-align: top;\n",
       "    }\n",
       "\n",
       "    .dataframe thead th {\n",
       "        text-align: right;\n",
       "    }\n",
       "</style>\n",
       "<table border=\"1\" class=\"dataframe\">\n",
       "  <thead>\n",
       "    <tr style=\"text-align: right;\">\n",
       "      <th></th>\n",
       "      <th>type_of_food</th>\n",
       "    </tr>\n",
       "  </thead>\n",
       "  <tbody>\n",
       "    <tr>\n",
       "      <th>0</th>\n",
       "      <td>3</td>\n",
       "    </tr>\n",
       "    <tr>\n",
       "      <th>1</th>\n",
       "      <td>4</td>\n",
       "    </tr>\n",
       "    <tr>\n",
       "      <th>2</th>\n",
       "      <td>4</td>\n",
       "    </tr>\n",
       "    <tr>\n",
       "      <th>3</th>\n",
       "      <td>3</td>\n",
       "    </tr>\n",
       "    <tr>\n",
       "      <th>4</th>\n",
       "      <td>2</td>\n",
       "    </tr>\n",
       "  </tbody>\n",
       "</table>\n",
       "</div>"
      ],
      "text/plain": [
       "   type_of_food\n",
       "0             3\n",
       "1             4\n",
       "2             4\n",
       "3             3\n",
       "4             2"
      ]
     },
     "execution_count": 182,
     "metadata": {},
     "output_type": "execute_result"
    }
   ],
   "source": [
    "#checking top 5 records of catergorical dataset\n",
    "df_cat.head()"
   ]
  },
  {
   "cell_type": "code",
   "execution_count": 183,
   "metadata": {},
   "outputs": [
    {
     "data": {
      "text/html": [
       "<div>\n",
       "<style scoped>\n",
       "    .dataframe tbody tr th:only-of-type {\n",
       "        vertical-align: middle;\n",
       "    }\n",
       "\n",
       "    .dataframe tbody tr th {\n",
       "        vertical-align: top;\n",
       "    }\n",
       "\n",
       "    .dataframe thead th {\n",
       "        text-align: right;\n",
       "    }\n",
       "</style>\n",
       "<table border=\"1\" class=\"dataframe\">\n",
       "  <thead>\n",
       "    <tr style=\"text-align: right;\">\n",
       "      <th></th>\n",
       "      <th>Pictures_uploaded</th>\n",
       "      <th>followers</th>\n",
       "      <th>reviews</th>\n",
       "      <th>year</th>\n",
       "      <th>month</th>\n",
       "      <th>day</th>\n",
       "      <th>hour</th>\n",
       "      <th>day_of_week</th>\n",
       "    </tr>\n",
       "  </thead>\n",
       "  <tbody>\n",
       "    <tr>\n",
       "      <th>0</th>\n",
       "      <td>0</td>\n",
       "      <td>0.0</td>\n",
       "      <td>1.0</td>\n",
       "      <td>2019</td>\n",
       "      <td>5</td>\n",
       "      <td>18</td>\n",
       "      <td>1</td>\n",
       "      <td>5</td>\n",
       "    </tr>\n",
       "    <tr>\n",
       "      <th>1</th>\n",
       "      <td>0</td>\n",
       "      <td>4.0</td>\n",
       "      <td>8.0</td>\n",
       "      <td>2018</td>\n",
       "      <td>8</td>\n",
       "      <td>11</td>\n",
       "      <td>14</td>\n",
       "      <td>5</td>\n",
       "    </tr>\n",
       "    <tr>\n",
       "      <th>2</th>\n",
       "      <td>0</td>\n",
       "      <td>1.0</td>\n",
       "      <td>1.0</td>\n",
       "      <td>2018</td>\n",
       "      <td>10</td>\n",
       "      <td>2</td>\n",
       "      <td>14</td>\n",
       "      <td>1</td>\n",
       "    </tr>\n",
       "    <tr>\n",
       "      <th>3</th>\n",
       "      <td>3</td>\n",
       "      <td>2045.0</td>\n",
       "      <td>36.0</td>\n",
       "      <td>2018</td>\n",
       "      <td>8</td>\n",
       "      <td>18</td>\n",
       "      <td>23</td>\n",
       "      <td>5</td>\n",
       "    </tr>\n",
       "    <tr>\n",
       "      <th>4</th>\n",
       "      <td>0</td>\n",
       "      <td>6.0</td>\n",
       "      <td>1.0</td>\n",
       "      <td>2018</td>\n",
       "      <td>7</td>\n",
       "      <td>25</td>\n",
       "      <td>20</td>\n",
       "      <td>2</td>\n",
       "    </tr>\n",
       "  </tbody>\n",
       "</table>\n",
       "</div>"
      ],
      "text/plain": [
       "   Pictures_uploaded  followers  reviews  year  month  day  hour  day_of_week\n",
       "0                  0        0.0      1.0  2019      5   18     1            5\n",
       "1                  0        4.0      8.0  2018      8   11    14            5\n",
       "2                  0        1.0      1.0  2018     10    2    14            1\n",
       "3                  3     2045.0     36.0  2018      8   18    23            5\n",
       "4                  0        6.0      1.0  2018      7   25    20            2"
      ]
     },
     "execution_count": 183,
     "metadata": {},
     "output_type": "execute_result"
    }
   ],
   "source": [
    "#checking top 5 records of numerical dataset\n",
    "df_num.head()"
   ]
  },
  {
   "cell_type": "code",
   "execution_count": 232,
   "metadata": {},
   "outputs": [],
   "source": [
    "#concatinating both numerical and categorical\n",
    "df_final = pd.concat([df_cat, df_num], axis=1)"
   ]
  },
  {
   "cell_type": "code",
   "execution_count": 185,
   "metadata": {},
   "outputs": [
    {
     "data": {
      "text/html": [
       "<div>\n",
       "<style scoped>\n",
       "    .dataframe tbody tr th:only-of-type {\n",
       "        vertical-align: middle;\n",
       "    }\n",
       "\n",
       "    .dataframe tbody tr th {\n",
       "        vertical-align: top;\n",
       "    }\n",
       "\n",
       "    .dataframe thead th {\n",
       "        text-align: right;\n",
       "    }\n",
       "</style>\n",
       "<table border=\"1\" class=\"dataframe\">\n",
       "  <thead>\n",
       "    <tr style=\"text-align: right;\">\n",
       "      <th></th>\n",
       "      <th>type_of_food</th>\n",
       "      <th>Pictures_uploaded</th>\n",
       "      <th>followers</th>\n",
       "      <th>reviews</th>\n",
       "      <th>year</th>\n",
       "      <th>month</th>\n",
       "      <th>day</th>\n",
       "      <th>hour</th>\n",
       "      <th>day_of_week</th>\n",
       "    </tr>\n",
       "  </thead>\n",
       "  <tbody>\n",
       "    <tr>\n",
       "      <th>0</th>\n",
       "      <td>3</td>\n",
       "      <td>0</td>\n",
       "      <td>0.0</td>\n",
       "      <td>1.0</td>\n",
       "      <td>2019</td>\n",
       "      <td>5</td>\n",
       "      <td>18</td>\n",
       "      <td>1</td>\n",
       "      <td>5</td>\n",
       "    </tr>\n",
       "    <tr>\n",
       "      <th>1</th>\n",
       "      <td>4</td>\n",
       "      <td>0</td>\n",
       "      <td>4.0</td>\n",
       "      <td>8.0</td>\n",
       "      <td>2018</td>\n",
       "      <td>8</td>\n",
       "      <td>11</td>\n",
       "      <td>14</td>\n",
       "      <td>5</td>\n",
       "    </tr>\n",
       "    <tr>\n",
       "      <th>2</th>\n",
       "      <td>4</td>\n",
       "      <td>0</td>\n",
       "      <td>1.0</td>\n",
       "      <td>1.0</td>\n",
       "      <td>2018</td>\n",
       "      <td>10</td>\n",
       "      <td>2</td>\n",
       "      <td>14</td>\n",
       "      <td>1</td>\n",
       "    </tr>\n",
       "    <tr>\n",
       "      <th>3</th>\n",
       "      <td>3</td>\n",
       "      <td>3</td>\n",
       "      <td>2045.0</td>\n",
       "      <td>36.0</td>\n",
       "      <td>2018</td>\n",
       "      <td>8</td>\n",
       "      <td>18</td>\n",
       "      <td>23</td>\n",
       "      <td>5</td>\n",
       "    </tr>\n",
       "    <tr>\n",
       "      <th>4</th>\n",
       "      <td>2</td>\n",
       "      <td>0</td>\n",
       "      <td>6.0</td>\n",
       "      <td>1.0</td>\n",
       "      <td>2018</td>\n",
       "      <td>7</td>\n",
       "      <td>25</td>\n",
       "      <td>20</td>\n",
       "      <td>2</td>\n",
       "    </tr>\n",
       "  </tbody>\n",
       "</table>\n",
       "</div>"
      ],
      "text/plain": [
       "   type_of_food  Pictures_uploaded  followers  reviews  year  month  day  \\\n",
       "0             3                  0        0.0      1.0  2019      5   18   \n",
       "1             4                  0        4.0      8.0  2018      8   11   \n",
       "2             4                  0        1.0      1.0  2018     10    2   \n",
       "3             3                  3     2045.0     36.0  2018      8   18   \n",
       "4             2                  0        6.0      1.0  2018      7   25   \n",
       "\n",
       "   hour  day_of_week  \n",
       "0     1            5  \n",
       "1    14            5  \n",
       "2    14            1  \n",
       "3    23            5  \n",
       "4    20            2  "
      ]
     },
     "execution_count": 185,
     "metadata": {},
     "output_type": "execute_result"
    }
   ],
   "source": [
    "#top 5 records\n",
    "df_final.head()"
   ]
  },
  {
   "cell_type": "code",
   "execution_count": 186,
   "metadata": {},
   "outputs": [],
   "source": [
    "# normalizing the dataset\n",
    "nr = Normalizer()\n",
    "df_final[df_final.columns] = nr.fit_transform(df_final)"
   ]
  },
  {
   "cell_type": "code",
   "execution_count": 187,
   "metadata": {},
   "outputs": [
    {
     "data": {
      "text/plain": [
       "(6396, 9)"
      ]
     },
     "execution_count": 187,
     "metadata": {},
     "output_type": "execute_result"
    }
   ],
   "source": [
    "#checking shape\n",
    "df_final.shape"
   ]
  },
  {
   "cell_type": "code",
   "execution_count": 188,
   "metadata": {},
   "outputs": [
    {
     "data": {
      "text/html": [
       "<div>\n",
       "<style scoped>\n",
       "    .dataframe tbody tr th:only-of-type {\n",
       "        vertical-align: middle;\n",
       "    }\n",
       "\n",
       "    .dataframe tbody tr th {\n",
       "        vertical-align: top;\n",
       "    }\n",
       "\n",
       "    .dataframe thead th {\n",
       "        text-align: right;\n",
       "    }\n",
       "</style>\n",
       "<table border=\"1\" class=\"dataframe\">\n",
       "  <thead>\n",
       "    <tr style=\"text-align: right;\">\n",
       "      <th></th>\n",
       "      <th>0</th>\n",
       "      <th>1</th>\n",
       "      <th>2</th>\n",
       "      <th>3</th>\n",
       "      <th>4</th>\n",
       "      <th>5</th>\n",
       "      <th>6</th>\n",
       "      <th>7</th>\n",
       "      <th>8</th>\n",
       "      <th>9</th>\n",
       "      <th>...</th>\n",
       "      <th>10949</th>\n",
       "      <th>10950</th>\n",
       "      <th>10951</th>\n",
       "      <th>10952</th>\n",
       "      <th>10953</th>\n",
       "      <th>10954</th>\n",
       "      <th>10955</th>\n",
       "      <th>10956</th>\n",
       "      <th>10957</th>\n",
       "      <th>10958</th>\n",
       "    </tr>\n",
       "  </thead>\n",
       "  <tbody>\n",
       "    <tr>\n",
       "      <th>0</th>\n",
       "      <td>0.0</td>\n",
       "      <td>0.0</td>\n",
       "      <td>0.0</td>\n",
       "      <td>0.0</td>\n",
       "      <td>0.0</td>\n",
       "      <td>0.0</td>\n",
       "      <td>0.0</td>\n",
       "      <td>0.0</td>\n",
       "      <td>0.0</td>\n",
       "      <td>0.0</td>\n",
       "      <td>...</td>\n",
       "      <td>0.0</td>\n",
       "      <td>0.0</td>\n",
       "      <td>0.0</td>\n",
       "      <td>0.0</td>\n",
       "      <td>0.0</td>\n",
       "      <td>0.0</td>\n",
       "      <td>0.0</td>\n",
       "      <td>0.0</td>\n",
       "      <td>0.0</td>\n",
       "      <td>0.0</td>\n",
       "    </tr>\n",
       "    <tr>\n",
       "      <th>1</th>\n",
       "      <td>0.0</td>\n",
       "      <td>0.0</td>\n",
       "      <td>0.0</td>\n",
       "      <td>0.0</td>\n",
       "      <td>0.0</td>\n",
       "      <td>0.0</td>\n",
       "      <td>0.0</td>\n",
       "      <td>0.0</td>\n",
       "      <td>0.0</td>\n",
       "      <td>0.0</td>\n",
       "      <td>...</td>\n",
       "      <td>0.0</td>\n",
       "      <td>0.0</td>\n",
       "      <td>0.0</td>\n",
       "      <td>0.0</td>\n",
       "      <td>0.0</td>\n",
       "      <td>0.0</td>\n",
       "      <td>0.0</td>\n",
       "      <td>0.0</td>\n",
       "      <td>0.0</td>\n",
       "      <td>0.0</td>\n",
       "    </tr>\n",
       "    <tr>\n",
       "      <th>2</th>\n",
       "      <td>0.0</td>\n",
       "      <td>0.0</td>\n",
       "      <td>0.0</td>\n",
       "      <td>0.0</td>\n",
       "      <td>0.0</td>\n",
       "      <td>0.0</td>\n",
       "      <td>0.0</td>\n",
       "      <td>0.0</td>\n",
       "      <td>0.0</td>\n",
       "      <td>0.0</td>\n",
       "      <td>...</td>\n",
       "      <td>0.0</td>\n",
       "      <td>0.0</td>\n",
       "      <td>0.0</td>\n",
       "      <td>0.0</td>\n",
       "      <td>0.0</td>\n",
       "      <td>0.0</td>\n",
       "      <td>0.0</td>\n",
       "      <td>0.0</td>\n",
       "      <td>0.0</td>\n",
       "      <td>0.0</td>\n",
       "    </tr>\n",
       "    <tr>\n",
       "      <th>3</th>\n",
       "      <td>0.0</td>\n",
       "      <td>0.0</td>\n",
       "      <td>0.0</td>\n",
       "      <td>0.0</td>\n",
       "      <td>0.0</td>\n",
       "      <td>0.0</td>\n",
       "      <td>0.0</td>\n",
       "      <td>0.0</td>\n",
       "      <td>0.0</td>\n",
       "      <td>0.0</td>\n",
       "      <td>...</td>\n",
       "      <td>0.0</td>\n",
       "      <td>0.0</td>\n",
       "      <td>0.0</td>\n",
       "      <td>0.0</td>\n",
       "      <td>0.0</td>\n",
       "      <td>0.0</td>\n",
       "      <td>0.0</td>\n",
       "      <td>0.0</td>\n",
       "      <td>0.0</td>\n",
       "      <td>0.0</td>\n",
       "    </tr>\n",
       "    <tr>\n",
       "      <th>4</th>\n",
       "      <td>0.0</td>\n",
       "      <td>0.0</td>\n",
       "      <td>0.0</td>\n",
       "      <td>0.0</td>\n",
       "      <td>0.0</td>\n",
       "      <td>0.0</td>\n",
       "      <td>0.0</td>\n",
       "      <td>0.0</td>\n",
       "      <td>0.0</td>\n",
       "      <td>0.0</td>\n",
       "      <td>...</td>\n",
       "      <td>0.0</td>\n",
       "      <td>0.0</td>\n",
       "      <td>0.0</td>\n",
       "      <td>0.0</td>\n",
       "      <td>0.0</td>\n",
       "      <td>0.0</td>\n",
       "      <td>0.0</td>\n",
       "      <td>0.0</td>\n",
       "      <td>0.0</td>\n",
       "      <td>0.0</td>\n",
       "    </tr>\n",
       "  </tbody>\n",
       "</table>\n",
       "<p>5 rows × 10959 columns</p>\n",
       "</div>"
      ],
      "text/plain": [
       "   0      1      2      3      4      5      6      7      8      9      ...  \\\n",
       "0    0.0    0.0    0.0    0.0    0.0    0.0    0.0    0.0    0.0    0.0  ...   \n",
       "1    0.0    0.0    0.0    0.0    0.0    0.0    0.0    0.0    0.0    0.0  ...   \n",
       "2    0.0    0.0    0.0    0.0    0.0    0.0    0.0    0.0    0.0    0.0  ...   \n",
       "3    0.0    0.0    0.0    0.0    0.0    0.0    0.0    0.0    0.0    0.0  ...   \n",
       "4    0.0    0.0    0.0    0.0    0.0    0.0    0.0    0.0    0.0    0.0  ...   \n",
       "\n",
       "   10949  10950  10951  10952  10953  10954  10955  10956  10957  10958  \n",
       "0    0.0    0.0    0.0    0.0    0.0    0.0    0.0    0.0    0.0    0.0  \n",
       "1    0.0    0.0    0.0    0.0    0.0    0.0    0.0    0.0    0.0    0.0  \n",
       "2    0.0    0.0    0.0    0.0    0.0    0.0    0.0    0.0    0.0    0.0  \n",
       "3    0.0    0.0    0.0    0.0    0.0    0.0    0.0    0.0    0.0    0.0  \n",
       "4    0.0    0.0    0.0    0.0    0.0    0.0    0.0    0.0    0.0    0.0  \n",
       "\n",
       "[5 rows x 10959 columns]"
      ]
     },
     "execution_count": 188,
     "metadata": {},
     "output_type": "execute_result"
    }
   ],
   "source": [
    "#coverting it to sparse matrix to reduce dimension\n",
    "spar = pd.DataFrame.sparse.from_spmatrix(X) # X output of tf-idf\n",
    "spar.head()"
   ]
  },
  {
   "cell_type": "code",
   "execution_count": 189,
   "metadata": {},
   "outputs": [
    {
     "name": "stdout",
     "output_type": "stream",
     "text": [
      "Shape of Sparse Matrix:  (6396, 10959)\n",
      "Amount of Non-Zero occurrences:  147436\n",
      "Density: 0.21034110823325167\n"
     ]
    }
   ],
   "source": [
    "print('Shape of Sparse Matrix: ', X.shape)\n",
    "print('Amount of Non-Zero occurrences: ', X.nnz)\n",
    "\n",
    "# Percentage of non-zero values\n",
    "density = (100.0 * X.nnz / (X.shape[0] * X.shape[1]))\n",
    "print('Density: {}'.format((density)))"
   ]
  },
  {
   "cell_type": "code",
   "execution_count": 190,
   "metadata": {},
   "outputs": [
    {
     "data": {
      "text/plain": [
       "(6396, 10959)"
      ]
     },
     "execution_count": 190,
     "metadata": {},
     "output_type": "execute_result"
    }
   ],
   "source": [
    "#checking shape\n",
    "spar.shape"
   ]
  },
  {
   "cell_type": "markdown",
   "metadata": {},
   "source": [
    "<a id='label'></a>\n",
    "# 6.LABEL ENCODING"
   ]
  },
  {
   "cell_type": "code",
   "execution_count": 195,
   "metadata": {},
   "outputs": [],
   "source": [
    "#label encoding for target variable \n",
    "label_encoder = LabelEncoder()\n",
    "y = label_encoder.fit_transform(df1['Rating(1 - 5)'])"
   ]
  },
  {
   "cell_type": "code",
   "execution_count": 196,
   "metadata": {},
   "outputs": [
    {
     "data": {
      "text/html": [
       "<div>\n",
       "<style scoped>\n",
       "    .dataframe tbody tr th:only-of-type {\n",
       "        vertical-align: middle;\n",
       "    }\n",
       "\n",
       "    .dataframe tbody tr th {\n",
       "        vertical-align: top;\n",
       "    }\n",
       "\n",
       "    .dataframe thead th {\n",
       "        text-align: right;\n",
       "    }\n",
       "</style>\n",
       "<table border=\"1\" class=\"dataframe\">\n",
       "  <thead>\n",
       "    <tr style=\"text-align: right;\">\n",
       "      <th></th>\n",
       "      <th>0</th>\n",
       "      <th>1</th>\n",
       "      <th>2</th>\n",
       "      <th>3</th>\n",
       "      <th>4</th>\n",
       "      <th>5</th>\n",
       "      <th>6</th>\n",
       "      <th>7</th>\n",
       "      <th>8</th>\n",
       "      <th>9</th>\n",
       "      <th>...</th>\n",
       "      <th>10958</th>\n",
       "      <th>type_of_food</th>\n",
       "      <th>Pictures_uploaded</th>\n",
       "      <th>followers</th>\n",
       "      <th>reviews</th>\n",
       "      <th>year</th>\n",
       "      <th>month</th>\n",
       "      <th>day</th>\n",
       "      <th>hour</th>\n",
       "      <th>day_of_week</th>\n",
       "    </tr>\n",
       "  </thead>\n",
       "  <tbody>\n",
       "    <tr>\n",
       "      <th>0</th>\n",
       "      <td>0.0</td>\n",
       "      <td>0.0</td>\n",
       "      <td>0.0</td>\n",
       "      <td>0.0</td>\n",
       "      <td>0.0</td>\n",
       "      <td>0.0</td>\n",
       "      <td>0.0</td>\n",
       "      <td>0.0</td>\n",
       "      <td>0.0</td>\n",
       "      <td>0.0</td>\n",
       "      <td>...</td>\n",
       "      <td>0.0</td>\n",
       "      <td>0.001486</td>\n",
       "      <td>0.000000</td>\n",
       "      <td>0.000000</td>\n",
       "      <td>0.000495</td>\n",
       "      <td>0.999953</td>\n",
       "      <td>0.002476</td>\n",
       "      <td>0.008915</td>\n",
       "      <td>0.000495</td>\n",
       "      <td>0.002476</td>\n",
       "    </tr>\n",
       "    <tr>\n",
       "      <th>1</th>\n",
       "      <td>0.0</td>\n",
       "      <td>0.0</td>\n",
       "      <td>0.0</td>\n",
       "      <td>0.0</td>\n",
       "      <td>0.0</td>\n",
       "      <td>0.0</td>\n",
       "      <td>0.0</td>\n",
       "      <td>0.0</td>\n",
       "      <td>0.0</td>\n",
       "      <td>0.0</td>\n",
       "      <td>...</td>\n",
       "      <td>0.0</td>\n",
       "      <td>0.001982</td>\n",
       "      <td>0.000000</td>\n",
       "      <td>0.001982</td>\n",
       "      <td>0.003964</td>\n",
       "      <td>0.999938</td>\n",
       "      <td>0.003964</td>\n",
       "      <td>0.005451</td>\n",
       "      <td>0.006937</td>\n",
       "      <td>0.002478</td>\n",
       "    </tr>\n",
       "    <tr>\n",
       "      <th>2</th>\n",
       "      <td>0.0</td>\n",
       "      <td>0.0</td>\n",
       "      <td>0.0</td>\n",
       "      <td>0.0</td>\n",
       "      <td>0.0</td>\n",
       "      <td>0.0</td>\n",
       "      <td>0.0</td>\n",
       "      <td>0.0</td>\n",
       "      <td>0.0</td>\n",
       "      <td>0.0</td>\n",
       "      <td>...</td>\n",
       "      <td>0.0</td>\n",
       "      <td>0.001982</td>\n",
       "      <td>0.000000</td>\n",
       "      <td>0.000496</td>\n",
       "      <td>0.000496</td>\n",
       "      <td>0.999961</td>\n",
       "      <td>0.004955</td>\n",
       "      <td>0.000991</td>\n",
       "      <td>0.006937</td>\n",
       "      <td>0.000496</td>\n",
       "    </tr>\n",
       "    <tr>\n",
       "      <th>3</th>\n",
       "      <td>0.0</td>\n",
       "      <td>0.0</td>\n",
       "      <td>0.0</td>\n",
       "      <td>0.0</td>\n",
       "      <td>0.0</td>\n",
       "      <td>0.0</td>\n",
       "      <td>0.0</td>\n",
       "      <td>0.0</td>\n",
       "      <td>0.0</td>\n",
       "      <td>0.0</td>\n",
       "      <td>...</td>\n",
       "      <td>0.0</td>\n",
       "      <td>0.001044</td>\n",
       "      <td>0.001044</td>\n",
       "      <td>0.711693</td>\n",
       "      <td>0.012529</td>\n",
       "      <td>0.702296</td>\n",
       "      <td>0.002784</td>\n",
       "      <td>0.006264</td>\n",
       "      <td>0.008004</td>\n",
       "      <td>0.001740</td>\n",
       "    </tr>\n",
       "    <tr>\n",
       "      <th>4</th>\n",
       "      <td>0.0</td>\n",
       "      <td>0.0</td>\n",
       "      <td>0.0</td>\n",
       "      <td>0.0</td>\n",
       "      <td>0.0</td>\n",
       "      <td>0.0</td>\n",
       "      <td>0.0</td>\n",
       "      <td>0.0</td>\n",
       "      <td>0.0</td>\n",
       "      <td>0.0</td>\n",
       "      <td>...</td>\n",
       "      <td>0.0</td>\n",
       "      <td>0.000991</td>\n",
       "      <td>0.000000</td>\n",
       "      <td>0.002973</td>\n",
       "      <td>0.000495</td>\n",
       "      <td>0.999863</td>\n",
       "      <td>0.003468</td>\n",
       "      <td>0.012387</td>\n",
       "      <td>0.009909</td>\n",
       "      <td>0.000991</td>\n",
       "    </tr>\n",
       "  </tbody>\n",
       "</table>\n",
       "<p>5 rows × 10968 columns</p>\n",
       "</div>"
      ],
      "text/plain": [
       "     0    1    2    3    4    5    6    7    8    9  ...  10958  type_of_food  \\\n",
       "0  0.0  0.0  0.0  0.0  0.0  0.0  0.0  0.0  0.0  0.0  ...    0.0      0.001486   \n",
       "1  0.0  0.0  0.0  0.0  0.0  0.0  0.0  0.0  0.0  0.0  ...    0.0      0.001982   \n",
       "2  0.0  0.0  0.0  0.0  0.0  0.0  0.0  0.0  0.0  0.0  ...    0.0      0.001982   \n",
       "3  0.0  0.0  0.0  0.0  0.0  0.0  0.0  0.0  0.0  0.0  ...    0.0      0.001044   \n",
       "4  0.0  0.0  0.0  0.0  0.0  0.0  0.0  0.0  0.0  0.0  ...    0.0      0.000991   \n",
       "\n",
       "   Pictures_uploaded  followers   reviews      year     month       day  \\\n",
       "0           0.000000   0.000000  0.000495  0.999953  0.002476  0.008915   \n",
       "1           0.000000   0.001982  0.003964  0.999938  0.003964  0.005451   \n",
       "2           0.000000   0.000496  0.000496  0.999961  0.004955  0.000991   \n",
       "3           0.001044   0.711693  0.012529  0.702296  0.002784  0.006264   \n",
       "4           0.000000   0.002973  0.000495  0.999863  0.003468  0.012387   \n",
       "\n",
       "       hour  day_of_week  \n",
       "0  0.000495     0.002476  \n",
       "1  0.006937     0.002478  \n",
       "2  0.006937     0.000496  \n",
       "3  0.008004     0.001740  \n",
       "4  0.009909     0.000991  \n",
       "\n",
       "[5 rows x 10968 columns]"
      ]
     },
     "execution_count": 196,
     "metadata": {},
     "output_type": "execute_result"
    }
   ],
   "source": [
    "final.head()"
   ]
  },
  {
   "cell_type": "code",
   "execution_count": 197,
   "metadata": {},
   "outputs": [
    {
     "data": {
      "text/plain": [
       "(6392, 10968)"
      ]
     },
     "execution_count": 197,
     "metadata": {},
     "output_type": "execute_result"
    }
   ],
   "source": [
    "final.shape"
   ]
  },
  {
   "cell_type": "code",
   "execution_count": 198,
   "metadata": {},
   "outputs": [
    {
     "data": {
      "text/plain": [
       "(6396, 10959)"
      ]
     },
     "execution_count": 198,
     "metadata": {},
     "output_type": "execute_result"
    }
   ],
   "source": [
    "X.shape"
   ]
  },
  {
   "cell_type": "code",
   "execution_count": 199,
   "metadata": {},
   "outputs": [
    {
     "data": {
      "text/plain": [
       "(6396,)"
      ]
     },
     "execution_count": 199,
     "metadata": {},
     "output_type": "execute_result"
    }
   ],
   "source": [
    "y.shape"
   ]
  },
  {
   "cell_type": "markdown",
   "metadata": {},
   "source": [
    "<a id='target'></a>\n",
    "# 7.TARGET VARIABLE VISUALISATION"
   ]
  },
  {
   "cell_type": "code",
   "execution_count": 236,
   "metadata": {},
   "outputs": [
    {
     "data": {
      "text/plain": [
       "<AxesSubplot:ylabel='count'>"
      ]
     },
     "execution_count": 236,
     "metadata": {},
     "output_type": "execute_result"
    },
    {
     "data": {
      "image/png": "[encoded data removed]",
      "text/plain": [
       "<Figure size 432x288 with 1 Axes>"
      ]
     },
     "metadata": {
      "needs_background": "light"
     },
     "output_type": "display_data"
    }
   ],
   "source": [
    "sns.countplot(y)# checking target variable whether it is imbalanced or balanced dataset"
   ]
  },
  {
   "cell_type": "markdown",
   "metadata": {},
   "source": [
    "<a id='base'></a>\n",
    "\n",
    "# 8.MODEL BUILDING"
   ]
  },
  {
   "cell_type": "code",
   "execution_count": 200,
   "metadata": {},
   "outputs": [],
   "source": [
    "# Splitting data into train and test\n",
    "x_train,x_test,y_train,y_test=train_test_split(X,y,test_size=0.2,random_state=1)"
   ]
  },
  {
   "cell_type": "code",
   "execution_count": 201,
   "metadata": {},
   "outputs": [],
   "source": [
    "#Creating Result Tabulation\n",
    "result_tab=pd.DataFrame(columns=['Model_name','Model'])"
   ]
  },
  {
   "cell_type": "code",
   "execution_count": 202,
   "metadata": {},
   "outputs": [],
   "source": [
    "#Building models and evaluating metrics\n",
    "\n",
    "\n",
    "\n",
    "\n",
    "def print_score(model,clf, X_train, y_train, X_test, y_test, train=True):\n",
    "    global result_tab\n",
    "    '''\n",
    "    print the accuracy score, classification report and confusion matrix of classifier\n",
    "    '''\n",
    "    if train:\n",
    "        '''\n",
    "        training performance\n",
    "        '''\n",
    "        print(\"Train Result:\\n\")\n",
    "        print(\"accuracy score: {0:.4f}\\n\".format(accuracy_score(y_train, clf.predict(X_train))))\n",
    "        print(\"Classification Report: \\n {}\\n\".format(classification_report(y_train, clf.predict(X_train))))\n",
    "\n",
    "        res = cross_val_score(clf, X_train, y_train, cv=10, scoring='accuracy')\n",
    "        print(\"Average Accuracy: \\t {0:.4f}\".format(np.mean(res)))\n",
    "        print(\"Accuracy SD: \\t\\t {0:.4f}\".format(np.std(res)))\n",
    "        \n",
    "        y_pred=i.predict(x_test)\n",
    "        \n",
    "        pred_prob1 = i.predict_proba(x_test)\n",
    "        fpr1, tpr1, thresh1 = roc_curve(y_test, pred_prob1[:,1], pos_label=1)\n",
    "        confusion_mat=confusion_matrix(y_pred,y_test)\n",
    "        print(confusion_mat)\n",
    "        \n",
    "        plt.plot(fpr1, tpr1, color='orange', label='ROC')\n",
    "        plt.plot([0, 1], [0, 1], color='darkblue', linestyle='--')\n",
    "        plt.xlabel('False Positive Rate')\n",
    "        plt.ylabel('True Positive Rate')\n",
    "        plt.title('Receiver Operating Characteristic (ROC) Curve')\n",
    "        plt.legend()\n",
    "        plt.show()\n",
    "        print()\n",
    "        \n",
    "        modd=pd.Series({'Model_name':str(model)[0:10],\n",
    "                        'Model': str(i),\n",
    "                    'Precision Score': metrics.precision_score(y_test, y_pred,average = 'weighted'),\n",
    "                    'Recall Score': metrics.recall_score(y_test, y_pred, average = 'weighted'),\n",
    "                    'Accuracy Score': metrics.accuracy_score(y_test, y_pred),\n",
    "                    'Kappa Score': cohen_kappa_score(y_test, y_pred),\n",
    "                    'f1-score': f1_score(y_test, y_pred,average = 'weighted'),\n",
    "                    \"accuracy_score\": accuracy_score(y_pred,y_test),\n",
    "                   \"confusion matrix\":confusion_matrix(y_pred,y_test)})\n",
    "                    #'Sensitivity':100*confusion_mat[0][0]/(confusion_mat[0][0]+confusion_mat[0][1]),\n",
    "                    #'Specificity': 100*confusion_mat[1][1]/(confusion_mat[1][1]+confusion_mat[1][0])})\n",
    "        \n",
    "        result_tab=result_tab.append(modd,ignore_index=True)\n",
    "        \n",
    "    return result_tab"
   ]
  },
  {
   "cell_type": "code",
   "execution_count": 203,
   "metadata": {},
   "outputs": [
    {
     "name": "stdout",
     "output_type": "stream",
     "text": [
      "LogisticRegression(multi_class='ovr')\n",
      "Train Result:\n",
      "\n",
      "accuracy score: 0.7551\n",
      "\n",
      "Classification Report: \n",
      "               precision    recall  f1-score   support\n",
      "\n",
      "           0       0.78      0.93      0.85       905\n",
      "           1       0.00      0.00      0.00         3\n",
      "           2       0.95      0.11      0.20       323\n",
      "           3       0.00      0.00      0.00         6\n",
      "           4       0.81      0.41      0.55       612\n",
      "           5       0.00      0.00      0.00        10\n",
      "           6       0.69      0.69      0.69      1231\n",
      "           7       0.00      0.00      0.00        24\n",
      "           8       0.77      0.94      0.85      2002\n",
      "\n",
      "    accuracy                           0.76      5116\n",
      "   macro avg       0.44      0.34      0.35      5116\n",
      "weighted avg       0.76      0.76      0.72      5116\n",
      "\n",
      "\n"
     ]
    },
    {
     "name": "stderr",
     "output_type": "stream",
     "text": [
      "C:\\Users\\Chiranth SB\\.conda\\envs\\tensorflow\\lib\\site-packages\\sklearn\\metrics\\_classification.py:1245: UndefinedMetricWarning: Precision and F-score are ill-defined and being set to 0.0 in labels with no predicted samples. Use `zero_division` parameter to control this behavior.\n",
      "  _warn_prf(average, modifier, msg_start, len(result))\n",
      "C:\\Users\\Chiranth SB\\.conda\\envs\\tensorflow\\lib\\site-packages\\sklearn\\metrics\\_classification.py:1245: UndefinedMetricWarning: Precision and F-score are ill-defined and being set to 0.0 in labels with no predicted samples. Use `zero_division` parameter to control this behavior.\n",
      "  _warn_prf(average, modifier, msg_start, len(result))\n",
      "C:\\Users\\Chiranth SB\\.conda\\envs\\tensorflow\\lib\\site-packages\\sklearn\\metrics\\_classification.py:1245: UndefinedMetricWarning: Precision and F-score are ill-defined and being set to 0.0 in labels with no predicted samples. Use `zero_division` parameter to control this behavior.\n",
      "  _warn_prf(average, modifier, msg_start, len(result))\n",
      "C:\\Users\\Chiranth SB\\.conda\\envs\\tensorflow\\lib\\site-packages\\sklearn\\model_selection\\_split.py:668: UserWarning: The least populated class in y has only 3 members, which is less than n_splits=10.\n",
      "  % (min_groups, self.n_splits)), UserWarning)\n"
     ]
    },
    {
     "name": "stdout",
     "output_type": "stream",
     "text": [
      "Average Accuracy: \t 0.6271\n",
      "Accuracy SD: \t\t 0.0165\n",
      "[[160  45  34   1  15   0   3]\n",
      " [  4   0   3   0   1   0   2]\n",
      " [  7  13  18   0   9   0   0]\n",
      " [  0   0   0   0   0   0   0]\n",
      " [  9  24  67   3 147   0  56]\n",
      " [  0   0   0   0   0   0   0]\n",
      " [ 21  20  40   1 156   5 416]]\n"
     ]
    },
    {
     "name": "stderr",
     "output_type": "stream",
     "text": [
      "C:\\Users\\Chiranth SB\\.conda\\envs\\tensorflow\\lib\\site-packages\\sklearn\\metrics\\_ranking.py:951: UndefinedMetricWarning: No positive samples in y_true, true positive value should be meaningless\n",
      "  UndefinedMetricWarning)\n"
     ]
    },
    {
     "data": {
      "image/png": "[encoded data removed]",
      "text/plain": [
       "<Figure size 432x288 with 1 Axes>"
      ]
     },
     "metadata": {
      "needs_background": "light"
     },
     "output_type": "display_data"
    },
    {
     "name": "stdout",
     "output_type": "stream",
     "text": [
      "\n"
     ]
    },
    {
     "name": "stderr",
     "output_type": "stream",
     "text": [
      "C:\\Users\\Chiranth SB\\.conda\\envs\\tensorflow\\lib\\site-packages\\sklearn\\metrics\\_classification.py:1245: UndefinedMetricWarning: Precision is ill-defined and being set to 0.0 in labels with no predicted samples. Use `zero_division` parameter to control this behavior.\n",
      "  _warn_prf(average, modifier, msg_start, len(result))\n"
     ]
    },
    {
     "name": "stdout",
     "output_type": "stream",
     "text": [
      "MultinomialNB()\n",
      "Train Result:\n",
      "\n",
      "accuracy score: 0.6474\n",
      "\n",
      "Classification Report: \n",
      "               precision    recall  f1-score   support\n",
      "\n",
      "           0       0.84      0.75      0.79       905\n",
      "           1       0.00      0.00      0.00         3\n",
      "           2       0.00      0.00      0.00       323\n",
      "           3       0.00      0.00      0.00         6\n",
      "           4       0.80      0.01      0.01       612\n",
      "           5       0.00      0.00      0.00        10\n",
      "           6       0.57      0.54      0.55      1231\n",
      "           7       0.00      0.00      0.00        24\n",
      "           8       0.63      0.98      0.77      2002\n",
      "\n",
      "    accuracy                           0.65      5116\n",
      "   macro avg       0.31      0.25      0.24      5116\n",
      "weighted avg       0.63      0.65      0.57      5116\n",
      "\n",
      "\n"
     ]
    },
    {
     "name": "stderr",
     "output_type": "stream",
     "text": [
      "C:\\Users\\Chiranth SB\\.conda\\envs\\tensorflow\\lib\\site-packages\\sklearn\\metrics\\_classification.py:1245: UndefinedMetricWarning: Precision and F-score are ill-defined and being set to 0.0 in labels with no predicted samples. Use `zero_division` parameter to control this behavior.\n",
      "  _warn_prf(average, modifier, msg_start, len(result))\n",
      "C:\\Users\\Chiranth SB\\.conda\\envs\\tensorflow\\lib\\site-packages\\sklearn\\metrics\\_classification.py:1245: UndefinedMetricWarning: Precision and F-score are ill-defined and being set to 0.0 in labels with no predicted samples. Use `zero_division` parameter to control this behavior.\n",
      "  _warn_prf(average, modifier, msg_start, len(result))\n",
      "C:\\Users\\Chiranth SB\\.conda\\envs\\tensorflow\\lib\\site-packages\\sklearn\\metrics\\_classification.py:1245: UndefinedMetricWarning: Precision and F-score are ill-defined and being set to 0.0 in labels with no predicted samples. Use `zero_division` parameter to control this behavior.\n",
      "  _warn_prf(average, modifier, msg_start, len(result))\n",
      "C:\\Users\\Chiranth SB\\.conda\\envs\\tensorflow\\lib\\site-packages\\sklearn\\model_selection\\_split.py:668: UserWarning: The least populated class in y has only 3 members, which is less than n_splits=10.\n",
      "  % (min_groups, self.n_splits)), UserWarning)\n"
     ]
    },
    {
     "name": "stdout",
     "output_type": "stream",
     "text": [
      "Average Accuracy: \t 0.5446\n",
      "Accuracy SD: \t\t 0.0172\n",
      "[[126  24  12   0   6   0   1]\n",
      " [  0   0   0   0   0   0   0]\n",
      " [  0   0   0   0   0   0   0]\n",
      " [  0   0   0   0   0   0   0]\n",
      " [ 24  44  66   1  93   0  18]\n",
      " [  0   0   0   0   0   0   0]\n",
      " [ 51  34  84   4 229   5 458]]\n"
     ]
    },
    {
     "name": "stderr",
     "output_type": "stream",
     "text": [
      "C:\\Users\\Chiranth SB\\.conda\\envs\\tensorflow\\lib\\site-packages\\sklearn\\metrics\\_ranking.py:951: UndefinedMetricWarning: No positive samples in y_true, true positive value should be meaningless\n",
      "  UndefinedMetricWarning)\n"
     ]
    },
    {
     "data": {
      "image/png": "[encoded data removed]",
      "text/plain": [
       "<Figure size 432x288 with 1 Axes>"
      ]
     },
     "metadata": {
      "needs_background": "light"
     },
     "output_type": "display_data"
    },
    {
     "name": "stdout",
     "output_type": "stream",
     "text": [
      "\n"
     ]
    },
    {
     "name": "stderr",
     "output_type": "stream",
     "text": [
      "C:\\Users\\Chiranth SB\\.conda\\envs\\tensorflow\\lib\\site-packages\\sklearn\\metrics\\_classification.py:1245: UndefinedMetricWarning: Precision is ill-defined and being set to 0.0 in labels with no predicted samples. Use `zero_division` parameter to control this behavior.\n",
      "  _warn_prf(average, modifier, msg_start, len(result))\n"
     ]
    },
    {
     "name": "stdout",
     "output_type": "stream",
     "text": [
      "RandomForestClassifier()\n",
      "Train Result:\n",
      "\n",
      "accuracy score: 0.9820\n",
      "\n",
      "Classification Report: \n",
      "               precision    recall  f1-score   support\n",
      "\n",
      "           0       1.00      0.99      0.99       905\n",
      "           1       1.00      1.00      1.00         3\n",
      "           2       0.98      0.97      0.98       323\n",
      "           3       1.00      1.00      1.00         6\n",
      "           4       0.98      0.97      0.98       612\n",
      "           5       1.00      1.00      1.00        10\n",
      "           6       1.00      0.96      0.98      1231\n",
      "           7       1.00      1.00      1.00        24\n",
      "           8       0.97      1.00      0.98      2002\n",
      "\n",
      "    accuracy                           0.98      5116\n",
      "   macro avg       0.99      0.99      0.99      5116\n",
      "weighted avg       0.98      0.98      0.98      5116\n",
      "\n",
      "\n"
     ]
    },
    {
     "name": "stderr",
     "output_type": "stream",
     "text": [
      "C:\\Users\\Chiranth SB\\.conda\\envs\\tensorflow\\lib\\site-packages\\sklearn\\model_selection\\_split.py:668: UserWarning: The least populated class in y has only 3 members, which is less than n_splits=10.\n",
      "  % (min_groups, self.n_splits)), UserWarning)\n"
     ]
    },
    {
     "name": "stdout",
     "output_type": "stream",
     "text": [
      "Average Accuracy: \t 0.6030\n",
      "Accuracy SD: \t\t 0.0141\n"
     ]
    },
    {
     "name": "stderr",
     "output_type": "stream",
     "text": [
      "C:\\Users\\Chiranth SB\\.conda\\envs\\tensorflow\\lib\\site-packages\\sklearn\\metrics\\_ranking.py:951: UndefinedMetricWarning: No positive samples in y_true, true positive value should be meaningless\n",
      "  UndefinedMetricWarning)\n"
     ]
    },
    {
     "name": "stdout",
     "output_type": "stream",
     "text": [
      "[[160  44  40   1  13   0   6]\n",
      " [  4   2   3   0   0   0   2]\n",
      " [  4   7  11   0   6   0   2]\n",
      " [  0   0   0   0   0   0   0]\n",
      " [  7  25  53   2 105   0  28]\n",
      " [  0   0   0   0   0   0   0]\n",
      " [ 26  24  55   2 204   5 439]]\n"
     ]
    },
    {
     "data": {
      "image/png": "[encoded data removed]",
      "text/plain": [
       "<Figure size 432x288 with 1 Axes>"
      ]
     },
     "metadata": {
      "needs_background": "light"
     },
     "output_type": "display_data"
    },
    {
     "name": "stdout",
     "output_type": "stream",
     "text": [
      "\n"
     ]
    },
    {
     "name": "stderr",
     "output_type": "stream",
     "text": [
      "C:\\Users\\Chiranth SB\\.conda\\envs\\tensorflow\\lib\\site-packages\\sklearn\\metrics\\_classification.py:1245: UndefinedMetricWarning: Precision is ill-defined and being set to 0.0 in labels with no predicted samples. Use `zero_division` parameter to control this behavior.\n",
      "  _warn_prf(average, modifier, msg_start, len(result))\n"
     ]
    },
    {
     "name": "stdout",
     "output_type": "stream",
     "text": [
      "XGBClassifier(objective='multi:softprob')\n",
      "Train Result:\n",
      "\n",
      "accuracy score: 0.6947\n",
      "\n",
      "Classification Report: \n",
      "               precision    recall  f1-score   support\n",
      "\n",
      "           0       0.76      0.79      0.77       905\n",
      "           1       1.00      1.00      1.00         3\n",
      "           2       0.95      0.18      0.30       323\n",
      "           3       1.00      0.67      0.80         6\n",
      "           4       0.81      0.36      0.50       612\n",
      "           5       1.00      0.80      0.89        10\n",
      "           6       0.68      0.56      0.61      1231\n",
      "           7       1.00      0.79      0.88        24\n",
      "           8       0.66      0.92      0.77      2002\n",
      "\n",
      "    accuracy                           0.69      5116\n",
      "   macro avg       0.87      0.67      0.73      5116\n",
      "weighted avg       0.72      0.69      0.67      5116\n",
      "\n",
      "\n"
     ]
    },
    {
     "name": "stderr",
     "output_type": "stream",
     "text": [
      "C:\\Users\\Chiranth SB\\.conda\\envs\\tensorflow\\lib\\site-packages\\sklearn\\model_selection\\_split.py:668: UserWarning: The least populated class in y has only 3 members, which is less than n_splits=10.\n",
      "  % (min_groups, self.n_splits)), UserWarning)\n"
     ]
    },
    {
     "name": "stdout",
     "output_type": "stream",
     "text": [
      "Average Accuracy: \t 0.5858\n",
      "Accuracy SD: \t\t 0.0138\n"
     ]
    },
    {
     "name": "stderr",
     "output_type": "stream",
     "text": [
      "C:\\Users\\Chiranth SB\\.conda\\envs\\tensorflow\\lib\\site-packages\\sklearn\\metrics\\_ranking.py:951: UndefinedMetricWarning: No positive samples in y_true, true positive value should be meaningless\n",
      "  UndefinedMetricWarning)\n"
     ]
    },
    {
     "name": "stdout",
     "output_type": "stream",
     "text": [
      "[[135  38  25   1   9   0   6]\n",
      " [  5   2   3   0   1   0   0]\n",
      " [  4  10  24   0  14   0   2]\n",
      " [  0   0   0   0   0   0   0]\n",
      " [ 10  20  53   2 116   0  55]\n",
      " [  0   0   0   0   0   0   0]\n",
      " [ 47  32  57   2 188   5 414]]\n"
     ]
    },
    {
     "data": {
      "image/png": "[encoded data removed]",
      "text/plain": [
       "<Figure size 432x288 with 1 Axes>"
      ]
     },
     "metadata": {
      "needs_background": "light"
     },
     "output_type": "display_data"
    },
    {
     "name": "stdout",
     "output_type": "stream",
     "text": [
      "\n"
     ]
    },
    {
     "name": "stderr",
     "output_type": "stream",
     "text": [
      "C:\\Users\\Chiranth SB\\.conda\\envs\\tensorflow\\lib\\site-packages\\sklearn\\metrics\\_classification.py:1245: UndefinedMetricWarning: Precision is ill-defined and being set to 0.0 in labels with no predicted samples. Use `zero_division` parameter to control this behavior.\n",
      "  _warn_prf(average, modifier, msg_start, len(result))\n"
     ]
    }
   ],
   "source": [
    "models=[LogisticRegression(multi_class='ovr'),MultinomialNB(), RandomForestClassifier(), XGBClassifier()]\n",
    "\n",
    "\n",
    "for i in models:\n",
    "    \n",
    "    clf = i\n",
    "    clf.fit(x_train, y_train)\n",
    "    print(clf)\n",
    "    print_score('Base',clf, x_train, y_train, x_test, y_test, train=True)\n",
    "    "
   ]
  },
  {
   "cell_type": "code",
   "execution_count": 204,
   "metadata": {},
   "outputs": [
    {
     "data": {
      "text/html": [
       "<div>\n",
       "<style scoped>\n",
       "    .dataframe tbody tr th:only-of-type {\n",
       "        vertical-align: middle;\n",
       "    }\n",
       "\n",
       "    .dataframe tbody tr th {\n",
       "        vertical-align: top;\n",
       "    }\n",
       "\n",
       "    .dataframe thead th {\n",
       "        text-align: right;\n",
       "    }\n",
       "</style>\n",
       "<table border=\"1\" class=\"dataframe\">\n",
       "  <thead>\n",
       "    <tr style=\"text-align: right;\">\n",
       "      <th></th>\n",
       "      <th>Model_name</th>\n",
       "      <th>Model</th>\n",
       "      <th>Accuracy Score</th>\n",
       "      <th>Kappa Score</th>\n",
       "      <th>Precision Score</th>\n",
       "      <th>Recall Score</th>\n",
       "      <th>accuracy_score</th>\n",
       "      <th>confusion matrix</th>\n",
       "      <th>f1-score</th>\n",
       "    </tr>\n",
       "  </thead>\n",
       "  <tbody>\n",
       "    <tr>\n",
       "      <th>0</th>\n",
       "      <td>Base</td>\n",
       "      <td>LogisticRegression(multi_class='ovr')</td>\n",
       "      <td>0.578906</td>\n",
       "      <td>0.406876</td>\n",
       "      <td>0.504198</td>\n",
       "      <td>0.578906</td>\n",
       "      <td>0.578906</td>\n",
       "      <td>[[160, 45, 34, 1, 15, 0, 3], [4, 0, 3, 0, 1, 0...</td>\n",
       "      <td>0.523038</td>\n",
       "    </tr>\n",
       "    <tr>\n",
       "      <th>1</th>\n",
       "      <td>Base</td>\n",
       "      <td>MultinomialNB()</td>\n",
       "      <td>0.528906</td>\n",
       "      <td>0.305361</td>\n",
       "      <td>0.411265</td>\n",
       "      <td>0.528906</td>\n",
       "      <td>0.528906</td>\n",
       "      <td>[[126, 24, 12, 0, 6, 0, 1], [0, 0, 0, 0, 0, 0,...</td>\n",
       "      <td>0.444348</td>\n",
       "    </tr>\n",
       "    <tr>\n",
       "      <th>2</th>\n",
       "      <td>Base</td>\n",
       "      <td>RandomForestClassifier()</td>\n",
       "      <td>0.560156</td>\n",
       "      <td>0.371750</td>\n",
       "      <td>0.495050</td>\n",
       "      <td>0.560156</td>\n",
       "      <td>0.560156</td>\n",
       "      <td>[[160, 44, 40, 1, 13, 0, 6], [4, 2, 3, 0, 0, 0...</td>\n",
       "      <td>0.489163</td>\n",
       "    </tr>\n",
       "    <tr>\n",
       "      <th>3</th>\n",
       "      <td>Base</td>\n",
       "      <td>XGBClassifier(objective='multi:softprob')</td>\n",
       "      <td>0.539844</td>\n",
       "      <td>0.342234</td>\n",
       "      <td>0.493001</td>\n",
       "      <td>0.539844</td>\n",
       "      <td>0.539844</td>\n",
       "      <td>[[135, 38, 25, 1, 9, 0, 6], [5, 2, 3, 0, 1, 0,...</td>\n",
       "      <td>0.487412</td>\n",
       "    </tr>\n",
       "  </tbody>\n",
       "</table>\n",
       "</div>"
      ],
      "text/plain": [
       "  Model_name                                      Model  Accuracy Score  \\\n",
       "0       Base      LogisticRegression(multi_class='ovr')        0.578906   \n",
       "1       Base                            MultinomialNB()        0.528906   \n",
       "2       Base                   RandomForestClassifier()        0.560156   \n",
       "3       Base  XGBClassifier(objective='multi:softprob')        0.539844   \n",
       "\n",
       "   Kappa Score  Precision Score  Recall Score  accuracy_score  \\\n",
       "0     0.406876         0.504198      0.578906        0.578906   \n",
       "1     0.305361         0.411265      0.528906        0.528906   \n",
       "2     0.371750         0.495050      0.560156        0.560156   \n",
       "3     0.342234         0.493001      0.539844        0.539844   \n",
       "\n",
       "                                    confusion matrix  f1-score  \n",
       "0  [[160, 45, 34, 1, 15, 0, 3], [4, 0, 3, 0, 1, 0...  0.523038  \n",
       "1  [[126, 24, 12, 0, 6, 0, 1], [0, 0, 0, 0, 0, 0,...  0.444348  \n",
       "2  [[160, 44, 40, 1, 13, 0, 6], [4, 2, 3, 0, 0, 0...  0.489163  \n",
       "3  [[135, 38, 25, 1, 9, 0, 6], [5, 2, 3, 0, 1, 0,...  0.487412  "
      ]
     },
     "execution_count": 204,
     "metadata": {},
     "output_type": "execute_result"
    }
   ],
   "source": [
    "result_tab"
   ]
  },
  {
   "cell_type": "code",
   "execution_count": 205,
   "metadata": {},
   "outputs": [
    {
     "data": {
      "text/plain": [
       "(6396, 10959)"
      ]
     },
     "execution_count": 205,
     "metadata": {},
     "output_type": "execute_result"
    }
   ],
   "source": [
    "X.shape"
   ]
  },
  {
   "cell_type": "code",
   "execution_count": 206,
   "metadata": {},
   "outputs": [
    {
     "data": {
      "text/plain": [
       "(6396,)"
      ]
     },
     "execution_count": 206,
     "metadata": {},
     "output_type": "execute_result"
    }
   ],
   "source": [
    "y.shape"
   ]
  },
  {
   "cell_type": "markdown",
   "metadata": {},
   "source": [
    "<a id='oversampler'></a>\n",
    "\n",
    "# 9.HANDLING IMBALANCED DATASET USING OVERSAMPLING TECHNIQUE"
   ]
  },
  {
   "cell_type": "code",
   "execution_count": 208,
   "metadata": {},
   "outputs": [],
   "source": [
    "fit_ov = RandomOverSampler()\n",
    "x_re, y_re = fit_ov.fit_resample(X,y)"
   ]
  },
  {
   "cell_type": "code",
   "execution_count": 209,
   "metadata": {},
   "outputs": [
    {
     "data": {
      "text/plain": [
       "(22311, 10959)"
      ]
     },
     "execution_count": 209,
     "metadata": {},
     "output_type": "execute_result"
    }
   ],
   "source": [
    "x_re.shape"
   ]
  },
  {
   "cell_type": "code",
   "execution_count": 210,
   "metadata": {},
   "outputs": [
    {
     "data": {
      "text/plain": [
       "(22311,)"
      ]
     },
     "execution_count": 210,
     "metadata": {},
     "output_type": "execute_result"
    }
   ],
   "source": [
    "y_re.shape"
   ]
  },
  {
   "cell_type": "code",
   "execution_count": 211,
   "metadata": {},
   "outputs": [
    {
     "data": {
      "text/plain": [
       "<AxesSubplot:ylabel='count'>"
      ]
     },
     "execution_count": 211,
     "metadata": {},
     "output_type": "execute_result"
    },
    {
     "data": {
      "image/png": "[encoded data removed]",
      "text/plain": [
       "<Figure size 432x288 with 1 Axes>"
      ]
     },
     "metadata": {
      "needs_background": "light"
     },
     "output_type": "display_data"
    }
   ],
   "source": [
    "sns.countplot(y_re)"
   ]
  },
  {
   "cell_type": "code",
   "execution_count": 212,
   "metadata": {},
   "outputs": [],
   "source": [
    "# Splitting data into train and test\n",
    "\n",
    "x_train,x_test,y_train,y_test=train_test_split(x_re,y_re,test_size=0.3,random_state=1)"
   ]
  },
  {
   "cell_type": "code",
   "execution_count": 213,
   "metadata": {},
   "outputs": [
    {
     "name": "stdout",
     "output_type": "stream",
     "text": [
      "LogisticRegression(multi_class='ovr')\n",
      "Train Result:\n",
      "\n",
      "accuracy score: 0.9101\n",
      "\n",
      "Classification Report: \n",
      "               precision    recall  f1-score   support\n",
      "\n",
      "           0       0.88      0.91      0.89      1774\n",
      "           1       1.00      1.00      1.00      1716\n",
      "           2       0.87      0.88      0.88      1756\n",
      "           3       1.00      1.00      1.00      1734\n",
      "           4       0.85      0.82      0.83      1708\n",
      "           5       0.99      1.00      0.99      1757\n",
      "           6       0.81      0.75      0.78      1709\n",
      "           7       0.98      1.00      0.99      1755\n",
      "           8       0.81      0.83      0.82      1708\n",
      "\n",
      "    accuracy                           0.91     15617\n",
      "   macro avg       0.91      0.91      0.91     15617\n",
      "weighted avg       0.91      0.91      0.91     15617\n",
      "\n",
      "\n",
      "Average Accuracy: \t 0.8482\n",
      "Accuracy SD: \t\t 0.0109\n",
      "[[594   0  55   0  55   0  25   0  19]\n",
      " [  0 763   0   0   0   0   0   0   0]\n",
      " [ 70   0 600   0  50   0  45   0  13]\n",
      " [  0   0   0 745   0   0   0   0   0]\n",
      " [ 24   0  34   0 554   0 101   0  39]\n",
      " [  0   0   4   0   0 722   4   0   5]\n",
      " [  9   0  14   0  73   0 437   0 144]\n",
      " [  0   0   0   0   1   0   7 724   4]\n",
      " [  8   0  16   0  38   0 151   0 547]]\n"
     ]
    },
    {
     "data": {
      "image/png": "[encoded data removed]",
      "text/plain": [
       "<Figure size 432x288 with 1 Axes>"
      ]
     },
     "metadata": {
      "needs_background": "light"
     },
     "output_type": "display_data"
    },
    {
     "name": "stdout",
     "output_type": "stream",
     "text": [
      "\n",
      "MultinomialNB()\n",
      "Train Result:\n",
      "\n",
      "accuracy score: 0.8796\n",
      "\n",
      "Classification Report: \n",
      "               precision    recall  f1-score   support\n",
      "\n",
      "           0       0.86      0.83      0.85      1774\n",
      "           1       0.96      1.00      0.98      1716\n",
      "           2       0.81      0.85      0.83      1756\n",
      "           3       0.96      1.00      0.98      1734\n",
      "           4       0.84      0.76      0.80      1708\n",
      "           5       0.95      1.00      0.98      1757\n",
      "           6       0.72      0.81      0.76      1709\n",
      "           7       0.95      1.00      0.97      1755\n",
      "           8       0.86      0.66      0.75      1708\n",
      "\n",
      "    accuracy                           0.88     15617\n",
      "   macro avg       0.88      0.88      0.88     15617\n",
      "weighted avg       0.88      0.88      0.88     15617\n",
      "\n",
      "\n",
      "Average Accuracy: \t 0.8240\n",
      "Accuracy SD: \t\t 0.0103\n",
      "[[549   0  52   0  48   0  18   0   8]\n",
      " [  3 763   3   0   5   0   1   0   6]\n",
      " [ 90   0 579   0  77   0  56   0  20]\n",
      " [ 17   0   1 745   1   0   4   0  13]\n",
      " [ 22   0  40   0 494   0  75   0  40]\n",
      " [  2   0   9   0  11 722   5   0   9]\n",
      " [ 14   0  24   0 110   0 537   0 236]\n",
      " [  4   0   4   0  10   0  15 724  18]\n",
      " [  4   0  11   0  15   0  59   0 421]]\n"
     ]
    },
    {
     "data": {
      "image/png": "[encoded data removed]",
      "text/plain": [
       "<Figure size 432x288 with 1 Axes>"
      ]
     },
     "metadata": {
      "needs_background": "light"
     },
     "output_type": "display_data"
    },
    {
     "name": "stdout",
     "output_type": "stream",
     "text": [
      "\n",
      "RandomForestClassifier()\n",
      "Train Result:\n",
      "\n",
      "accuracy score: 0.9882\n",
      "\n",
      "Classification Report: \n",
      "               precision    recall  f1-score   support\n",
      "\n",
      "           0       1.00      0.98      0.99      1774\n",
      "           1       1.00      1.00      1.00      1716\n",
      "           2       0.99      0.98      0.98      1756\n",
      "           3       1.00      1.00      1.00      1734\n",
      "           4       0.98      0.98      0.98      1708\n",
      "           5       1.00      1.00      1.00      1757\n",
      "           6       1.00      0.96      0.98      1709\n",
      "           7       1.00      1.00      1.00      1755\n",
      "           8       0.93      0.99      0.96      1708\n",
      "\n",
      "    accuracy                           0.99     15617\n",
      "   macro avg       0.99      0.99      0.99     15617\n",
      "weighted avg       0.99      0.99      0.99     15617\n",
      "\n",
      "\n",
      "Average Accuracy: \t 0.9188\n",
      "Accuracy SD: \t\t 0.0085\n",
      "[[672   0   6   0  23   0  21   0  13]\n",
      " [  0 763   0   0   0   0   0   0   0]\n",
      " [ 10   0 693   0   1   0   6   0  10]\n",
      " [  0   0   0 745   0   0   0   0   0]\n",
      " [  7   0   9   0 664   0  29   0  10]\n",
      " [  0   0   0   0   0 722   0   0   0]\n",
      " [  7   0   0   0  52   0 546   0 134]\n",
      " [  0   0   0   0   0   0   0 724   1]\n",
      " [  9   0  15   0  31   0 168   0 603]]\n"
     ]
    },
    {
     "data": {
      "image/png": "[encoded data removed]",
      "text/plain": [
       "<Figure size 432x288 with 1 Axes>"
      ]
     },
     "metadata": {
      "needs_background": "light"
     },
     "output_type": "display_data"
    },
    {
     "name": "stdout",
     "output_type": "stream",
     "text": [
      "\n",
      "XGBClassifier(objective='multi:softprob')\n",
      "Train Result:\n",
      "\n",
      "accuracy score: 0.8290\n",
      "\n",
      "Classification Report: \n",
      "               precision    recall  f1-score   support\n",
      "\n",
      "           0       0.74      0.76      0.75      1774\n",
      "           1       1.00      1.00      1.00      1716\n",
      "           2       0.62      0.74      0.68      1756\n",
      "           3       1.00      1.00      1.00      1734\n",
      "           4       0.77      0.61      0.68      1708\n",
      "           5       1.00      1.00      1.00      1757\n",
      "           6       0.68      0.63      0.65      1709\n",
      "           7       0.97      1.00      0.98      1755\n",
      "           8       0.70      0.71      0.71      1708\n",
      "\n",
      "    accuracy                           0.83     15617\n",
      "   macro avg       0.83      0.83      0.83     15617\n",
      "weighted avg       0.83      0.83      0.83     15617\n",
      "\n",
      "\n",
      "Average Accuracy: \t 0.7863\n",
      "Accuracy SD: \t\t 0.0112\n",
      "[[502   0 133   0  56   0  29   0  22]\n",
      " [  0 763   0   0   0   0   0   0   1]\n",
      " [147   0 484   0 139   0  73   0  56]\n",
      " [  0   0   0 745   0   0   0   0   0]\n",
      " [ 25   0  61   0 386   0  79   0  29]\n",
      " [  0   0   0   0   0 722   6   0   2]\n",
      " [ 14   0  12   0 121   0 426   0 173]\n",
      " [  2   0   3   0   5   0  10 724  15]\n",
      " [ 15   0  30   0  64   0 147   0 473]]\n"
     ]
    },
    {
     "data": {
      "image/png": "[encoded data removed]",
      "text/plain": [
       "<Figure size 432x288 with 1 Axes>"
      ]
     },
     "metadata": {
      "needs_background": "light"
     },
     "output_type": "display_data"
    },
    {
     "name": "stdout",
     "output_type": "stream",
     "text": [
      "\n"
     ]
    }
   ],
   "source": [
    "models=[LogisticRegression(multi_class='ovr'),MultinomialNB(), RandomForestClassifier(), XGBClassifier()]\n",
    "\n",
    "\n",
    "for i in models:\n",
    "    \n",
    "    clf = i\n",
    "    clf.fit(x_train, y_train)\n",
    "    print(clf)\n",
    "    print_score('oversampling',clf, x_train, y_train, x_test, y_test, train=True)"
   ]
  },
  {
   "cell_type": "code",
   "execution_count": 214,
   "metadata": {},
   "outputs": [
    {
     "data": {
      "text/html": [
       "<div>\n",
       "<style scoped>\n",
       "    .dataframe tbody tr th:only-of-type {\n",
       "        vertical-align: middle;\n",
       "    }\n",
       "\n",
       "    .dataframe tbody tr th {\n",
       "        vertical-align: top;\n",
       "    }\n",
       "\n",
       "    .dataframe thead th {\n",
       "        text-align: right;\n",
       "    }\n",
       "</style>\n",
       "<table border=\"1\" class=\"dataframe\">\n",
       "  <thead>\n",
       "    <tr style=\"text-align: right;\">\n",
       "      <th></th>\n",
       "      <th>Model_name</th>\n",
       "      <th>Model</th>\n",
       "      <th>Accuracy Score</th>\n",
       "      <th>Kappa Score</th>\n",
       "      <th>Precision Score</th>\n",
       "      <th>Recall Score</th>\n",
       "      <th>accuracy_score</th>\n",
       "      <th>confusion matrix</th>\n",
       "      <th>f1-score</th>\n",
       "    </tr>\n",
       "  </thead>\n",
       "  <tbody>\n",
       "    <tr>\n",
       "      <th>0</th>\n",
       "      <td>Base</td>\n",
       "      <td>LogisticRegression(multi_class='ovr')</td>\n",
       "      <td>0.578906</td>\n",
       "      <td>0.406876</td>\n",
       "      <td>0.504198</td>\n",
       "      <td>0.578906</td>\n",
       "      <td>0.578906</td>\n",
       "      <td>[[160, 45, 34, 1, 15, 0, 3], [4, 0, 3, 0, 1, 0...</td>\n",
       "      <td>0.523038</td>\n",
       "    </tr>\n",
       "    <tr>\n",
       "      <th>1</th>\n",
       "      <td>Base</td>\n",
       "      <td>MultinomialNB()</td>\n",
       "      <td>0.528906</td>\n",
       "      <td>0.305361</td>\n",
       "      <td>0.411265</td>\n",
       "      <td>0.528906</td>\n",
       "      <td>0.528906</td>\n",
       "      <td>[[126, 24, 12, 0, 6, 0, 1], [0, 0, 0, 0, 0, 0,...</td>\n",
       "      <td>0.444348</td>\n",
       "    </tr>\n",
       "    <tr>\n",
       "      <th>2</th>\n",
       "      <td>Base</td>\n",
       "      <td>RandomForestClassifier()</td>\n",
       "      <td>0.560156</td>\n",
       "      <td>0.371750</td>\n",
       "      <td>0.495050</td>\n",
       "      <td>0.560156</td>\n",
       "      <td>0.560156</td>\n",
       "      <td>[[160, 44, 40, 1, 13, 0, 6], [4, 2, 3, 0, 0, 0...</td>\n",
       "      <td>0.489163</td>\n",
       "    </tr>\n",
       "    <tr>\n",
       "      <th>3</th>\n",
       "      <td>Base</td>\n",
       "      <td>XGBClassifier(objective='multi:softprob')</td>\n",
       "      <td>0.539844</td>\n",
       "      <td>0.342234</td>\n",
       "      <td>0.493001</td>\n",
       "      <td>0.539844</td>\n",
       "      <td>0.539844</td>\n",
       "      <td>[[135, 38, 25, 1, 9, 0, 6], [5, 2, 3, 0, 1, 0,...</td>\n",
       "      <td>0.487412</td>\n",
       "    </tr>\n",
       "    <tr>\n",
       "      <th>4</th>\n",
       "      <td>oversampli</td>\n",
       "      <td>LogisticRegression(multi_class='ovr')</td>\n",
       "      <td>0.849417</td>\n",
       "      <td>0.830600</td>\n",
       "      <td>0.846550</td>\n",
       "      <td>0.849417</td>\n",
       "      <td>0.849417</td>\n",
       "      <td>[[594, 0, 55, 0, 55, 0, 25, 0, 19], [0, 763, 0...</td>\n",
       "      <td>0.847471</td>\n",
       "    </tr>\n",
       "    <tr>\n",
       "      <th>5</th>\n",
       "      <td>oversampli</td>\n",
       "      <td>MultinomialNB()</td>\n",
       "      <td>0.826710</td>\n",
       "      <td>0.805063</td>\n",
       "      <td>0.829973</td>\n",
       "      <td>0.826710</td>\n",
       "      <td>0.826710</td>\n",
       "      <td>[[549, 0, 52, 0, 48, 0, 18, 0, 8], [3, 763, 3,...</td>\n",
       "      <td>0.823462</td>\n",
       "    </tr>\n",
       "    <tr>\n",
       "      <th>6</th>\n",
       "      <td>oversampli</td>\n",
       "      <td>RandomForestClassifier()</td>\n",
       "      <td>0.916044</td>\n",
       "      <td>0.905541</td>\n",
       "      <td>0.916826</td>\n",
       "      <td>0.916044</td>\n",
       "      <td>0.916044</td>\n",
       "      <td>[[672, 0, 6, 0, 23, 0, 21, 0, 13], [0, 763, 0,...</td>\n",
       "      <td>0.916128</td>\n",
       "    </tr>\n",
       "    <tr>\n",
       "      <th>7</th>\n",
       "      <td>oversampli</td>\n",
       "      <td>XGBClassifier(objective='multi:softprob')</td>\n",
       "      <td>0.780550</td>\n",
       "      <td>0.753165</td>\n",
       "      <td>0.781444</td>\n",
       "      <td>0.780550</td>\n",
       "      <td>0.780550</td>\n",
       "      <td>[[502, 0, 133, 0, 56, 0, 29, 0, 22], [0, 763, ...</td>\n",
       "      <td>0.778703</td>\n",
       "    </tr>\n",
       "  </tbody>\n",
       "</table>\n",
       "</div>"
      ],
      "text/plain": [
       "   Model_name                                      Model  Accuracy Score  \\\n",
       "0        Base      LogisticRegression(multi_class='ovr')        0.578906   \n",
       "1        Base                            MultinomialNB()        0.528906   \n",
       "2        Base                   RandomForestClassifier()        0.560156   \n",
       "3        Base  XGBClassifier(objective='multi:softprob')        0.539844   \n",
       "4  oversampli      LogisticRegression(multi_class='ovr')        0.849417   \n",
       "5  oversampli                            MultinomialNB()        0.826710   \n",
       "6  oversampli                   RandomForestClassifier()        0.916044   \n",
       "7  oversampli  XGBClassifier(objective='multi:softprob')        0.780550   \n",
       "\n",
       "   Kappa Score  Precision Score  Recall Score  accuracy_score  \\\n",
       "0     0.406876         0.504198      0.578906        0.578906   \n",
       "1     0.305361         0.411265      0.528906        0.528906   \n",
       "2     0.371750         0.495050      0.560156        0.560156   \n",
       "3     0.342234         0.493001      0.539844        0.539844   \n",
       "4     0.830600         0.846550      0.849417        0.849417   \n",
       "5     0.805063         0.829973      0.826710        0.826710   \n",
       "6     0.905541         0.916826      0.916044        0.916044   \n",
       "7     0.753165         0.781444      0.780550        0.780550   \n",
       "\n",
       "                                    confusion matrix  f1-score  \n",
       "0  [[160, 45, 34, 1, 15, 0, 3], [4, 0, 3, 0, 1, 0...  0.523038  \n",
       "1  [[126, 24, 12, 0, 6, 0, 1], [0, 0, 0, 0, 0, 0,...  0.444348  \n",
       "2  [[160, 44, 40, 1, 13, 0, 6], [4, 2, 3, 0, 0, 0...  0.489163  \n",
       "3  [[135, 38, 25, 1, 9, 0, 6], [5, 2, 3, 0, 1, 0,...  0.487412  \n",
       "4  [[594, 0, 55, 0, 55, 0, 25, 0, 19], [0, 763, 0...  0.847471  \n",
       "5  [[549, 0, 52, 0, 48, 0, 18, 0, 8], [3, 763, 3,...  0.823462  \n",
       "6  [[672, 0, 6, 0, 23, 0, 21, 0, 13], [0, 763, 0,...  0.916128  \n",
       "7  [[502, 0, 133, 0, 56, 0, 29, 0, 22], [0, 763, ...  0.778703  "
      ]
     },
     "execution_count": 214,
     "metadata": {},
     "output_type": "execute_result"
    }
   ],
   "source": [
    "result_tab"
   ]
  },
  {
   "cell_type": "code",
   "execution_count": null,
   "metadata": {},
   "outputs": [],
   "source": [
    "## Comment:\n",
    "+ we can conclude that \"RandomForestClassifier\" gave best accuracy score and f1 score compared to other models."
   ]
  },
  {
   "cell_type": "markdown",
   "metadata": {},
   "source": [
    "<a id='test'></a>\n",
    "# 10. Testing"
   ]
  },
  {
   "cell_type": "code",
   "execution_count": 215,
   "metadata": {},
   "outputs": [
    {
     "data": {
      "text/html": [
       "<div>\n",
       "<style scoped>\n",
       "    .dataframe tbody tr th:only-of-type {\n",
       "        vertical-align: middle;\n",
       "    }\n",
       "\n",
       "    .dataframe tbody tr th {\n",
       "        vertical-align: top;\n",
       "    }\n",
       "\n",
       "    .dataframe thead th {\n",
       "        text-align: right;\n",
       "    }\n",
       "</style>\n",
       "<table border=\"1\" class=\"dataframe\">\n",
       "  <thead>\n",
       "    <tr style=\"text-align: right;\">\n",
       "      <th></th>\n",
       "      <th>Restaurant_Name</th>\n",
       "      <th>Reviewer_Name</th>\n",
       "      <th>Review_Text</th>\n",
       "      <th>Reviews &amp; Followers</th>\n",
       "      <th>Time</th>\n",
       "      <th>Pictures_uploaded</th>\n",
       "    </tr>\n",
       "  </thead>\n",
       "  <tbody>\n",
       "    <tr>\n",
       "      <th>0</th>\n",
       "      <td>Mustang Terrace Lounge</td>\n",
       "      <td>Sirisha Kandula</td>\n",
       "      <td>Could be one of the best place in gachibowli.\\...</td>\n",
       "      <td>1 Review , 1 Follower</td>\n",
       "      <td>2019-05-06 20:33:59.999999</td>\n",
       "      <td>0</td>\n",
       "    </tr>\n",
       "    <tr>\n",
       "      <th>1</th>\n",
       "      <td>Shanghai Chef 2</td>\n",
       "      <td>Susmita Basu</td>\n",
       "      <td>I loved the food. Authentic Chinese and nice a...</td>\n",
       "      <td>17 Reviews , 48 Followers</td>\n",
       "      <td>2018-08-18 15:43:00.000000</td>\n",
       "      <td>4</td>\n",
       "    </tr>\n",
       "    <tr>\n",
       "      <th>2</th>\n",
       "      <td>Eat India Company</td>\n",
       "      <td>Ananth Popuri</td>\n",
       "      <td>I love this place in Gachibowli. I have been h...</td>\n",
       "      <td>12 Reviews , 4 Followers</td>\n",
       "      <td>2019-03-09 15:37:00.000000</td>\n",
       "      <td>0</td>\n",
       "    </tr>\n",
       "    <tr>\n",
       "      <th>3</th>\n",
       "      <td>Sardarji's Chaats &amp; More</td>\n",
       "      <td>RAHUL DEY</td>\n",
       "      <td>Too bad service, does not accept the Order mul...</td>\n",
       "      <td>5 Reviews , 999 Followers</td>\n",
       "      <td>2018-12-07 21:38:00.000000</td>\n",
       "      <td>0</td>\n",
       "    </tr>\n",
       "    <tr>\n",
       "      <th>4</th>\n",
       "      <td>Cream Stone</td>\n",
       "      <td>Kiran</td>\n",
       "      <td>ordered nuts overloaded ice cream.fantastic ta...</td>\n",
       "      <td>11 Reviews , 1 Follower</td>\n",
       "      <td>2018-11-24 13:40:00.000001</td>\n",
       "      <td>0</td>\n",
       "    </tr>\n",
       "  </tbody>\n",
       "</table>\n",
       "</div>"
      ],
      "text/plain": [
       "            Restaurant_Name    Reviewer_Name  \\\n",
       "0    Mustang Terrace Lounge  Sirisha Kandula   \n",
       "1           Shanghai Chef 2     Susmita Basu   \n",
       "2         Eat India Company    Ananth Popuri   \n",
       "3  Sardarji's Chaats & More        RAHUL DEY   \n",
       "4               Cream Stone            Kiran   \n",
       "\n",
       "                                         Review_Text  \\\n",
       "0  Could be one of the best place in gachibowli.\\...   \n",
       "1  I loved the food. Authentic Chinese and nice a...   \n",
       "2  I love this place in Gachibowli. I have been h...   \n",
       "3  Too bad service, does not accept the Order mul...   \n",
       "4  ordered nuts overloaded ice cream.fantastic ta...   \n",
       "\n",
       "         Reviews & Followers                       Time  Pictures_uploaded  \n",
       "0      1 Review , 1 Follower 2019-05-06 20:33:59.999999                  0  \n",
       "1  17 Reviews , 48 Followers 2018-08-18 15:43:00.000000                  4  \n",
       "2   12 Reviews , 4 Followers 2019-03-09 15:37:00.000000                  0  \n",
       "3  5 Reviews , 999 Followers 2018-12-07 21:38:00.000000                  0  \n",
       "4    11 Reviews , 1 Follower 2018-11-24 13:40:00.000001                  0  "
      ]
     },
     "execution_count": 215,
     "metadata": {},
     "output_type": "execute_result"
    }
   ],
   "source": [
    "test = pd.read_excel('Foodie_Community_Test.xlsx')\n",
    "test.head()"
   ]
  },
  {
   "cell_type": "code",
   "execution_count": 234,
   "metadata": {},
   "outputs": [
    {
     "data": {
      "text/plain": [
       "(1600, 9)"
      ]
     },
     "execution_count": 234,
     "metadata": {},
     "output_type": "execute_result"
    }
   ],
   "source": [
    "#checking dimension of test dataset\n",
    "test.shape"
   ]
  },
  {
   "cell_type": "code",
   "execution_count": 216,
   "metadata": {},
   "outputs": [
    {
     "data": {
      "text/plain": [
       "Restaurant_Name        0\n",
       "Reviewer_Name          0\n",
       "Review_Text            1\n",
       "Reviews & Followers    0\n",
       "Time                   0\n",
       "Pictures_uploaded      0\n",
       "dtype: int64"
      ]
     },
     "execution_count": 216,
     "metadata": {},
     "output_type": "execute_result"
    }
   ],
   "source": [
    "test.isnull().sum()"
   ]
  },
  {
   "cell_type": "code",
   "execution_count": 217,
   "metadata": {},
   "outputs": [],
   "source": [
    "test['Review_Text'].fillna(test['Review_Text'].mode()[0], inplace = True)"
   ]
  },
  {
   "cell_type": "code",
   "execution_count": 218,
   "metadata": {},
   "outputs": [],
   "source": [
    "# converting all text to lower\n",
    "test['review_lower'] = test[\"Review_Text\"].str.lower()\n",
    "#removing all unwanted punctuations\n",
    "test['review_no_punctuation'] = test['review_lower'].str.replace('[^\\w\\s]','')\n",
    "#removing all empty rows\n",
    "test['clean_review_text'] = test[\"review_no_punctuation\"].fillna(\"fillna\")"
   ]
  },
  {
   "cell_type": "code",
   "execution_count": 219,
   "metadata": {},
   "outputs": [],
   "source": [
    "# Initialize empty array \n",
    "# to append clean text  \n",
    "corpus1 = []\n",
    "for i in range(0, len(test)):\n",
    "    review1 = test['clean_review_text'][i]\n",
    "    review1 = review1.lower()\n",
    "    review1 = review1.split()\n",
    "    review1 = [ps.stem(word) for word in review1 if not word in stopwords.words('english')]\n",
    "    review1 = ' '.join(review1)\n",
    "    corpus1.append(review1)"
   ]
  },
  {
   "cell_type": "markdown",
   "metadata": {},
   "source": [
    "<a id='rf'></a>\n",
    "# 11. Best modelis RandomForestClassifier with oversampling with accuracy_score = 0.91% and f_score = 0.92%"
   ]
  },
  {
   "cell_type": "code",
   "execution_count": 220,
   "metadata": {},
   "outputs": [
    {
     "data": {
      "text/plain": [
       "RandomForestClassifier()"
      ]
     },
     "execution_count": 220,
     "metadata": {},
     "output_type": "execute_result"
    }
   ],
   "source": [
    "best = RandomForestClassifier()\n",
    "best.fit(x_train,y_train)"
   ]
  },
  {
   "cell_type": "code",
   "execution_count": 221,
   "metadata": {},
   "outputs": [
    {
     "data": {
      "text/plain": [
       "0       could be one of the best place in gachibowli\\n...\n",
       "1       i loved the food authentic chinese and nice am...\n",
       "2       i love this place in gachibowli i have been he...\n",
       "3       too bad service does not accept the order mult...\n",
       "4        ordered nuts overloaded ice creamfantastic taste\n",
       "                              ...                        \n",
       "1595    amazing food anyone who wants to have deliciou...\n",
       "1596    driven cafe comes with a perfect ambience that...\n",
       "1597                                                ok ok\n",
       "1598                                                 good\n",
       "1599    it was an awesome experiencethe staff speciall...\n",
       "Name: clean_review_text, Length: 1600, dtype: object"
      ]
     },
     "execution_count": 221,
     "metadata": {},
     "output_type": "execute_result"
    }
   ],
   "source": [
    "test['clean_review_text']"
   ]
  },
  {
   "cell_type": "code",
   "execution_count": 222,
   "metadata": {},
   "outputs": [],
   "source": [
    "def check(msg):\n",
    "    v = cv.transform([msg])\n",
    "    \n",
    "    prec = best.predict(v)\n",
    "    return prec"
   ]
  },
  {
   "cell_type": "code",
   "execution_count": 223,
   "metadata": {},
   "outputs": [
    {
     "data": {
      "text/plain": [
       "array([8], dtype=int64)"
      ]
     },
     "execution_count": 223,
     "metadata": {},
     "output_type": "execute_result"
    }
   ],
   "source": [
    "check('could be one of the best place in gachibowli\\nan underrated place from here you can see the skyline of gachibowlian awesome place\\nservice is good value for money')"
   ]
  },
  {
   "cell_type": "code",
   "execution_count": 224,
   "metadata": {},
   "outputs": [],
   "source": [
    "pred_text = []\n",
    "for i in test['clean_review_text']:\n",
    "    pred_text.append(check(i))"
   ]
  },
  {
   "cell_type": "code",
   "execution_count": 225,
   "metadata": {},
   "outputs": [],
   "source": [
    "df_pred_text = pd.DataFrame(pred_text)"
   ]
  },
  {
   "cell_type": "code",
   "execution_count": 226,
   "metadata": {},
   "outputs": [],
   "source": [
    "df_pred_text.columns = ['Pred']"
   ]
  },
  {
   "cell_type": "code",
   "execution_count": 227,
   "metadata": {},
   "outputs": [
    {
     "data": {
      "text/plain": [
       "0       8\n",
       "1       8\n",
       "2       8\n",
       "3       0\n",
       "4       8\n",
       "       ..\n",
       "1595    8\n",
       "1596    8\n",
       "1597    4\n",
       "1598    8\n",
       "1599    8\n",
       "Name: Pred, Length: 1600, dtype: int64"
      ]
     },
     "execution_count": 227,
     "metadata": {},
     "output_type": "execute_result"
    }
   ],
   "source": [
    "df_pred_text.Pred"
   ]
  },
  {
   "cell_type": "code",
   "execution_count": 228,
   "metadata": {},
   "outputs": [],
   "source": [
    "df_pred_text['Pred'] = label_encoder.inverse_transform(df_pred_text['Pred'])"
   ]
  },
  {
   "cell_type": "code",
   "execution_count": 229,
   "metadata": {},
   "outputs": [],
   "source": [
    "result=pd.concat([test['Review_Text'],df_pred_text['Pred']],axis=1)"
   ]
  },
  {
   "cell_type": "code",
   "execution_count": 230,
   "metadata": {},
   "outputs": [
    {
     "data": {
      "text/html": [
       "<div>\n",
       "<style scoped>\n",
       "    .dataframe tbody tr th:only-of-type {\n",
       "        vertical-align: middle;\n",
       "    }\n",
       "\n",
       "    .dataframe tbody tr th {\n",
       "        vertical-align: top;\n",
       "    }\n",
       "\n",
       "    .dataframe thead th {\n",
       "        text-align: right;\n",
       "    }\n",
       "</style>\n",
       "<table border=\"1\" class=\"dataframe\">\n",
       "  <thead>\n",
       "    <tr style=\"text-align: right;\">\n",
       "      <th></th>\n",
       "      <th>Review_Text</th>\n",
       "      <th>Pred</th>\n",
       "    </tr>\n",
       "  </thead>\n",
       "  <tbody>\n",
       "    <tr>\n",
       "      <th>0</th>\n",
       "      <td>Could be one of the best place in gachibowli.\\...</td>\n",
       "      <td>5.0</td>\n",
       "    </tr>\n",
       "    <tr>\n",
       "      <th>1</th>\n",
       "      <td>I loved the food. Authentic Chinese and nice a...</td>\n",
       "      <td>5.0</td>\n",
       "    </tr>\n",
       "    <tr>\n",
       "      <th>2</th>\n",
       "      <td>I love this place in Gachibowli. I have been h...</td>\n",
       "      <td>5.0</td>\n",
       "    </tr>\n",
       "    <tr>\n",
       "      <th>3</th>\n",
       "      <td>Too bad service, does not accept the Order mul...</td>\n",
       "      <td>1.0</td>\n",
       "    </tr>\n",
       "    <tr>\n",
       "      <th>4</th>\n",
       "      <td>ordered nuts overloaded ice cream.fantastic ta...</td>\n",
       "      <td>5.0</td>\n",
       "    </tr>\n",
       "  </tbody>\n",
       "</table>\n",
       "</div>"
      ],
      "text/plain": [
       "                                         Review_Text  Pred\n",
       "0  Could be one of the best place in gachibowli.\\...   5.0\n",
       "1  I loved the food. Authentic Chinese and nice a...   5.0\n",
       "2  I love this place in Gachibowli. I have been h...   5.0\n",
       "3  Too bad service, does not accept the Order mul...   1.0\n",
       "4  ordered nuts overloaded ice cream.fantastic ta...   5.0"
      ]
     },
     "execution_count": 230,
     "metadata": {},
     "output_type": "execute_result"
    }
   ],
   "source": [
    "result.head()"
   ]
  },
  {
   "cell_type": "markdown",
   "metadata": {},
   "source": [
    "<a id=\"export\"></a>\n",
    "# 12. Exporting the results"
   ]
  },
  {
   "cell_type": "code",
   "execution_count": 233,
   "metadata": {},
   "outputs": [],
   "source": [
    "result.to_csv('final_result.csv', index=False)"
   ]
  }
 ],
 "metadata": {
  "colab": {
   "name": "NLP capstone project.ipynb",
   "provenance": [],
   "toc_visible": true
  },
  "kernelspec": {
   "display_name": "Python 3",
   "language": "python",
   "name": "python3"
  },
  "language_info": {
   "codemirror_mode": {
    "name": "ipython",
    "version": 3
   },
   "file_extension": ".py",
   "mimetype": "text/x-python",
   "name": "python",
   "nbconvert_exporter": "python",
   "pygments_lexer": "ipython3",
   "version": "3.8.3"
  }
 },
 "nbformat": 4,
 "nbformat_minor": 1
}
