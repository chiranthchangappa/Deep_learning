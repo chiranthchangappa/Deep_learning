{
 "cells": [
  {
   "cell_type": "code",
   "execution_count": 1,
   "metadata": {},
   "outputs": [],
   "source": [
    "# importing libraries \n",
    "import os \n",
    "import cv2  \n",
    "from PIL import Image"
   ]
  },
  {
   "cell_type": "code",
   "execution_count": 2,
   "metadata": {},
   "outputs": [
    {
     "name": "stdout",
     "output_type": "stream",
     "text": [
      "C:\\Users\\Chiranth SB\\Desktop\\python programming\n"
     ]
    }
   ],
   "source": [
    "# Checking the current directory path \n",
    "print(os.getcwd()) "
   ]
  },
  {
   "cell_type": "code",
   "execution_count": 6,
   "metadata": {},
   "outputs": [],
   "source": [
    "# Folder which contains all the images \n",
    "# from which video is to be generated \n",
    "os.chdir(\"C:\\\\Users\\\\Chiranth SB\\\\Desktop\\\\image_now\")   \n",
    "path = \"C:\\\\Users\\\\Chiranth SB\\\\Desktop\\\\image_now\""
   ]
  },
  {
   "cell_type": "code",
   "execution_count": 7,
   "metadata": {},
   "outputs": [],
   "source": [
    "mean_height = 0\n",
    "mean_width = 0\n",
    "  \n",
    "num_of_images = len(os.listdir('.')) \n",
    "# print(num_of_images)"
   ]
  },
  {
   "cell_type": "code",
   "execution_count": 8,
   "metadata": {},
   "outputs": [],
   "source": [
    "for file in os.listdir('.'): \n",
    "    im = Image.open(os.path.join(path, file)) \n",
    "    width, height = im.size \n",
    "    mean_width += width \n",
    "    mean_height += height "
   ]
  },
  {
   "cell_type": "code",
   "execution_count": 9,
   "metadata": {},
   "outputs": [],
   "source": [
    "# Finding the mean height and width of all images. \n",
    "# This is required because the video frame needs \n",
    "# to be set with same width and height. Otherwise \n",
    "# images not equal to that width height will not get  \n",
    "# embedded into the video \n",
    "mean_width = int(mean_width / num_of_images) \n",
    "mean_height = int(mean_height / num_of_images)"
   ]
  },
  {
   "cell_type": "code",
   "execution_count": 10,
   "metadata": {},
   "outputs": [
    {
     "name": "stdout",
     "output_type": "stream",
     "text": [
      "1373\n",
      "1641\n"
     ]
    }
   ],
   "source": [
    "print(mean_height) \n",
    "print(mean_width)"
   ]
  },
  {
   "cell_type": "code",
   "execution_count": 12,
   "metadata": {},
   "outputs": [
    {
     "name": "stdout",
     "output_type": "stream",
     "text": [
      "1641 1373\n",
      "1613070462200.jpg  is resized\n",
      "1641 1373\n",
      "1613074795749.jpg  is resized\n",
      "1641 1373\n",
      "check.jpg  is resized\n",
      "1641 1373\n",
      "chris-liverani-dBI_My696Rk-unsplash.jpg  is resized\n",
      "1641 1373\n",
      "myriam-jessier-eveI7MOcSmw-unsplash.jpg  is resized\n",
      "413 632\n",
      "pancard.jpg  is resized\n"
     ]
    }
   ],
   "source": [
    "for file in os.listdir('.'): \n",
    "    if file.endswith(\".jpg\") or file.endswith(\".jpeg\") or file.endswith(\"png\"): \n",
    "        # opening image using PIL Image \n",
    "        im = Image.open(os.path.join(path, file))  \n",
    "   \n",
    "        # im.size includes the height and width of image \n",
    "        width, height = im.size    \n",
    "        print(width, height) \n",
    "  \n",
    "        # resizing  \n",
    "        imResize = im.resize((mean_width, mean_height), Image.ANTIALIAS)  \n",
    "        imResize.save( file, 'JPEG', quality = 95) # setting quality \n",
    "        # printing each resized image name \n",
    "        print(im.filename.split('\\\\')[-1], \" is resized\")"
   ]
  },
  {
   "cell_type": "code",
   "execution_count": 13,
   "metadata": {},
   "outputs": [],
   "source": [
    "# Video Generating function \n",
    "def generate_video(): \n",
    "    image_folder = '.' # make sure to use your folder \n",
    "    video_name = 'mygeneratedvideo.avi'\n",
    "    os.chdir(\"C:\\\\Users\\\\Chiranth SB\\\\Desktop\\\\image_now\") \n",
    "      \n",
    "    images = [img for img in os.listdir(image_folder) \n",
    "              if img.endswith(\".jpg\") or\n",
    "                 img.endswith(\".jpeg\") or\n",
    "                 img.endswith(\"png\")] \n",
    "     \n",
    "    # Array images should only consider \n",
    "    # the image files ignoring others if any \n",
    "    print(images)  \n",
    "  \n",
    "    frame = cv2.imread(os.path.join(image_folder, images[0])) \n",
    "    \n",
    "    # setting the frame width, height width \n",
    "    # the width, height of first image \n",
    "    height, width, layers = frame.shape   \n",
    "  \n",
    "    video = cv2.VideoWriter(video_name, 0, 1, (width, height))  \n",
    "  \n",
    "    # Appending the images to the video one by one \n",
    "    for image in images:  \n",
    "        video.write(cv2.imread(os.path.join(image_folder, image)))  \n",
    "      \n",
    "    # Deallocating memories taken for window creation \n",
    "    cv2.destroyAllWindows()  \n",
    "    video.release()  # releasing the video generated "
   ]
  },
  {
   "cell_type": "code",
   "execution_count": 14,
   "metadata": {},
   "outputs": [
    {
     "name": "stdout",
     "output_type": "stream",
     "text": [
      "['1613070462200.jpg', '1613074795749.jpg', 'check.jpg', 'chris-liverani-dBI_My696Rk-unsplash.jpg', 'myriam-jessier-eveI7MOcSmw-unsplash.jpg', 'pancard.jpg']\n"
     ]
    }
   ],
   "source": [
    "# Calling the generate_video function \n",
    "generate_video()"
   ]
  },
  {
   "cell_type": "code",
   "execution_count": null,
   "metadata": {},
   "outputs": [],
   "source": []
  }
 ],
 "metadata": {
  "kernelspec": {
   "display_name": "Python 3",
   "language": "python",
   "name": "python3"
  },
  "language_info": {
   "codemirror_mode": {
    "name": "ipython",
    "version": 3
   },
   "file_extension": ".py",
   "mimetype": "text/x-python",
   "name": "python",
   "nbconvert_exporter": "python",
   "pygments_lexer": "ipython3",
   "version": "3.7.9"
  }
 },
 "nbformat": 4,
 "nbformat_minor": 4
}
