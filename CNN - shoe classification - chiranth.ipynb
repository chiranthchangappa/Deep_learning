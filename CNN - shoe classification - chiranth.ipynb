{
 "cells": [
  {
   "cell_type": "code",
   "execution_count": 25,
   "id": "british-species",
   "metadata": {},
   "outputs": [],
   "source": [
    "# import required libraries \n",
    "import tensorflow as tf\n",
    "from keras.preprocessing.image import ImageDataGenerator\n",
    "import numpy as np\n",
    "import keras\n",
    "import matplotlib.pyplot as plt"
   ]
  },
  {
   "cell_type": "code",
   "execution_count": 28,
   "id": "opening-senior",
   "metadata": {},
   "outputs": [
    {
     "name": "stdout",
     "output_type": "stream",
     "text": [
      "Found 662 images belonging to 3 classes.\n"
     ]
    }
   ],
   "source": [
    "# loading training data\n",
    "train_datagen = ImageDataGenerator(\n",
    "        rescale=1./255,\n",
    "        shear_range=0.2,\n",
    "        zoom_range=0.2,\n",
    "        horizontal_flip=True)\n",
    "train_generator = train_datagen.flow_from_directory(\n",
    "        'C:\\\\Users\\\\Chiranth SB\\\\Desktop\\\\Dl - exam\\\\DL Paper 1\\\\Datasets\\\\CNN\\\\Shoe Classification\\\\train',\n",
    "        target_size=(64, 64),\n",
    "        batch_size=32,\n",
    "        class_mode='categorical')"
   ]
  },
  {
   "cell_type": "code",
   "execution_count": 29,
   "id": "sorted-package",
   "metadata": {},
   "outputs": [
    {
     "data": {
      "text/plain": [
       "{'Boots': 0, 'Sandals': 1, 'Slippers': 2}"
      ]
     },
     "execution_count": 29,
     "metadata": {},
     "output_type": "execute_result"
    }
   ],
   "source": [
    "train_generator.class_indices"
   ]
  },
  {
   "cell_type": "code",
   "execution_count": 96,
   "id": "progressive-budapest",
   "metadata": {},
   "outputs": [
    {
     "name": "stdout",
     "output_type": "stream",
     "text": [
      "Found 116 images belonging to 3 classes.\n"
     ]
    }
   ],
   "source": [
    "# loading testing data\n",
    "validation = train_datagen.flow_from_directory(\n",
    "        'C:\\\\Users\\\\Chiranth SB\\\\Desktop\\\\Dl - exam\\\\DL Paper 1\\\\Datasets\\\\CNN\\\\Shoe Classification\\\\validation',\n",
    "        target_size=(64, 64),\n",
    "        batch_size=32,\n",
    "        class_mode='categorical')"
   ]
  },
  {
   "cell_type": "code",
   "execution_count": 94,
   "id": "geological-secretariat",
   "metadata": {},
   "outputs": [],
   "source": [
    "# initialising sequential model and adding layers to it\n",
    "cnn = keras.models.Sequential()\n",
    "cnn.add(keras.layers.Conv2D(filters=48, kernel_size=3, activation='relu', input_shape=[64, 64, 3]))\n",
    "cnn.add(keras.layers.MaxPool2D(pool_size=2, strides=2))\n",
    "cnn.add(keras.layers.Conv2D(filters=48, kernel_size=3, activation='relu'))\n",
    "cnn.add(keras.layers.MaxPool2D(pool_size=2, strides=2))\n",
    "cnn.add(keras.layers.Conv2D(filters=32, kernel_size=3, activation='relu'))\n",
    "cnn.add(keras.layers.MaxPool2D(pool_size=2, strides=2))\n",
    "cnn.add(keras.layers.Flatten())\n",
    "cnn.add(keras.layers.Dense(128, activation='relu'))\n",
    "cnn.add(keras.layers.Dense(64, activation='relu'))\n",
    "cnn.add(keras.layers.Dense(3, activation='softmax'))"
   ]
  },
  {
   "cell_type": "code",
   "execution_count": 95,
   "id": "enormous-triple",
   "metadata": {},
   "outputs": [
    {
     "name": "stdout",
     "output_type": "stream",
     "text": [
      "Model: \"sequential_4\"\n",
      "_________________________________________________________________\n",
      "Layer (type)                 Output Shape              Param #   \n",
      "=================================================================\n",
      "conv2d_10 (Conv2D)           (None, 62, 62, 48)        1344      \n",
      "_________________________________________________________________\n",
      "max_pooling2d_10 (MaxPooling (None, 31, 31, 48)        0         \n",
      "_________________________________________________________________\n",
      "conv2d_11 (Conv2D)           (None, 29, 29, 48)        20784     \n",
      "_________________________________________________________________\n",
      "max_pooling2d_11 (MaxPooling (None, 14, 14, 48)        0         \n",
      "_________________________________________________________________\n",
      "conv2d_12 (Conv2D)           (None, 12, 12, 32)        13856     \n",
      "_________________________________________________________________\n",
      "max_pooling2d_12 (MaxPooling (None, 6, 6, 32)          0         \n",
      "_________________________________________________________________\n",
      "flatten_4 (Flatten)          (None, 1152)              0         \n",
      "_________________________________________________________________\n",
      "dense_10 (Dense)             (None, 128)               147584    \n",
      "_________________________________________________________________\n",
      "dense_11 (Dense)             (None, 64)                8256      \n",
      "_________________________________________________________________\n",
      "dense_12 (Dense)             (None, 3)                 195       \n",
      "=================================================================\n",
      "Total params: 192,019\n",
      "Trainable params: 192,019\n",
      "Non-trainable params: 0\n",
      "_________________________________________________________________\n"
     ]
    }
   ],
   "source": [
    "# model architecture summary\n",
    "cnn.summary()"
   ]
  },
  {
   "cell_type": "code",
   "execution_count": 98,
   "id": "smaller-knock",
   "metadata": {},
   "outputs": [],
   "source": [
    "# finally compile and train the cnn\n",
    "cnn.compile(optimizer=\"adam\", loss=\"categorical_crossentropy\", metrics=[\"accuracy\"])"
   ]
  },
  {
   "cell_type": "code",
   "execution_count": 99,
   "id": "foreign-harvey",
   "metadata": {},
   "outputs": [
    {
     "name": "stdout",
     "output_type": "stream",
     "text": [
      "Epoch 1/15\n",
      "21/21 [==============================] - 11s 546ms/step - loss: 0.9800 - accuracy: 0.5196 - val_loss: 0.7779 - val_accuracy: 0.7328\n",
      "Epoch 2/15\n",
      "21/21 [==============================] - 11s 515ms/step - loss: 0.6377 - accuracy: 0.7326 - val_loss: 0.5227 - val_accuracy: 0.7931\n",
      "Epoch 3/15\n",
      "21/21 [==============================] - 11s 508ms/step - loss: 0.4423 - accuracy: 0.8021 - val_loss: 0.3416 - val_accuracy: 0.8276\n",
      "Epoch 4/15\n",
      "21/21 [==============================] - 11s 510ms/step - loss: 0.3580 - accuracy: 0.8489 - val_loss: 0.4523 - val_accuracy: 0.8534\n",
      "Epoch 5/15\n",
      "21/21 [==============================] - 11s 505ms/step - loss: 0.3322 - accuracy: 0.8776 - val_loss: 0.3170 - val_accuracy: 0.8448\n",
      "Epoch 6/15\n",
      "21/21 [==============================] - 11s 533ms/step - loss: 0.2734 - accuracy: 0.9018 - val_loss: 0.3737 - val_accuracy: 0.8103\n",
      "Epoch 7/15\n",
      "21/21 [==============================] - 11s 516ms/step - loss: 0.2393 - accuracy: 0.8973 - val_loss: 0.4267 - val_accuracy: 0.8362\n",
      "Epoch 8/15\n",
      "21/21 [==============================] - 11s 539ms/step - loss: 0.2234 - accuracy: 0.9109 - val_loss: 0.2207 - val_accuracy: 0.8707\n",
      "Epoch 9/15\n",
      "21/21 [==============================] - 11s 535ms/step - loss: 0.2084 - accuracy: 0.9169 - val_loss: 0.2591 - val_accuracy: 0.8707\n",
      "Epoch 10/15\n",
      "21/21 [==============================] - 13s 600ms/step - loss: 0.2044 - accuracy: 0.9260 - val_loss: 0.3631 - val_accuracy: 0.7500\n",
      "Epoch 11/15\n",
      "21/21 [==============================] - 13s 628ms/step - loss: 0.1992 - accuracy: 0.9215 - val_loss: 0.2642 - val_accuracy: 0.7586\n",
      "Epoch 12/15\n",
      "21/21 [==============================] - 12s 564ms/step - loss: 0.1857 - accuracy: 0.9230 - val_loss: 0.2586 - val_accuracy: 0.8707\n",
      "Epoch 13/15\n",
      "21/21 [==============================] - 13s 628ms/step - loss: 0.1823 - accuracy: 0.9215 - val_loss: 0.3346 - val_accuracy: 0.7845\n",
      "Epoch 14/15\n",
      "21/21 [==============================] - 13s 605ms/step - loss: 0.1555 - accuracy: 0.9517 - val_loss: 0.3348 - val_accuracy: 0.8621\n",
      "Epoch 15/15\n",
      "21/21 [==============================] - 11s 517ms/step - loss: 0.1274 - accuracy: 0.9547 - val_loss: 0.3470 - val_accuracy: 0.7931\n"
     ]
    }
   ],
   "source": [
    "# fitting train data to model\n",
    "hist = cnn.fit(x=train_generator, validation_data=validation, epochs=15)"
   ]
  },
  {
   "cell_type": "markdown",
   "id": "neural-opera",
   "metadata": {},
   "source": [
    "# we have a accuracy of 95.47 % with 3 dense layers and 15 epochs."
   ]
  },
  {
   "cell_type": "code",
   "execution_count": 100,
   "id": "empty-transaction",
   "metadata": {},
   "outputs": [],
   "source": [
    "# collecting history of epoch in variable aa\n",
    "aa = hist.history"
   ]
  },
  {
   "cell_type": "code",
   "execution_count": 153,
   "id": "satisfactory-allowance",
   "metadata": {},
   "outputs": [
    {
     "data": {
      "text/plain": [
       "dict_keys(['val_loss', 'val_accuracy', 'loss', 'accuracy'])"
      ]
     },
     "execution_count": 153,
     "metadata": {},
     "output_type": "execute_result"
    }
   ],
   "source": [
    "aa.keys()"
   ]
  },
  {
   "cell_type": "code",
   "execution_count": 102,
   "id": "national-interface",
   "metadata": {},
   "outputs": [
    {
     "data": {
      "image/png": "[encoded data removed]",
      "text/plain": [
       "<Figure size 432x288 with 1 Axes>"
      ]
     },
     "metadata": {
      "needs_background": "light"
     },
     "output_type": "display_data"
    },
    {
     "data": {
      "image/png": "[encoded data removed]",
      "text/plain": [
       "<Figure size 432x288 with 1 Axes>"
      ]
     },
     "metadata": {
      "needs_background": "light"
     },
     "output_type": "display_data"
    }
   ],
   "source": [
    "# PLOTTING THE LOSS AND ACCURACY\n",
    "\n",
    "acc = hist.history['accuracy']\n",
    "val_acc = hist.history['val_accuracy']\n",
    "loss = hist.history['loss']\n",
    "val_loss = hist.history['val_loss']\n",
    "\n",
    "epochs = range(len(acc))\n",
    "\n",
    "plt.plot(epochs, acc, 'ro', label='Training acc')\n",
    "plt.plot(epochs, val_acc, 'b', label='Validation acc')\n",
    "plt.title('Training and validation accuracy')\n",
    "plt.legend()\n",
    "\n",
    "plt.figure()\n",
    "\n",
    "plt.plot(epochs, loss, 'ro', label='Training loss')\n",
    "plt.plot(epochs, val_loss, 'b', label='Validation loss')\n",
    "plt.title('Training and validation loss')\n",
    "plt.legend()\n",
    "\n",
    "plt.show()"
   ]
  },
  {
   "cell_type": "code",
   "execution_count": 103,
   "id": "binding-cannon",
   "metadata": {},
   "outputs": [
    {
     "data": {
      "text/plain": [
       "{'Boots': 0, 'Sandals': 1, 'Slippers': 2}"
      ]
     },
     "execution_count": 103,
     "metadata": {},
     "output_type": "execute_result"
    }
   ],
   "source": [
    "train_generator.class_indices"
   ]
  },
  {
   "cell_type": "code",
   "execution_count": 104,
   "id": "overall-kingston",
   "metadata": {},
   "outputs": [],
   "source": [
    "from keras.preprocessing import image"
   ]
  },
  {
   "cell_type": "code",
   "execution_count": 105,
   "id": "restricted-history",
   "metadata": {},
   "outputs": [],
   "source": [
    "# testing the model\n",
    "def testing_image(image_directory):\n",
    "    test_image = image.load_img(image_directory, target_size = (64, 64))\n",
    "    test_image = image.img_to_array(test_image)\n",
    "    test_image = np.expand_dims(test_image, axis = 0)\n",
    "    result = cnn.predict(test_image)\n",
    "    result = np.argmax(result)\n",
    "    if result == 0:\n",
    "        print('Boots')\n",
    "    elif result == 1:\n",
    "        print('Sandals')\n",
    "    else:\n",
    "        print('Slippers')"
   ]
  },
  {
   "cell_type": "code",
   "execution_count": 106,
   "id": "broke-hurricane",
   "metadata": {},
   "outputs": [
    {
     "data": {
      "image/png": "[encoded data removed]",
      "text/plain": [
       "<PIL.Image.Image image mode=RGB size=64x64 at 0x732CB72048>"
      ]
     },
     "execution_count": 106,
     "metadata": {},
     "output_type": "execute_result"
    }
   ],
   "source": [
    "# testing test image \n",
    "new_image = image.load_img('image (1).jpg',target_size=(64,64))\n",
    "new_image"
   ]
  },
  {
   "cell_type": "code",
   "execution_count": 107,
   "id": "fifth-couple",
   "metadata": {},
   "outputs": [
    {
     "name": "stdout",
     "output_type": "stream",
     "text": [
      "Sandals\n"
     ]
    }
   ],
   "source": [
    "testing_image('image (1).jpg')"
   ]
  },
  {
   "cell_type": "code",
   "execution_count": 108,
   "id": "typical-neighborhood",
   "metadata": {},
   "outputs": [
    {
     "data": {
      "image/png": "[encoded data removed]",
      "text/plain": [
       "<PIL.Image.Image image mode=RGB size=64x64 at 0x732CB4B3C8>"
      ]
     },
     "execution_count": 108,
     "metadata": {},
     "output_type": "execute_result"
    }
   ],
   "source": [
    "# testing test image \n",
    "new_image_1 = image.load_img('image (2).jpg',target_size=(64,64))\n",
    "new_image_1"
   ]
  },
  {
   "cell_type": "code",
   "execution_count": 109,
   "id": "cardiac-fifth",
   "metadata": {},
   "outputs": [
    {
     "name": "stdout",
     "output_type": "stream",
     "text": [
      "Boots\n"
     ]
    }
   ],
   "source": [
    "testing_image('image (2).jpg')"
   ]
  },
  {
   "cell_type": "code",
   "execution_count": 110,
   "id": "august-directory",
   "metadata": {},
   "outputs": [
    {
     "data": {
      "image/png": "[encoded data removed]",
      "text/plain": [
       "<PIL.Image.Image image mode=RGB size=64x64 at 0x732C923C08>"
      ]
     },
     "execution_count": 110,
     "metadata": {},
     "output_type": "execute_result"
    }
   ],
   "source": [
    "# testing test image \n",
    "new_image_2 = image.load_img('image (13).jpg',target_size=(64,64))\n",
    "new_image_2"
   ]
  },
  {
   "cell_type": "code",
   "execution_count": 111,
   "id": "sustained-density",
   "metadata": {},
   "outputs": [
    {
     "name": "stdout",
     "output_type": "stream",
     "text": [
      "Boots\n"
     ]
    }
   ],
   "source": [
    "testing_image('image (13).jpg')"
   ]
  },
  {
   "cell_type": "code",
   "execution_count": 112,
   "id": "latest-jaguar",
   "metadata": {},
   "outputs": [
    {
     "data": {
      "image/png": "[encoded data removed]",
      "text/plain": [
       "<PIL.Image.Image image mode=RGB size=64x64 at 0x732CC0CD08>"
      ]
     },
     "execution_count": 112,
     "metadata": {},
     "output_type": "execute_result"
    }
   ],
   "source": [
    "# testing test image \n",
    "new_image_3 = image.load_img('image (66).jpg',target_size=(64,64))\n",
    "new_image_3"
   ]
  },
  {
   "cell_type": "code",
   "execution_count": 113,
   "id": "demonstrated-whole",
   "metadata": {},
   "outputs": [
    {
     "name": "stdout",
     "output_type": "stream",
     "text": [
      "Sandals\n"
     ]
    }
   ],
   "source": [
    "testing_image('image (66).jpg')"
   ]
  },
  {
   "cell_type": "code",
   "execution_count": 114,
   "id": "charming-portsmouth",
   "metadata": {},
   "outputs": [
    {
     "data": {
      "image/png": "[encoded data removed]",
      "text/plain": [
       "<PIL.Image.Image image mode=RGB size=64x64 at 0x732CC09B08>"
      ]
     },
     "execution_count": 114,
     "metadata": {},
     "output_type": "execute_result"
    }
   ],
   "source": [
    "# testing test image \n",
    "new_image_4 = image.load_img('image (69).jpg',target_size=(64,64))\n",
    "new_image_4"
   ]
  },
  {
   "cell_type": "code",
   "execution_count": 115,
   "id": "satisfied-warning",
   "metadata": {},
   "outputs": [
    {
     "name": "stdout",
     "output_type": "stream",
     "text": [
      "Slippers\n"
     ]
    }
   ],
   "source": [
    "testing_image('image (69).jpg')"
   ]
  },
  {
   "cell_type": "code",
   "execution_count": 124,
   "id": "seasonal-singapore",
   "metadata": {},
   "outputs": [],
   "source": [
    "import os\n",
    "path = 'C:\\\\Users\\\\Chiranth SB\\\\Desktop\\\\Dl - exam\\\\DL Paper 1\\\\Datasets\\\\CNN\\\\Shoe Classification\\\\test_msin'"
   ]
  },
  {
   "cell_type": "code",
   "execution_count": 147,
   "id": "pharmaceutical-residence",
   "metadata": {},
   "outputs": [
    {
     "name": "stdout",
     "output_type": "stream",
     "text": [
      "For predicting we have : 89\n"
     ]
    }
   ],
   "source": [
    "print('For predicting we have :',len(os.listdir(directory)))"
   ]
  },
  {
   "cell_type": "code",
   "execution_count": 150,
   "id": "unauthorized-democrat",
   "metadata": {},
   "outputs": [],
   "source": [
    "test_img = []\n",
    "for i in os.listdir(directory):\n",
    "    test_img.append(i)"
   ]
  },
  {
   "cell_type": "code",
   "execution_count": 155,
   "id": "expressed-console",
   "metadata": {},
   "outputs": [
    {
     "name": "stdout",
     "output_type": "stream",
     "text": [
      "Following are the results for the test data set : \n",
      "Sandals\n",
      "Boots\n",
      "Boots\n",
      "Slippers\n",
      "Boots\n",
      "Slippers\n",
      "Boots\n",
      "Sandals\n",
      "Sandals\n",
      "Boots\n",
      "Boots\n",
      "Boots\n",
      "Boots\n",
      "Boots\n",
      "Boots\n",
      "Boots\n",
      "Sandals\n",
      "Sandals\n",
      "Sandals\n",
      "Sandals\n",
      "Sandals\n",
      "Sandals\n",
      "Boots\n",
      "Sandals\n",
      "Boots\n",
      "Boots\n",
      "Boots\n",
      "Boots\n",
      "Slippers\n",
      "Slippers\n",
      "Boots\n",
      "Boots\n",
      "Boots\n",
      "Boots\n",
      "Boots\n",
      "Boots\n",
      "Boots\n",
      "Boots\n",
      "Boots\n",
      "Boots\n",
      "Boots\n",
      "Boots\n",
      "Boots\n",
      "Slippers\n",
      "Sandals\n",
      "Sandals\n",
      "Slippers\n",
      "Slippers\n",
      "Sandals\n",
      "Sandals\n",
      "Slippers\n",
      "Sandals\n",
      "Sandals\n",
      "Slippers\n",
      "Slippers\n",
      "Boots\n",
      "Slippers\n",
      "Slippers\n",
      "Slippers\n",
      "Slippers\n",
      "Sandals\n",
      "Sandals\n",
      "Sandals\n",
      "Sandals\n",
      "Slippers\n",
      "Slippers\n",
      "Boots\n",
      "Slippers\n",
      "Slippers\n",
      "Slippers\n",
      "Slippers\n",
      "Slippers\n",
      "Slippers\n",
      "Slippers\n",
      "Slippers\n",
      "Slippers\n",
      "Slippers\n",
      "Slippers\n",
      "Slippers\n",
      "Slippers\n",
      "Slippers\n",
      "Sandals\n",
      "Slippers\n",
      "Slippers\n",
      "Sandals\n",
      "Sandals\n",
      "Sandals\n",
      "Slippers\n",
      "Slippers\n"
     ]
    }
   ],
   "source": [
    "print('Following are the results for the test data set : ')\n",
    "for filename in os.listdir(directory):\n",
    "    testing_image(path+'\\\\'+filename)"
   ]
  },
  {
   "cell_type": "code",
   "execution_count": null,
   "id": "marked-documentary",
   "metadata": {},
   "outputs": [],
   "source": []
  }
 ],
 "metadata": {
  "kernelspec": {
   "display_name": "Python 3",
   "language": "python",
   "name": "python3"
  },
  "language_info": {
   "codemirror_mode": {
    "name": "ipython",
    "version": 3
   },
   "file_extension": ".py",
   "mimetype": "text/x-python",
   "name": "python",
   "nbconvert_exporter": "python",
   "pygments_lexer": "ipython3",
   "version": "3.7.9"
  }
 },
 "nbformat": 4,
 "nbformat_minor": 5
}
