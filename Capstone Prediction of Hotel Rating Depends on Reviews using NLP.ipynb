{
 "cells": [
  {
   "cell_type": "markdown",
   "metadata": {},
   "source": [
    "# CAPSTONE PROJECT "
   ]
  },
  {
   "cell_type": "markdown",
   "metadata": {},
   "source": [
    "# RESTAURANT RATING CLASSIFICATION USING NLP"
   ]
  },
  {
   "cell_type": "markdown",
   "metadata": {},
   "source": [
    "# SOWNDARIYA M \n",
    "## PGAA 02"
   ]
  },
  {
   "cell_type": "markdown",
   "metadata": {},
   "source": [
    "# Problem Statement"
   ]
  },
  {
   "cell_type": "markdown",
   "metadata": {},
   "source": [
    "A friendly foodie community in Bengaluru formed by 20 students has\n",
    "conducted a survey on Food Restaurant reviews. With the analysis of the\n",
    "survey, the community came to know that many restaurant owners are willing\n",
    "to know their customer’s opinion in terms of the ratings given by them but most\n",
    "of them are not willing to know their customer’s opinion in terms of reviews.\n",
    "Usually few customers give only review, few give only rating and few give\n",
    "both review and rating. The foodie community has collected all the raw data\n",
    "from restaurant managers and they have promised to help them in knowing the\n",
    "rating incase if customer has given only a review."
   ]
  },
  {
   "cell_type": "markdown",
   "metadata": {},
   "source": [
    "# Goal/Objective"
   ]
  },
  {
   "cell_type": "markdown",
   "metadata": {},
   "source": [
    "Assume you are one among the 20 members of the community and you want\n",
    "to make their job easier in helping restaurant managers, build a classification\n",
    "model which predicts the rating based on the customer reviews and other\n",
    "parameters."
   ]
  },
  {
   "cell_type": "markdown",
   "metadata": {},
   "source": [
    "# Data Description"
   ]
  },
  {
   "cell_type": "markdown",
   "metadata": {},
   "source": [
    "Data is collected from multiple restaurants around the city of Bengaluru.\n"
   ]
  },
  {
   "cell_type": "markdown",
   "metadata": {},
   "source": [
    "# Attribute Information"
   ]
  },
  {
   "cell_type": "markdown",
   "metadata": {},
   "source": [
    "1. Restaurant_Name: Consists of restaurant name.\n",
    "2. Reviewer_Name: Name of the customer who gave review.\n",
    "3. Review_Text: Actual body of the review.\n",
    "4. Rating(1 - 5): Target variable ranges from 1 to 5.\n",
    "5. Reviews & Followers: Gives count of reviews and followers.\n",
    "6. Time: Time the review has given.\n",
    "7. Pictures_uploaded: How many food and restaurant pictures the\n",
    "customer has uploaded along with a review"
   ]
  },
  {
   "cell_type": "markdown",
   "metadata": {},
   "source": [
    "# Files Provided"
   ]
  },
  {
   "cell_type": "markdown",
   "metadata": {},
   "source": [
    "- Training_Data: Should be used to feed your model.\n",
    "- Testing_Data: Should be used to generate results."
   ]
  },
  {
   "cell_type": "markdown",
   "metadata": {},
   "source": [
    "# Evaluation Criteria"
   ]
  },
  {
   "cell_type": "markdown",
   "metadata": {},
   "source": [
    "The evaluation metric for this problem statement is the Accuracy Score."
   ]
  },
  {
   "cell_type": "markdown",
   "metadata": {},
   "source": [
    "# AIM:\n"
   ]
  },
  {
   "cell_type": "markdown",
   "metadata": {},
   "source": [
    "##      TO PREDICT THE MOVIE RATING OF RESTAURANTS IN BANGALORE DEPENDS ON REVIEW TEXT"
   ]
  },
  {
   "cell_type": "markdown",
   "metadata": {},
   "source": [
    "# OVERVIEW:"
   ]
  },
  {
   "cell_type": "markdown",
   "metadata": {},
   "source": [
    "\n",
    "\n",
    "1. **[IMPORTING LIBRARIES](#import_lib)**\n",
    "2. **[Loading Data](#load_data)**\n",
    "3. **[Feature Engineering](#feature)**\n",
    "4. **[Exploratory Data Analysis](#eda)**\n",
    "5. **[NLP Techniques](#nlp)**\n",
    "    - 5.1 - Tokenization\n",
    "    - 5.2 - Cleaning Text\n",
    "    - 5.3 - Stemming\n",
    "    - 5.4 - Bag of words\n",
    "      - 5.3.1 - Count Vectorizer\n",
    "      - 5.3.2 - TF-IDF\n",
    "6. **[Label Encoding](#label)**\n",
    "7. **[Target Variable Visualization](#target)**\n",
    "8. **[Model Building with imbalanced dataset Using LOGISTIC, RANDOM FOREST, XGB CLASSSIFIER, MULTINOMIAL NB( LOGISTIC gave better ACCURACY than others)](#base)**\n",
    "9. **[Handling imbalanced dataset using Oversampling technique(Random Oversampler)](#oversampler)**\n",
    "10. **[Model Building with Balanced Dataset Using LOGISTIC, RANDOM FOREST, XGB CLASSSIFIER, MULTINOMIAL NB( RANDOM FOREST gave better ACCURACY than others)](#over_rf)**\n",
    "11. **[Test data](#test)**\n",
    "    - 11.1 - Data Preprocessing\n",
    "    - 11.2 - NLP Techniques\n",
    "12. **[Using Best Classifier to predict the test data - Random Forest](#rf)**\n",
    "13. **[Creating Dataframe with review text and predicted ratings](#df)**\n",
    "14. **[Exporting Dataframe to csv](#export)**\n",
    "15. **[System Environment](#env)**"
   ]
  },
  {
   "cell_type": "markdown",
   "metadata": {},
   "source": [
    "<a id='import_lib'></a>\n",
    "# 1.IMPORTING LIBRARIES"
   ]
  },
  {
   "cell_type": "code",
   "execution_count": 9,
   "metadata": {},
   "outputs": [],
   "source": [
    "#'Numpy' is used for mathematical operations on large, multi-dimensional arrays and matrices.\n",
    "import numpy as np\n",
    "#‘Pandas’ is used for data manipulation and analysis.\n",
    "import pandas as pd\n",
    "#'Matplotlib' is a data visualization library for 2D and 3D plots, built on numpy.\n",
    "import matplotlib.pyplot as plt\n",
    "#suppress warnings\n",
    "import warnings\n",
    "from warnings import filterwarnings\n",
    "filterwarnings('ignore')"
   ]
  },
  {
   "cell_type": "code",
   "execution_count": 10,
   "metadata": {},
   "outputs": [
    {
     "name": "stderr",
     "output_type": "stream",
     "text": [
      "[nltk_data] Downloading package stopwords to\n",
      "[nltk_data]     C:\\Users\\sowndariya\\AppData\\Roaming\\nltk_data...\n",
      "[nltk_data]   Package stopwords is already up-to-date!\n"
     ]
    }
   ],
   "source": [
    "# regular expression - to search for patterns in text\n",
    "import re \n",
    "\n",
    "#The Natural Language Toolkit (NLTK) is a platform used for building Python programs that work with human language data for applying in statistical natural language processing (NLP). \n",
    "import nltk \n",
    "#Stop Words: A stop word is a commonly used word (such as “the”, “a”, “an”, “in”) that a search engine has been programmed to ignore, both when indexing entries for searching and when retrieving them as the result of a search query. \n",
    "nltk.download('stopwords')\n",
    "from nltk.corpus import stopwords\n",
    "#Stemming is used in information retrieval systems like search engines. It is used to determine domain vocabularies in domain analysis.\n",
    "from nltk.stem.porter import PorterStemmer\n",
    "ps = PorterStemmer()"
   ]
  },
  {
   "cell_type": "code",
   "execution_count": 11,
   "metadata": {},
   "outputs": [],
   "source": [
    "# train test split is a technique for evaluating the performance of a machine learning algorithm. The procedure involves taking a dataset and dividing it into two subsets.\n",
    "from sklearn.model_selection import train_test_split\n",
    "# To Converts group of words into a matrix, showing each words frequency\n",
    "from sklearn.feature_extraction.text import CountVectorizer\n",
    "from sklearn.feature_extraction.text import TfidfTransformer"
   ]
  },
  {
   "cell_type": "code",
   "execution_count": 12,
   "metadata": {},
   "outputs": [],
   "source": [
    "# Splitting data into train and test\n",
    "from sklearn.model_selection import train_test_split\n",
    "\n",
    "# import libraries for building model\n",
    "from sklearn.naive_bayes import MultinomialNB\n",
    "from sklearn.linear_model import LogisticRegression\n",
    "\n",
    "from sklearn.tree import DecisionTreeClassifier\n",
    "from sklearn.ensemble import AdaBoostClassifier,RandomForestClassifier\n",
    "from xgboost import XGBClassifier\n",
    "from sklearn import metrics\n",
    "#from statsmodels.stats.outliers_influence import variance_inflation_factor\n",
    "\n",
    "#metrics evaluation\n",
    "from sklearn.metrics import roc_curve,roc_auc_score,accuracy_score,f1_score,confusion_matrix\n",
    "from sklearn.metrics import classification_report,cohen_kappa_score\n"
   ]
  },
  {
   "cell_type": "markdown",
   "metadata": {},
   "source": [
    "<a id='load_data'></a>\n",
    "# 2.LOADING DATA"
   ]
  },
  {
   "cell_type": "code",
   "execution_count": 13,
   "metadata": {},
   "outputs": [],
   "source": [
    "# read excel file using pandas\n",
    "df = pd.read_excel('Foodie_Community_Train.xlsx')"
   ]
  },
  {
   "cell_type": "code",
   "execution_count": 14,
   "metadata": {},
   "outputs": [
    {
     "data": {
      "text/html": [
       "<div>\n",
       "<style scoped>\n",
       "    .dataframe tbody tr th:only-of-type {\n",
       "        vertical-align: middle;\n",
       "    }\n",
       "\n",
       "    .dataframe tbody tr th {\n",
       "        vertical-align: top;\n",
       "    }\n",
       "\n",
       "    .dataframe thead th {\n",
       "        text-align: right;\n",
       "    }\n",
       "</style>\n",
       "<table border=\"1\" class=\"dataframe\">\n",
       "  <thead>\n",
       "    <tr style=\"text-align: right;\">\n",
       "      <th></th>\n",
       "      <th>Restaurant_Name</th>\n",
       "      <th>Reviewer_Name</th>\n",
       "      <th>Review_Text</th>\n",
       "      <th>Rating(1 - 5)</th>\n",
       "      <th>Reviews &amp; Followers</th>\n",
       "      <th>Time</th>\n",
       "      <th>Pictures_uploaded</th>\n",
       "    </tr>\n",
       "  </thead>\n",
       "  <tbody>\n",
       "    <tr>\n",
       "      <th>0</th>\n",
       "      <td>Tiki Shack</td>\n",
       "      <td>Priya</td>\n",
       "      <td>The place was good, ambiance was very nice! Mu...</td>\n",
       "      <td>4</td>\n",
       "      <td>1 Review</td>\n",
       "      <td>2019-05-18 01:35:00</td>\n",
       "      <td>0</td>\n",
       "    </tr>\n",
       "    <tr>\n",
       "      <th>1</th>\n",
       "      <td>Dine O China</td>\n",
       "      <td>Swarn Lata Singh</td>\n",
       "      <td>poor quality</td>\n",
       "      <td>2</td>\n",
       "      <td>8 Reviews , 4 Followers</td>\n",
       "      <td>2018-08-11 14:44:00</td>\n",
       "      <td>0</td>\n",
       "    </tr>\n",
       "    <tr>\n",
       "      <th>2</th>\n",
       "      <td>Hotel Zara Hi-Fi</td>\n",
       "      <td>Samadhan Pawar</td>\n",
       "      <td>Worst experience with delivery time.. It took ...</td>\n",
       "      <td>1</td>\n",
       "      <td>1 Review , 1 Follower</td>\n",
       "      <td>2018-10-02 14:40:00</td>\n",
       "      <td>0</td>\n",
       "    </tr>\n",
       "    <tr>\n",
       "      <th>3</th>\n",
       "      <td>Driven Cafe</td>\n",
       "      <td>Tanvi Naik/ Taste.a.licious</td>\n",
       "      <td>What's not to love here ... The best and the m...</td>\n",
       "      <td>5</td>\n",
       "      <td>36 Reviews , 2045 Followers</td>\n",
       "      <td>2018-08-18 23:20:00</td>\n",
       "      <td>3</td>\n",
       "    </tr>\n",
       "    <tr>\n",
       "      <th>4</th>\n",
       "      <td>KFC</td>\n",
       "      <td>Umesh Gopu</td>\n",
       "      <td>worst</td>\n",
       "      <td>1</td>\n",
       "      <td>1 Review , 6 Followers</td>\n",
       "      <td>2018-07-25 20:50:00</td>\n",
       "      <td>0</td>\n",
       "    </tr>\n",
       "  </tbody>\n",
       "</table>\n",
       "</div>"
      ],
      "text/plain": [
       "    Restaurant_Name                Reviewer_Name  \\\n",
       "0        Tiki Shack                        Priya   \n",
       "1      Dine O China             Swarn Lata Singh   \n",
       "2  Hotel Zara Hi-Fi               Samadhan Pawar   \n",
       "3       Driven Cafe  Tanvi Naik/ Taste.a.licious   \n",
       "4               KFC                   Umesh Gopu   \n",
       "\n",
       "                                         Review_Text Rating(1 - 5)  \\\n",
       "0  The place was good, ambiance was very nice! Mu...             4   \n",
       "1                                       poor quality             2   \n",
       "2  Worst experience with delivery time.. It took ...             1   \n",
       "3  What's not to love here ... The best and the m...             5   \n",
       "4                                              worst             1   \n",
       "\n",
       "           Reviews & Followers                Time  Pictures_uploaded  \n",
       "0                     1 Review 2019-05-18 01:35:00                  0  \n",
       "1      8 Reviews , 4 Followers 2018-08-11 14:44:00                  0  \n",
       "2        1 Review , 1 Follower 2018-10-02 14:40:00                  0  \n",
       "3  36 Reviews , 2045 Followers 2018-08-18 23:20:00                  3  \n",
       "4       1 Review , 6 Followers 2018-07-25 20:50:00                  0  "
      ]
     },
     "execution_count": 14,
     "metadata": {},
     "output_type": "execute_result"
    }
   ],
   "source": [
    "# display the top 5 rows of the dataframe\n",
    "df.head()"
   ]
  },
  {
   "cell_type": "markdown",
   "metadata": {},
   "source": [
    "# 3.READ DATA"
   ]
  },
  {
   "cell_type": "markdown",
   "metadata": {},
   "source": [
    "### Lets take a glance at our dataframe and see how it looks"
   ]
  },
  {
   "cell_type": "markdown",
   "metadata": {},
   "source": [
    "### Dimensions of the data"
   ]
  },
  {
   "cell_type": "code",
   "execution_count": 15,
   "metadata": {},
   "outputs": [
    {
     "data": {
      "text/plain": [
       "(6400, 7)"
      ]
     },
     "execution_count": 15,
     "metadata": {},
     "output_type": "execute_result"
    }
   ],
   "source": [
    "# 'shape' function gives the total number of rows and columns in the data\n",
    "df.shape"
   ]
  },
  {
   "cell_type": "code",
   "execution_count": 16,
   "metadata": {},
   "outputs": [
    {
     "name": "stdout",
     "output_type": "stream",
     "text": [
      "<class 'pandas.core.frame.DataFrame'>\n",
      "RangeIndex: 6400 entries, 0 to 6399\n",
      "Data columns (total 7 columns):\n",
      " #   Column               Non-Null Count  Dtype         \n",
      "---  ------               --------------  -----         \n",
      " 0   Restaurant_Name      6400 non-null   object        \n",
      " 1   Reviewer_Name        6400 non-null   object        \n",
      " 2   Review_Text          6396 non-null   object        \n",
      " 3   Rating(1 - 5)        6400 non-null   object        \n",
      " 4   Reviews & Followers  6400 non-null   object        \n",
      " 5   Time                 6400 non-null   datetime64[ns]\n",
      " 6   Pictures_uploaded    6400 non-null   int64         \n",
      "dtypes: datetime64[ns](1), int64(1), object(5)\n",
      "memory usage: 350.1+ KB\n"
     ]
    }
   ],
   "source": [
    "# CHECKING DATATYPES, NULL VALUES\n",
    "df.info()"
   ]
  },
  {
   "cell_type": "markdown",
   "metadata": {},
   "source": [
    "### Comment:\n",
    "+ we can observe that Review_Text having 4 null values"
   ]
  },
  {
   "cell_type": "code",
   "execution_count": 17,
   "metadata": {},
   "outputs": [
    {
     "data": {
      "text/html": [
       "<div>\n",
       "<style scoped>\n",
       "    .dataframe tbody tr th:only-of-type {\n",
       "        vertical-align: middle;\n",
       "    }\n",
       "\n",
       "    .dataframe tbody tr th {\n",
       "        vertical-align: top;\n",
       "    }\n",
       "\n",
       "    .dataframe thead th {\n",
       "        text-align: right;\n",
       "    }\n",
       "</style>\n",
       "<table border=\"1\" class=\"dataframe\">\n",
       "  <thead>\n",
       "    <tr style=\"text-align: right;\">\n",
       "      <th></th>\n",
       "      <th>Restaurant_Name</th>\n",
       "      <th>Reviewer_Name</th>\n",
       "      <th>Review_Text</th>\n",
       "      <th>Rating(1 - 5)</th>\n",
       "      <th>Reviews &amp; Followers</th>\n",
       "    </tr>\n",
       "  </thead>\n",
       "  <tbody>\n",
       "    <tr>\n",
       "      <th>count</th>\n",
       "      <td>6400</td>\n",
       "      <td>6400</td>\n",
       "      <td>6396</td>\n",
       "      <td>6400</td>\n",
       "      <td>6400</td>\n",
       "    </tr>\n",
       "    <tr>\n",
       "      <th>unique</th>\n",
       "      <td>80</td>\n",
       "      <td>5068</td>\n",
       "      <td>6047</td>\n",
       "      <td>10</td>\n",
       "      <td>1884</td>\n",
       "    </tr>\n",
       "    <tr>\n",
       "      <th>top</th>\n",
       "      <td>Behrouz Biryani</td>\n",
       "      <td>Parijat Ray</td>\n",
       "      <td>good</td>\n",
       "      <td>5</td>\n",
       "      <td>1 Review</td>\n",
       "    </tr>\n",
       "    <tr>\n",
       "      <th>freq</th>\n",
       "      <td>90</td>\n",
       "      <td>11</td>\n",
       "      <td>152</td>\n",
       "      <td>2482</td>\n",
       "      <td>600</td>\n",
       "    </tr>\n",
       "  </tbody>\n",
       "</table>\n",
       "</div>"
      ],
      "text/plain": [
       "        Restaurant_Name Reviewer_Name Review_Text  Rating(1 - 5)  \\\n",
       "count              6400          6400        6396           6400   \n",
       "unique               80          5068        6047             10   \n",
       "top     Behrouz Biryani   Parijat Ray        good              5   \n",
       "freq                 90            11         152           2482   \n",
       "\n",
       "       Reviews & Followers  \n",
       "count                 6400  \n",
       "unique                1884  \n",
       "top               1 Review  \n",
       "freq                   600  "
      ]
     },
     "execution_count": 17,
     "metadata": {},
     "output_type": "execute_result"
    }
   ],
   "source": [
    "# summary of categorical variables\n",
    "df.describe(include=object)\n",
    "\n",
    "# Note: If we pass 'include=object' to the .describe(), it will return descriptive statistics for categorical variables only"
   ]
  },
  {
   "cell_type": "code",
   "execution_count": 18,
   "metadata": {},
   "outputs": [
    {
     "data": {
      "text/plain": [
       "Restaurant_Name                object\n",
       "Reviewer_Name                  object\n",
       "Review_Text                    object\n",
       "Rating(1 - 5)                  object\n",
       "Reviews & Followers            object\n",
       "Time                   datetime64[ns]\n",
       "Pictures_uploaded               int64\n",
       "dtype: object"
      ]
     },
     "execution_count": 18,
     "metadata": {},
     "output_type": "execute_result"
    }
   ],
   "source": [
    "#checking datatypes \n",
    "df.dtypes"
   ]
  },
  {
   "cell_type": "code",
   "execution_count": 19,
   "metadata": {},
   "outputs": [
    {
     "data": {
      "text/plain": [
       "1 Review                      600\n",
       "1 Review , 1 Follower         473\n",
       "2 Reviews , 1 Follower        217\n",
       "2 Reviews                     171\n",
       "1 Review , 2 Followers        144\n",
       "                             ... \n",
       "6 Reviews , 95 Followers        1\n",
       "13 Reviews , 86 Followers       1\n",
       "1 Review , 78 Followers         1\n",
       "3 Reviews , 123 Followers       1\n",
       "90 Reviews , 121 Followers      1\n",
       "Name: Reviews & Followers, Length: 1884, dtype: int64"
      ]
     },
     "execution_count": 19,
     "metadata": {},
     "output_type": "execute_result"
    }
   ],
   "source": [
    "# checking unique value of review and followers and their counts\n",
    "df['Reviews & Followers'].value_counts()"
   ]
  },
  {
   "cell_type": "code",
   "execution_count": 20,
   "metadata": {},
   "outputs": [
    {
     "data": {
      "text/plain": [
       "(600, 7)"
      ]
     },
     "execution_count": 20,
     "metadata": {},
     "output_type": "execute_result"
    }
   ],
   "source": [
    "# to seperate reviews and followers as seperate columns checking no of observation having 1 review alone\n",
    "df1 = df[df['Reviews & Followers']=='1 Review']\n",
    "df1.shape"
   ]
  },
  {
   "cell_type": "code",
   "execution_count": 21,
   "metadata": {},
   "outputs": [
    {
     "data": {
      "text/plain": [
       "(5800, 7)"
      ]
     },
     "execution_count": 21,
     "metadata": {},
     "output_type": "execute_result"
    }
   ],
   "source": [
    "# checking observations not having 1 review alone\n",
    "df2 = df[df['Reviews & Followers']!='1 Review']\n",
    "df2.shape"
   ]
  },
  {
   "cell_type": "code",
   "execution_count": 22,
   "metadata": {},
   "outputs": [
    {
     "data": {
      "text/plain": [
       "True"
      ]
     },
     "execution_count": 22,
     "metadata": {},
     "output_type": "execute_result"
    }
   ],
   "source": [
    "# verifying the sum of no of 1 review and more than 1 review is equal to the total observations\n",
    "(df1.shape[0]+df2.shape[0]) == df.shape[0]"
   ]
  },
  {
   "cell_type": "code",
   "execution_count": 23,
   "metadata": {},
   "outputs": [
    {
     "data": {
      "text/html": [
       "<div>\n",
       "<style scoped>\n",
       "    .dataframe tbody tr th:only-of-type {\n",
       "        vertical-align: middle;\n",
       "    }\n",
       "\n",
       "    .dataframe tbody tr th {\n",
       "        vertical-align: top;\n",
       "    }\n",
       "\n",
       "    .dataframe thead th {\n",
       "        text-align: right;\n",
       "    }\n",
       "</style>\n",
       "<table border=\"1\" class=\"dataframe\">\n",
       "  <thead>\n",
       "    <tr style=\"text-align: right;\">\n",
       "      <th></th>\n",
       "      <th>Restaurant_Name</th>\n",
       "      <th>Reviewer_Name</th>\n",
       "      <th>Review_Text</th>\n",
       "      <th>Rating(1 - 5)</th>\n",
       "      <th>Reviews &amp; Followers</th>\n",
       "      <th>Time</th>\n",
       "      <th>Pictures_uploaded</th>\n",
       "      <th>review</th>\n",
       "    </tr>\n",
       "  </thead>\n",
       "  <tbody>\n",
       "    <tr>\n",
       "      <th>0</th>\n",
       "      <td>Tiki Shack</td>\n",
       "      <td>Priya</td>\n",
       "      <td>The place was good, ambiance was very nice! Mu...</td>\n",
       "      <td>4</td>\n",
       "      <td>1 Review</td>\n",
       "      <td>2019-05-18 01:35:00</td>\n",
       "      <td>0</td>\n",
       "      <td>[1, Review]</td>\n",
       "    </tr>\n",
       "    <tr>\n",
       "      <th>1</th>\n",
       "      <td>Dine O China</td>\n",
       "      <td>Swarn Lata Singh</td>\n",
       "      <td>poor quality</td>\n",
       "      <td>2</td>\n",
       "      <td>8 Reviews , 4 Followers</td>\n",
       "      <td>2018-08-11 14:44:00</td>\n",
       "      <td>0</td>\n",
       "      <td>[8, Reviews, ,, 4, Followers]</td>\n",
       "    </tr>\n",
       "    <tr>\n",
       "      <th>2</th>\n",
       "      <td>Hotel Zara Hi-Fi</td>\n",
       "      <td>Samadhan Pawar</td>\n",
       "      <td>Worst experience with delivery time.. It took ...</td>\n",
       "      <td>1</td>\n",
       "      <td>1 Review , 1 Follower</td>\n",
       "      <td>2018-10-02 14:40:00</td>\n",
       "      <td>0</td>\n",
       "      <td>[1, Review, ,, 1, Follower]</td>\n",
       "    </tr>\n",
       "    <tr>\n",
       "      <th>3</th>\n",
       "      <td>Driven Cafe</td>\n",
       "      <td>Tanvi Naik/ Taste.a.licious</td>\n",
       "      <td>What's not to love here ... The best and the m...</td>\n",
       "      <td>5</td>\n",
       "      <td>36 Reviews , 2045 Followers</td>\n",
       "      <td>2018-08-18 23:20:00</td>\n",
       "      <td>3</td>\n",
       "      <td>[36, Reviews, ,, 2045, Followers]</td>\n",
       "    </tr>\n",
       "    <tr>\n",
       "      <th>4</th>\n",
       "      <td>KFC</td>\n",
       "      <td>Umesh Gopu</td>\n",
       "      <td>worst</td>\n",
       "      <td>1</td>\n",
       "      <td>1 Review , 6 Followers</td>\n",
       "      <td>2018-07-25 20:50:00</td>\n",
       "      <td>0</td>\n",
       "      <td>[1, Review, ,, 6, Followers]</td>\n",
       "    </tr>\n",
       "  </tbody>\n",
       "</table>\n",
       "</div>"
      ],
      "text/plain": [
       "    Restaurant_Name                Reviewer_Name  \\\n",
       "0        Tiki Shack                        Priya   \n",
       "1      Dine O China             Swarn Lata Singh   \n",
       "2  Hotel Zara Hi-Fi               Samadhan Pawar   \n",
       "3       Driven Cafe  Tanvi Naik/ Taste.a.licious   \n",
       "4               KFC                   Umesh Gopu   \n",
       "\n",
       "                                         Review_Text Rating(1 - 5)  \\\n",
       "0  The place was good, ambiance was very nice! Mu...             4   \n",
       "1                                       poor quality             2   \n",
       "2  Worst experience with delivery time.. It took ...             1   \n",
       "3  What's not to love here ... The best and the m...             5   \n",
       "4                                              worst             1   \n",
       "\n",
       "           Reviews & Followers                Time  Pictures_uploaded  \\\n",
       "0                     1 Review 2019-05-18 01:35:00                  0   \n",
       "1      8 Reviews , 4 Followers 2018-08-11 14:44:00                  0   \n",
       "2        1 Review , 1 Follower 2018-10-02 14:40:00                  0   \n",
       "3  36 Reviews , 2045 Followers 2018-08-18 23:20:00                  3   \n",
       "4       1 Review , 6 Followers 2018-07-25 20:50:00                  0   \n",
       "\n",
       "                              review  \n",
       "0                        [1, Review]  \n",
       "1      [8, Reviews, ,, 4, Followers]  \n",
       "2        [1, Review, ,, 1, Follower]  \n",
       "3  [36, Reviews, ,, 2045, Followers]  \n",
       "4       [1, Review, ,, 6, Followers]  "
      ]
     },
     "execution_count": 23,
     "metadata": {},
     "output_type": "execute_result"
    }
   ],
   "source": [
    "# To Seperating Reviews and followers from Reviews and Followers split it by ' '\n",
    "df['review'] = df['Reviews & Followers'].apply(lambda x : x.split(' '))\n",
    "df.head()"
   ]
  },
  {
   "cell_type": "code",
   "execution_count": 1,
   "metadata": {},
   "outputs": [
    {
     "ename": "NameError",
     "evalue": "name 'df' is not defined",
     "output_type": "error",
     "traceback": [
      "\u001b[1;31m---------------------------------------------------------------------------\u001b[0m",
      "\u001b[1;31mNameError\u001b[0m                                 Traceback (most recent call last)",
      "\u001b[1;32m<ipython-input-1-6daa971308f2>\u001b[0m in \u001b[0;36m<module>\u001b[1;34m\u001b[0m\n\u001b[0;32m      1\u001b[0m \u001b[1;31m# Seperating Followers from Reviews and Followers\u001b[0m\u001b[1;33m\u001b[0m\u001b[1;33m\u001b[0m\u001b[1;33m\u001b[0m\u001b[0m\n\u001b[1;32m----> 2\u001b[1;33m \u001b[0mdf\u001b[0m\u001b[1;33m[\u001b[0m\u001b[1;34m'Followers'\u001b[0m\u001b[1;33m]\u001b[0m \u001b[1;33m=\u001b[0m  \u001b[0mdf\u001b[0m\u001b[1;33m[\u001b[0m\u001b[1;34m'review'\u001b[0m\u001b[1;33m]\u001b[0m\u001b[1;33m.\u001b[0m\u001b[0mapply\u001b[0m\u001b[1;33m(\u001b[0m\u001b[1;32mlambda\u001b[0m \u001b[0mx\u001b[0m\u001b[1;33m:\u001b[0m \u001b[0mx\u001b[0m\u001b[1;33m[\u001b[0m\u001b[1;33m-\u001b[0m\u001b[1;36m2\u001b[0m\u001b[1;33m]\u001b[0m \u001b[1;32mif\u001b[0m \u001b[0mlen\u001b[0m\u001b[1;33m(\u001b[0m\u001b[0mx\u001b[0m\u001b[1;33m)\u001b[0m\u001b[1;33m>\u001b[0m\u001b[1;36m2\u001b[0m \u001b[1;32melse\u001b[0m \u001b[1;36m0\u001b[0m \u001b[1;33m)\u001b[0m\u001b[1;33m\u001b[0m\u001b[1;33m\u001b[0m\u001b[0m\n\u001b[0m\u001b[0;32m      3\u001b[0m \u001b[0mdf\u001b[0m\u001b[1;33m.\u001b[0m\u001b[0mhead\u001b[0m\u001b[1;33m(\u001b[0m\u001b[1;33m)\u001b[0m\u001b[1;33m\u001b[0m\u001b[1;33m\u001b[0m\u001b[0m\n",
      "\u001b[1;31mNameError\u001b[0m: name 'df' is not defined"
     ]
    }
   ],
   "source": [
    "# Seperating Followers from Reviews and Followers\n",
    "df['Followers'] =  df['review'].apply(lambda x: x[-2] if len(x)>2 else 0 )\n",
    "df.head()"
   ]
  },
  {
   "cell_type": "code",
   "execution_count": 25,
   "metadata": {},
   "outputs": [
    {
     "data": {
      "text/html": [
       "<div>\n",
       "<style scoped>\n",
       "    .dataframe tbody tr th:only-of-type {\n",
       "        vertical-align: middle;\n",
       "    }\n",
       "\n",
       "    .dataframe tbody tr th {\n",
       "        vertical-align: top;\n",
       "    }\n",
       "\n",
       "    .dataframe thead th {\n",
       "        text-align: right;\n",
       "    }\n",
       "</style>\n",
       "<table border=\"1\" class=\"dataframe\">\n",
       "  <thead>\n",
       "    <tr style=\"text-align: right;\">\n",
       "      <th></th>\n",
       "      <th>Restaurant_Name</th>\n",
       "      <th>Reviewer_Name</th>\n",
       "      <th>Review_Text</th>\n",
       "      <th>Rating(1 - 5)</th>\n",
       "      <th>Reviews &amp; Followers</th>\n",
       "      <th>Time</th>\n",
       "      <th>Pictures_uploaded</th>\n",
       "      <th>review</th>\n",
       "      <th>Followers</th>\n",
       "      <th>Reviews</th>\n",
       "    </tr>\n",
       "  </thead>\n",
       "  <tbody>\n",
       "    <tr>\n",
       "      <th>0</th>\n",
       "      <td>Tiki Shack</td>\n",
       "      <td>Priya</td>\n",
       "      <td>The place was good, ambiance was very nice! Mu...</td>\n",
       "      <td>4</td>\n",
       "      <td>1 Review</td>\n",
       "      <td>2019-05-18 01:35:00</td>\n",
       "      <td>0</td>\n",
       "      <td>[1, Review]</td>\n",
       "      <td>0</td>\n",
       "      <td>1</td>\n",
       "    </tr>\n",
       "    <tr>\n",
       "      <th>1</th>\n",
       "      <td>Dine O China</td>\n",
       "      <td>Swarn Lata Singh</td>\n",
       "      <td>poor quality</td>\n",
       "      <td>2</td>\n",
       "      <td>8 Reviews , 4 Followers</td>\n",
       "      <td>2018-08-11 14:44:00</td>\n",
       "      <td>0</td>\n",
       "      <td>[8, Reviews, ,, 4, Followers]</td>\n",
       "      <td>4</td>\n",
       "      <td>8</td>\n",
       "    </tr>\n",
       "    <tr>\n",
       "      <th>2</th>\n",
       "      <td>Hotel Zara Hi-Fi</td>\n",
       "      <td>Samadhan Pawar</td>\n",
       "      <td>Worst experience with delivery time.. It took ...</td>\n",
       "      <td>1</td>\n",
       "      <td>1 Review , 1 Follower</td>\n",
       "      <td>2018-10-02 14:40:00</td>\n",
       "      <td>0</td>\n",
       "      <td>[1, Review, ,, 1, Follower]</td>\n",
       "      <td>1</td>\n",
       "      <td>1</td>\n",
       "    </tr>\n",
       "    <tr>\n",
       "      <th>3</th>\n",
       "      <td>Driven Cafe</td>\n",
       "      <td>Tanvi Naik/ Taste.a.licious</td>\n",
       "      <td>What's not to love here ... The best and the m...</td>\n",
       "      <td>5</td>\n",
       "      <td>36 Reviews , 2045 Followers</td>\n",
       "      <td>2018-08-18 23:20:00</td>\n",
       "      <td>3</td>\n",
       "      <td>[36, Reviews, ,, 2045, Followers]</td>\n",
       "      <td>2045</td>\n",
       "      <td>36</td>\n",
       "    </tr>\n",
       "    <tr>\n",
       "      <th>4</th>\n",
       "      <td>KFC</td>\n",
       "      <td>Umesh Gopu</td>\n",
       "      <td>worst</td>\n",
       "      <td>1</td>\n",
       "      <td>1 Review , 6 Followers</td>\n",
       "      <td>2018-07-25 20:50:00</td>\n",
       "      <td>0</td>\n",
       "      <td>[1, Review, ,, 6, Followers]</td>\n",
       "      <td>6</td>\n",
       "      <td>1</td>\n",
       "    </tr>\n",
       "  </tbody>\n",
       "</table>\n",
       "</div>"
      ],
      "text/plain": [
       "    Restaurant_Name                Reviewer_Name  \\\n",
       "0        Tiki Shack                        Priya   \n",
       "1      Dine O China             Swarn Lata Singh   \n",
       "2  Hotel Zara Hi-Fi               Samadhan Pawar   \n",
       "3       Driven Cafe  Tanvi Naik/ Taste.a.licious   \n",
       "4               KFC                   Umesh Gopu   \n",
       "\n",
       "                                         Review_Text Rating(1 - 5)  \\\n",
       "0  The place was good, ambiance was very nice! Mu...             4   \n",
       "1                                       poor quality             2   \n",
       "2  Worst experience with delivery time.. It took ...             1   \n",
       "3  What's not to love here ... The best and the m...             5   \n",
       "4                                              worst             1   \n",
       "\n",
       "           Reviews & Followers                Time  Pictures_uploaded  \\\n",
       "0                     1 Review 2019-05-18 01:35:00                  0   \n",
       "1      8 Reviews , 4 Followers 2018-08-11 14:44:00                  0   \n",
       "2        1 Review , 1 Follower 2018-10-02 14:40:00                  0   \n",
       "3  36 Reviews , 2045 Followers 2018-08-18 23:20:00                  3   \n",
       "4       1 Review , 6 Followers 2018-07-25 20:50:00                  0   \n",
       "\n",
       "                              review Followers Reviews  \n",
       "0                        [1, Review]         0       1  \n",
       "1      [8, Reviews, ,, 4, Followers]         4       8  \n",
       "2        [1, Review, ,, 1, Follower]         1       1  \n",
       "3  [36, Reviews, ,, 2045, Followers]      2045      36  \n",
       "4       [1, Review, ,, 6, Followers]         6       1  "
      ]
     },
     "execution_count": 25,
     "metadata": {},
     "output_type": "execute_result"
    }
   ],
   "source": [
    "# Seperating Reviews from Reviews and Followers\n",
    "df['Reviews'] =  df['review'].apply(lambda x: x[0])\n",
    "df.head()"
   ]
  },
  {
   "cell_type": "code",
   "execution_count": 26,
   "metadata": {},
   "outputs": [],
   "source": [
    "# count of review should be in the dtype of int, so converting dtype from object to int\n",
    "df['Reviews'] = df['Reviews'].astype(int)"
   ]
  },
  {
   "cell_type": "code",
   "execution_count": 27,
   "metadata": {},
   "outputs": [],
   "source": [
    "# count of followers should be in the dtype of int, so converting dtype from object to int\n",
    "df['Followers'] = df['Followers'].astype(int)"
   ]
  },
  {
   "cell_type": "code",
   "execution_count": 28,
   "metadata": {},
   "outputs": [],
   "source": [
    "# we extract the features review and followers, so dropping source features\n",
    "df.drop(['Reviews & Followers','review'], axis = 1 , inplace = True)"
   ]
  },
  {
   "cell_type": "code",
   "execution_count": 29,
   "metadata": {},
   "outputs": [],
   "source": [
    "# Target column - rating of the restaurant which containing 1 string value 'like' replace that with mode\n",
    "df['Rating(1 - 5)'].replace('Like',df['Rating(1 - 5)'].mode()[0], inplace = True)"
   ]
  },
  {
   "cell_type": "markdown",
   "metadata": {},
   "source": [
    "<a id='feature'></a>\n",
    "# 3.FEATURE ENGINEERING"
   ]
  },
  {
   "cell_type": "code",
   "execution_count": 30,
   "metadata": {},
   "outputs": [],
   "source": [
    "# extract various date time components as seperate features\n",
    "df = df.assign(hour = df.Time.dt.hour, \n",
    "                         day = df.Time.dt.day,\n",
    "                        month = df.Time.dt.month, \n",
    "                        year = df.Time.dt.year, \n",
    "                        dayofweek = df.Time.dt.dayofweek)"
   ]
  },
  {
   "cell_type": "code",
   "execution_count": 31,
   "metadata": {},
   "outputs": [],
   "source": [
    "# dropping source column\n",
    "df.drop('Time', axis = 1, inplace = True)"
   ]
  },
  {
   "cell_type": "code",
   "execution_count": 32,
   "metadata": {},
   "outputs": [],
   "source": [
    "# extracting new feature meal_of_the_day from hour\n",
    "def func(x):\n",
    "    if x>=6 and x<=9:\n",
    "        return 'breakfast'\n",
    "    elif x>9 and x<12:\n",
    "        return 'brunch'\n",
    "    elif x>=12 and x<=15:\n",
    "        return 'lunch'\n",
    "    elif x>15 and x<=18:\n",
    "        return 'snacks'\n",
    "    elif x>18 and x<=19:\n",
    "        return 'supper'\n",
    "    else:\n",
    "        return 'dinner'"
   ]
  },
  {
   "cell_type": "code",
   "execution_count": 33,
   "metadata": {},
   "outputs": [
    {
     "data": {
      "text/html": [
       "<div>\n",
       "<style scoped>\n",
       "    .dataframe tbody tr th:only-of-type {\n",
       "        vertical-align: middle;\n",
       "    }\n",
       "\n",
       "    .dataframe tbody tr th {\n",
       "        vertical-align: top;\n",
       "    }\n",
       "\n",
       "    .dataframe thead th {\n",
       "        text-align: right;\n",
       "    }\n",
       "</style>\n",
       "<table border=\"1\" class=\"dataframe\">\n",
       "  <thead>\n",
       "    <tr style=\"text-align: right;\">\n",
       "      <th></th>\n",
       "      <th>Restaurant_Name</th>\n",
       "      <th>Reviewer_Name</th>\n",
       "      <th>Review_Text</th>\n",
       "      <th>Rating(1 - 5)</th>\n",
       "      <th>Pictures_uploaded</th>\n",
       "      <th>Followers</th>\n",
       "      <th>Reviews</th>\n",
       "      <th>hour</th>\n",
       "      <th>day</th>\n",
       "      <th>month</th>\n",
       "      <th>year</th>\n",
       "      <th>dayofweek</th>\n",
       "      <th>meal_of_the_day</th>\n",
       "    </tr>\n",
       "  </thead>\n",
       "  <tbody>\n",
       "    <tr>\n",
       "      <th>0</th>\n",
       "      <td>Tiki Shack</td>\n",
       "      <td>Priya</td>\n",
       "      <td>The place was good, ambiance was very nice! Mu...</td>\n",
       "      <td>4.0</td>\n",
       "      <td>0</td>\n",
       "      <td>0</td>\n",
       "      <td>1</td>\n",
       "      <td>1</td>\n",
       "      <td>18</td>\n",
       "      <td>5</td>\n",
       "      <td>2019</td>\n",
       "      <td>5</td>\n",
       "      <td>dinner</td>\n",
       "    </tr>\n",
       "    <tr>\n",
       "      <th>1</th>\n",
       "      <td>Dine O China</td>\n",
       "      <td>Swarn Lata Singh</td>\n",
       "      <td>poor quality</td>\n",
       "      <td>2.0</td>\n",
       "      <td>0</td>\n",
       "      <td>4</td>\n",
       "      <td>8</td>\n",
       "      <td>14</td>\n",
       "      <td>11</td>\n",
       "      <td>8</td>\n",
       "      <td>2018</td>\n",
       "      <td>5</td>\n",
       "      <td>lunch</td>\n",
       "    </tr>\n",
       "    <tr>\n",
       "      <th>2</th>\n",
       "      <td>Hotel Zara Hi-Fi</td>\n",
       "      <td>Samadhan Pawar</td>\n",
       "      <td>Worst experience with delivery time.. It took ...</td>\n",
       "      <td>1.0</td>\n",
       "      <td>0</td>\n",
       "      <td>1</td>\n",
       "      <td>1</td>\n",
       "      <td>14</td>\n",
       "      <td>2</td>\n",
       "      <td>10</td>\n",
       "      <td>2018</td>\n",
       "      <td>1</td>\n",
       "      <td>lunch</td>\n",
       "    </tr>\n",
       "    <tr>\n",
       "      <th>3</th>\n",
       "      <td>Driven Cafe</td>\n",
       "      <td>Tanvi Naik/ Taste.a.licious</td>\n",
       "      <td>What's not to love here ... The best and the m...</td>\n",
       "      <td>5.0</td>\n",
       "      <td>3</td>\n",
       "      <td>2045</td>\n",
       "      <td>36</td>\n",
       "      <td>23</td>\n",
       "      <td>18</td>\n",
       "      <td>8</td>\n",
       "      <td>2018</td>\n",
       "      <td>5</td>\n",
       "      <td>dinner</td>\n",
       "    </tr>\n",
       "    <tr>\n",
       "      <th>4</th>\n",
       "      <td>KFC</td>\n",
       "      <td>Umesh Gopu</td>\n",
       "      <td>worst</td>\n",
       "      <td>1.0</td>\n",
       "      <td>0</td>\n",
       "      <td>6</td>\n",
       "      <td>1</td>\n",
       "      <td>20</td>\n",
       "      <td>25</td>\n",
       "      <td>7</td>\n",
       "      <td>2018</td>\n",
       "      <td>2</td>\n",
       "      <td>dinner</td>\n",
       "    </tr>\n",
       "  </tbody>\n",
       "</table>\n",
       "</div>"
      ],
      "text/plain": [
       "    Restaurant_Name                Reviewer_Name  \\\n",
       "0        Tiki Shack                        Priya   \n",
       "1      Dine O China             Swarn Lata Singh   \n",
       "2  Hotel Zara Hi-Fi               Samadhan Pawar   \n",
       "3       Driven Cafe  Tanvi Naik/ Taste.a.licious   \n",
       "4               KFC                   Umesh Gopu   \n",
       "\n",
       "                                         Review_Text  Rating(1 - 5)  \\\n",
       "0  The place was good, ambiance was very nice! Mu...            4.0   \n",
       "1                                       poor quality            2.0   \n",
       "2  Worst experience with delivery time.. It took ...            1.0   \n",
       "3  What's not to love here ... The best and the m...            5.0   \n",
       "4                                              worst            1.0   \n",
       "\n",
       "   Pictures_uploaded  Followers  Reviews  hour  day  month  year  dayofweek  \\\n",
       "0                  0          0        1     1   18      5  2019          5   \n",
       "1                  0          4        8    14   11      8  2018          5   \n",
       "2                  0          1        1    14    2     10  2018          1   \n",
       "3                  3       2045       36    23   18      8  2018          5   \n",
       "4                  0          6        1    20   25      7  2018          2   \n",
       "\n",
       "  meal_of_the_day  \n",
       "0          dinner  \n",
       "1           lunch  \n",
       "2           lunch  \n",
       "3          dinner  \n",
       "4          dinner  "
      ]
     },
     "execution_count": 33,
     "metadata": {},
     "output_type": "execute_result"
    }
   ],
   "source": [
    "df['meal_of_the_day'] = df['hour'].apply(func)\n",
    "df.head()"
   ]
  },
  {
   "cell_type": "code",
   "execution_count": 34,
   "metadata": {},
   "outputs": [],
   "source": [
    "# Dropping irrelevant columns\n",
    "df.drop(['Restaurant_Name','Reviewer_Name','hour'], axis=1, inplace = True)"
   ]
  },
  {
   "cell_type": "code",
   "execution_count": 35,
   "metadata": {},
   "outputs": [
    {
     "data": {
      "text/plain": [
       "Review_Text          6047\n",
       "Rating(1 - 5)           9\n",
       "Pictures_uploaded      33\n",
       "Followers             611\n",
       "Reviews               211\n",
       "day                    31\n",
       "month                  12\n",
       "year                    4\n",
       "dayofweek               7\n",
       "meal_of_the_day         6\n",
       "dtype: int64"
      ]
     },
     "execution_count": 35,
     "metadata": {},
     "output_type": "execute_result"
    }
   ],
   "source": [
    "# checking no of unique values in each feature\n",
    "df.nunique()"
   ]
  },
  {
   "cell_type": "code",
   "execution_count": 36,
   "metadata": {},
   "outputs": [
    {
     "data": {
      "text/plain": [
       "Review_Text          0.000625\n",
       "Rating(1 - 5)        0.000000\n",
       "Pictures_uploaded    0.000000\n",
       "Followers            0.000000\n",
       "Reviews              0.000000\n",
       "day                  0.000000\n",
       "month                0.000000\n",
       "year                 0.000000\n",
       "dayofweek            0.000000\n",
       "meal_of_the_day      0.000000\n",
       "dtype: float64"
      ]
     },
     "execution_count": 36,
     "metadata": {},
     "output_type": "execute_result"
    }
   ],
   "source": [
    "#checking null values\n",
    "df.isnull().sum()/df.shape[0]"
   ]
  },
  {
   "cell_type": "code",
   "execution_count": 37,
   "metadata": {},
   "outputs": [
    {
     "data": {
      "application/javascript": [
       "\n",
       "        if (window._pyforest_update_imports_cell) { window._pyforest_update_imports_cell('import pandas as pd\\nimport seaborn as sns'); }\n",
       "    "
      ],
      "text/plain": [
       "<IPython.core.display.Javascript object>"
      ]
     },
     "metadata": {},
     "output_type": "display_data"
    },
    {
     "data": {
      "text/plain": [
       "<AxesSubplot:>"
      ]
     },
     "execution_count": 37,
     "metadata": {},
     "output_type": "execute_result"
    },
    {
     "data": {
      "image/png": "[encoded data removed]",
      "text/plain": [
       "<Figure size 432x288 with 2 Axes>"
      ]
     },
     "metadata": {
      "needs_background": "light"
     },
     "output_type": "display_data"
    }
   ],
   "source": [
    "# checking null values by visualising\n",
    "sns.heatmap(df.isnull())"
   ]
  },
  {
   "cell_type": "markdown",
   "metadata": {},
   "source": [
    "### Comment :\n",
    "+ we can see that there is no null values."
   ]
  },
  {
   "cell_type": "markdown",
   "metadata": {},
   "source": [
    "<a id='eda'></a>\n",
    "# 4.EXPLORATORY DATA ANALYSIS"
   ]
  },
  {
   "cell_type": "code",
   "execution_count": 38,
   "metadata": {},
   "outputs": [
    {
     "data": {
      "application/javascript": [
       "\n",
       "        if (window._pyforest_update_imports_cell) { window._pyforest_update_imports_cell('import pandas as pd\\nimport seaborn as sns'); }\n",
       "    "
      ],
      "text/plain": [
       "<IPython.core.display.Javascript object>"
      ]
     },
     "metadata": {},
     "output_type": "display_data"
    },
    {
     "data": {
      "text/plain": [
       "<AxesSubplot:xlabel='Rating(1 - 5)', ylabel='count'>"
      ]
     },
     "execution_count": 38,
     "metadata": {},
     "output_type": "execute_result"
    },
    {
     "data": {
      "image/png": "[encoded data removed]",
      "text/plain": [
       "<Figure size 432x288 with 1 Axes>"
      ]
     },
     "metadata": {
      "needs_background": "light"
     },
     "output_type": "display_data"
    }
   ],
   "source": [
    "# visualising the target variable\n",
    "sns.countplot(df['Rating(1 - 5)'])"
   ]
  },
  {
   "cell_type": "markdown",
   "metadata": {},
   "source": [
    "### Comment :\n",
    "+ we can observe that restaurants having rating '5'"
   ]
  },
  {
   "cell_type": "code",
   "execution_count": 39,
   "metadata": {},
   "outputs": [
    {
     "data": {
      "application/javascript": [
       "\n",
       "        if (window._pyforest_update_imports_cell) { window._pyforest_update_imports_cell('import pandas as pd\\nimport seaborn as sns'); }\n",
       "    "
      ],
      "text/plain": [
       "<IPython.core.display.Javascript object>"
      ]
     },
     "metadata": {},
     "output_type": "display_data"
    },
    {
     "data": {
      "text/plain": [
       "<AxesSubplot:xlabel='Rating(1 - 5)', ylabel='Reviews'>"
      ]
     },
     "execution_count": 39,
     "metadata": {},
     "output_type": "execute_result"
    },
    {
     "data": {
      "image/png": "[encoded data removed]",
      "text/plain": [
       "<Figure size 432x288 with 1 Axes>"
      ]
     },
     "metadata": {
      "needs_background": "light"
     },
     "output_type": "display_data"
    }
   ],
   "source": [
    "# visualising the target variable\n",
    "sns.barplot(df['Rating(1 - 5)'],df['Reviews'])"
   ]
  },
  {
   "cell_type": "markdown",
   "metadata": {},
   "source": [
    "### Comment :\n",
    "+ we can say that restaurants having 3.5 rating received more reviews."
   ]
  },
  {
   "cell_type": "code",
   "execution_count": 40,
   "metadata": {},
   "outputs": [
    {
     "data": {
      "application/javascript": [
       "\n",
       "        if (window._pyforest_update_imports_cell) { window._pyforest_update_imports_cell('import pandas as pd\\nimport seaborn as sns'); }\n",
       "    "
      ],
      "text/plain": [
       "<IPython.core.display.Javascript object>"
      ]
     },
     "metadata": {},
     "output_type": "display_data"
    },
    {
     "data": {
      "text/plain": [
       "<AxesSubplot:xlabel='Rating(1 - 5)', ylabel='Followers'>"
      ]
     },
     "execution_count": 40,
     "metadata": {},
     "output_type": "execute_result"
    },
    {
     "data": {
      "image/png": "[encoded data removed]",
      "text/plain": [
       "<Figure size 432x288 with 1 Axes>"
      ]
     },
     "metadata": {
      "needs_background": "light"
     },
     "output_type": "display_data"
    }
   ],
   "source": [
    "sns.barplot(df['Rating(1 - 5)'],df['Followers'])"
   ]
  },
  {
   "cell_type": "markdown",
   "metadata": {},
   "source": [
    "### Comment :\n",
    "+ we can observe that Number of followers more for the restaurant having 4.5 rating."
   ]
  },
  {
   "cell_type": "code",
   "execution_count": 41,
   "metadata": {},
   "outputs": [],
   "source": [
    "# checking multicollinearity"
   ]
  },
  {
   "cell_type": "code",
   "execution_count": 42,
   "metadata": {},
   "outputs": [
    {
     "data": {
      "application/javascript": [
       "\n",
       "        if (window._pyforest_update_imports_cell) { window._pyforest_update_imports_cell('import pandas as pd\\nimport seaborn as sns'); }\n",
       "    "
      ],
      "text/plain": [
       "<IPython.core.display.Javascript object>"
      ]
     },
     "metadata": {},
     "output_type": "display_data"
    },
    {
     "data": {
      "text/plain": [
       "<AxesSubplot:>"
      ]
     },
     "execution_count": 42,
     "metadata": {},
     "output_type": "execute_result"
    },
    {
     "data": {
      "image/png": "[encoded data removed]",
      "text/plain": [
       "<Figure size 432x288 with 2 Axes>"
      ]
     },
     "metadata": {
      "needs_background": "light"
     },
     "output_type": "display_data"
    }
   ],
   "source": [
    "sns.heatmap(df.corr(), annot = True) # we have seen that no high multicollinearity here."
   ]
  },
  {
   "cell_type": "code",
   "execution_count": 43,
   "metadata": {},
   "outputs": [
    {
     "data": {
      "text/plain": [
       "Index(['Review_Text', 'Rating(1 - 5)', 'Pictures_uploaded', 'Followers',\n",
       "       'Reviews', 'day', 'month', 'year', 'dayofweek', 'meal_of_the_day'],\n",
       "      dtype='object')"
      ]
     },
     "execution_count": 43,
     "metadata": {},
     "output_type": "execute_result"
    }
   ],
   "source": [
    "# checking the column names\n",
    "df.columns"
   ]
  },
  {
   "cell_type": "code",
   "execution_count": 44,
   "metadata": {},
   "outputs": [],
   "source": [
    "# seperating categorical columns \n",
    "df_cat = df.select_dtypes('object')"
   ]
  },
  {
   "cell_type": "code",
   "execution_count": 45,
   "metadata": {},
   "outputs": [],
   "source": [
    "# seperating numerical columns \n",
    "df_num = df.select_dtypes(np.number)"
   ]
  },
  {
   "cell_type": "code",
   "execution_count": 46,
   "metadata": {},
   "outputs": [
    {
     "data": {
      "text/plain": [
       "Index(['Review_Text', 'meal_of_the_day'], dtype='object')"
      ]
     },
     "execution_count": 46,
     "metadata": {},
     "output_type": "execute_result"
    }
   ],
   "source": [
    "df_cat.columns"
   ]
  },
  {
   "cell_type": "code",
   "execution_count": 47,
   "metadata": {},
   "outputs": [],
   "source": [
    "# dropping review text which is independent variable \n",
    "df_cat.drop(['Review_Text'], axis = 1, inplace = True)"
   ]
  },
  {
   "cell_type": "code",
   "execution_count": 48,
   "metadata": {},
   "outputs": [
    {
     "data": {
      "text/plain": [
       "Index(['meal_of_the_day'], dtype='object')"
      ]
     },
     "execution_count": 48,
     "metadata": {},
     "output_type": "execute_result"
    }
   ],
   "source": [
    "df_cat.columns"
   ]
  },
  {
   "cell_type": "code",
   "execution_count": 49,
   "metadata": {},
   "outputs": [
    {
     "data": {
      "application/javascript": [
       "\n",
       "        if (window._pyforest_update_imports_cell) { window._pyforest_update_imports_cell('import pandas as pd\\nimport seaborn as sns'); }\n",
       "    "
      ],
      "text/plain": [
       "<IPython.core.display.Javascript object>"
      ]
     },
     "metadata": {},
     "output_type": "display_data"
    },
    {
     "data": {
      "text/plain": [
       "<AxesSubplot:xlabel='meal_of_the_day', ylabel='count'>"
      ]
     },
     "execution_count": 49,
     "metadata": {},
     "output_type": "execute_result"
    },
    {
     "data": {
      "image/png": "[encoded data removed]",
      "text/plain": [
       "<Figure size 432x288 with 1 Axes>"
      ]
     },
     "metadata": {
      "needs_background": "light"
     },
     "output_type": "display_data"
    }
   ],
   "source": [
    "# visualising the meal of the day feature\n",
    "sns.countplot(df['meal_of_the_day'])"
   ]
  },
  {
   "cell_type": "markdown",
   "metadata": {},
   "source": [
    "### Comment :\n",
    "+ Peoples gave reviews for dinner mostly and then lunch compared to others."
   ]
  },
  {
   "cell_type": "code",
   "execution_count": 50,
   "metadata": {},
   "outputs": [
    {
     "data": {
      "text/plain": [
       "Index(['Rating(1 - 5)', 'Pictures_uploaded', 'Followers', 'Reviews', 'day',\n",
       "       'month', 'year', 'dayofweek'],\n",
       "      dtype='object')"
      ]
     },
     "execution_count": 50,
     "metadata": {},
     "output_type": "execute_result"
    }
   ],
   "source": [
    "# checking the numerical column names\n",
    "df_num.columns"
   ]
  },
  {
   "cell_type": "code",
   "execution_count": 51,
   "metadata": {
    "scrolled": true
   },
   "outputs": [
    {
     "data": {
      "application/javascript": [
       "\n",
       "        if (window._pyforest_update_imports_cell) { window._pyforest_update_imports_cell('import pandas as pd\\nimport seaborn as sns'); }\n",
       "    "
      ],
      "text/plain": [
       "<IPython.core.display.Javascript object>"
      ]
     },
     "metadata": {},
     "output_type": "display_data"
    },
    {
     "data": {
      "image/png": "[encoded data removed]",
      "text/plain": [
       "<Figure size 432x288 with 1 Axes>"
      ]
     },
     "metadata": {
      "needs_background": "light"
     },
     "output_type": "display_data"
    },
    {
     "data": {
      "application/javascript": [
       "\n",
       "        if (window._pyforest_update_imports_cell) { window._pyforest_update_imports_cell('import pandas as pd\\nimport seaborn as sns'); }\n",
       "    "
      ],
      "text/plain": [
       "<IPython.core.display.Javascript object>"
      ]
     },
     "metadata": {},
     "output_type": "display_data"
    },
    {
     "data": {
      "image/png": "[encoded data removed]",
      "text/plain": [
       "<Figure size 432x288 with 1 Axes>"
      ]
     },
     "metadata": {
      "needs_background": "light"
     },
     "output_type": "display_data"
    },
    {
     "data": {
      "application/javascript": [
       "\n",
       "        if (window._pyforest_update_imports_cell) { window._pyforest_update_imports_cell('import pandas as pd\\nimport seaborn as sns'); }\n",
       "    "
      ],
      "text/plain": [
       "<IPython.core.display.Javascript object>"
      ]
     },
     "metadata": {},
     "output_type": "display_data"
    },
    {
     "data": {
      "image/png": "[encoded data removed]",
      "text/plain": [
       "<Figure size 432x288 with 1 Axes>"
      ]
     },
     "metadata": {
      "needs_background": "light"
     },
     "output_type": "display_data"
    },
    {
     "data": {
      "application/javascript": [
       "\n",
       "        if (window._pyforest_update_imports_cell) { window._pyforest_update_imports_cell('import pandas as pd\\nimport seaborn as sns'); }\n",
       "    "
      ],
      "text/plain": [
       "<IPython.core.display.Javascript object>"
      ]
     },
     "metadata": {},
     "output_type": "display_data"
    },
    {
     "data": {
      "image/png": "[encoded data removed]",
      "text/plain": [
       "<Figure size 432x288 with 1 Axes>"
      ]
     },
     "metadata": {
      "needs_background": "light"
     },
     "output_type": "display_data"
    },
    {
     "data": {
      "application/javascript": [
       "\n",
       "        if (window._pyforest_update_imports_cell) { window._pyforest_update_imports_cell('import pandas as pd\\nimport seaborn as sns'); }\n",
       "    "
      ],
      "text/plain": [
       "<IPython.core.display.Javascript object>"
      ]
     },
     "metadata": {},
     "output_type": "display_data"
    },
    {
     "data": {
      "image/png": "[encoded data removed]",
      "text/plain": [
       "<Figure size 432x288 with 1 Axes>"
      ]
     },
     "metadata": {
      "needs_background": "light"
     },
     "output_type": "display_data"
    },
    {
     "data": {
      "application/javascript": [
       "\n",
       "        if (window._pyforest_update_imports_cell) { window._pyforest_update_imports_cell('import pandas as pd\\nimport seaborn as sns'); }\n",
       "    "
      ],
      "text/plain": [
       "<IPython.core.display.Javascript object>"
      ]
     },
     "metadata": {},
     "output_type": "display_data"
    },
    {
     "data": {
      "image/png": "[encoded data removed]",
      "text/plain": [
       "<Figure size 432x288 with 1 Axes>"
      ]
     },
     "metadata": {
      "needs_background": "light"
     },
     "output_type": "display_data"
    }
   ],
   "source": [
    "# we already visualized the reviews and followers so getting insights of other features only.\n",
    "for i in df_num.columns:\n",
    "    if ((i=='Followers') | (i=='Reviews')):\n",
    "        continue\n",
    "    else:\n",
    "        sns.barplot(df_num[i],df['Rating(1 - 5)'])\n",
    "        plt.xticks(rotation= 45)\n",
    "        plt.show()\n"
   ]
  },
  {
   "cell_type": "markdown",
   "metadata": {},
   "source": [
    "### Comments:\n",
    "#### we can observe the followings from the above plot:\n",
    "+ If Restaurants having more pictures uploaded then their ratings also good.\n",
    "+ Restaurants got good ratings in second half of month than first half of month.\n",
    "+ Mid month of a year, restaurants got good ratings compared to others.\n",
    "+ In 2016 and 2017, restaurant got good ratings compared to 2018 and 2019.\n",
    "    "
   ]
  },
  {
   "cell_type": "code",
   "execution_count": 52,
   "metadata": {},
   "outputs": [],
   "source": [
    "# our aim is to predict the rating of restaurant by the reviews so just filter that two columns seperately.\n",
    "dff = df[['Review_Text', 'Rating(1 - 5)']]"
   ]
  },
  {
   "cell_type": "code",
   "execution_count": 53,
   "metadata": {},
   "outputs": [
    {
     "data": {
      "text/html": [
       "<div>\n",
       "<style scoped>\n",
       "    .dataframe tbody tr th:only-of-type {\n",
       "        vertical-align: middle;\n",
       "    }\n",
       "\n",
       "    .dataframe tbody tr th {\n",
       "        vertical-align: top;\n",
       "    }\n",
       "\n",
       "    .dataframe thead th {\n",
       "        text-align: right;\n",
       "    }\n",
       "</style>\n",
       "<table border=\"1\" class=\"dataframe\">\n",
       "  <thead>\n",
       "    <tr style=\"text-align: right;\">\n",
       "      <th></th>\n",
       "      <th>Review_Text</th>\n",
       "      <th>Rating(1 - 5)</th>\n",
       "    </tr>\n",
       "  </thead>\n",
       "  <tbody>\n",
       "    <tr>\n",
       "      <th>0</th>\n",
       "      <td>The place was good, ambiance was very nice! Mu...</td>\n",
       "      <td>4.0</td>\n",
       "    </tr>\n",
       "    <tr>\n",
       "      <th>1</th>\n",
       "      <td>poor quality</td>\n",
       "      <td>2.0</td>\n",
       "    </tr>\n",
       "    <tr>\n",
       "      <th>2</th>\n",
       "      <td>Worst experience with delivery time.. It took ...</td>\n",
       "      <td>1.0</td>\n",
       "    </tr>\n",
       "    <tr>\n",
       "      <th>3</th>\n",
       "      <td>What's not to love here ... The best and the m...</td>\n",
       "      <td>5.0</td>\n",
       "    </tr>\n",
       "    <tr>\n",
       "      <th>4</th>\n",
       "      <td>worst</td>\n",
       "      <td>1.0</td>\n",
       "    </tr>\n",
       "  </tbody>\n",
       "</table>\n",
       "</div>"
      ],
      "text/plain": [
       "                                         Review_Text  Rating(1 - 5)\n",
       "0  The place was good, ambiance was very nice! Mu...            4.0\n",
       "1                                       poor quality            2.0\n",
       "2  Worst experience with delivery time.. It took ...            1.0\n",
       "3  What's not to love here ... The best and the m...            5.0\n",
       "4                                              worst            1.0"
      ]
     },
     "execution_count": 53,
     "metadata": {},
     "output_type": "execute_result"
    }
   ],
   "source": [
    "dff.head()"
   ]
  },
  {
   "cell_type": "code",
   "execution_count": 54,
   "metadata": {},
   "outputs": [
    {
     "name": "stdout",
     "output_type": "stream",
     "text": [
      "<class 'pandas.core.frame.DataFrame'>\n",
      "RangeIndex: 6400 entries, 0 to 6399\n",
      "Data columns (total 2 columns):\n",
      " #   Column         Non-Null Count  Dtype  \n",
      "---  ------         --------------  -----  \n",
      " 0   Review_Text    6396 non-null   object \n",
      " 1   Rating(1 - 5)  6400 non-null   float64\n",
      "dtypes: float64(1), object(1)\n",
      "memory usage: 100.1+ KB\n"
     ]
    }
   ],
   "source": [
    "#checking info\n",
    "dff.info()"
   ]
  },
  {
   "cell_type": "markdown",
   "metadata": {},
   "source": [
    "<a id='nlp'></a>\n",
    "# 5.NLP TECHNIQUES"
   ]
  },
  {
   "cell_type": "markdown",
   "metadata": {},
   "source": [
    "- 1. Tokenization - Splitting the senctence into words and making single entities of it\n",
    "- 2. Cleaning Text - Removing words that don't have significance such as \"and,the,is,am,are\" and then converting to lower        case and then using Regular Expressions to filter words\n",
    "- 3. Stemming - Converting each word to its root word is called stemming. For example \"go, going, gone\" have same root         word \"go\".\n",
    "- 4. Bag of Words - Converts group of words into a matrix, showing each words frequency\n",
    "- 5. Count Vectorizer\n",
    "- 6. TF-IDF - Term Frequency-Inverse Document Frequency, forms a matrix and shows TF-IDF of each words\n",
    " \n",
    "where,\n",
    "\n",
    "TF = No. of occurance of a word in a sentence/ No. of words in sentence\n",
    "\n",
    "IDF = log(No. of sentence/ No. of sentence containing word)"
   ]
  },
  {
   "cell_type": "code",
   "execution_count": 55,
   "metadata": {},
   "outputs": [],
   "source": [
    "# Data Preprocessing\n",
    "dff['sentence_lower'] = dff[\"Review_Text\"].str.lower() #cleaning text -  converting text into lower\n",
    "dff['sentence_no_punctuation'] = dff['sentence_lower'].str.replace('[^\\w\\s]','')# cleaning text - replace white and non white space characters by ''\n",
    "dff['sentence_no_punctuation'] = dff[\"sentence_no_punctuation\"].fillna(\"fillna\")# replace null values by fillna"
   ]
  },
  {
   "cell_type": "code",
   "execution_count": 56,
   "metadata": {},
   "outputs": [
    {
     "data": {
      "text/html": [
       "<div>\n",
       "<style scoped>\n",
       "    .dataframe tbody tr th:only-of-type {\n",
       "        vertical-align: middle;\n",
       "    }\n",
       "\n",
       "    .dataframe tbody tr th {\n",
       "        vertical-align: top;\n",
       "    }\n",
       "\n",
       "    .dataframe thead th {\n",
       "        text-align: right;\n",
       "    }\n",
       "</style>\n",
       "<table border=\"1\" class=\"dataframe\">\n",
       "  <thead>\n",
       "    <tr style=\"text-align: right;\">\n",
       "      <th></th>\n",
       "      <th>Review_Text</th>\n",
       "      <th>Rating(1 - 5)</th>\n",
       "      <th>sentence_lower</th>\n",
       "      <th>sentence_no_punctuation</th>\n",
       "    </tr>\n",
       "  </thead>\n",
       "  <tbody>\n",
       "    <tr>\n",
       "      <th>0</th>\n",
       "      <td>The place was good, ambiance was very nice! Mu...</td>\n",
       "      <td>4.0</td>\n",
       "      <td>the place was good, ambiance was very nice! mu...</td>\n",
       "      <td>the place was good ambiance was very nice musi...</td>\n",
       "    </tr>\n",
       "    <tr>\n",
       "      <th>1</th>\n",
       "      <td>poor quality</td>\n",
       "      <td>2.0</td>\n",
       "      <td>poor quality</td>\n",
       "      <td>poor quality</td>\n",
       "    </tr>\n",
       "    <tr>\n",
       "      <th>2</th>\n",
       "      <td>Worst experience with delivery time.. It took ...</td>\n",
       "      <td>1.0</td>\n",
       "      <td>worst experience with delivery time.. it took ...</td>\n",
       "      <td>worst experience with delivery time it took 2 ...</td>\n",
       "    </tr>\n",
       "    <tr>\n",
       "      <th>3</th>\n",
       "      <td>What's not to love here ... The best and the m...</td>\n",
       "      <td>5.0</td>\n",
       "      <td>what's not to love here ... the best and the m...</td>\n",
       "      <td>whats not to love here  the best and the most ...</td>\n",
       "    </tr>\n",
       "    <tr>\n",
       "      <th>4</th>\n",
       "      <td>worst</td>\n",
       "      <td>1.0</td>\n",
       "      <td>worst</td>\n",
       "      <td>worst</td>\n",
       "    </tr>\n",
       "  </tbody>\n",
       "</table>\n",
       "</div>"
      ],
      "text/plain": [
       "                                         Review_Text  Rating(1 - 5)  \\\n",
       "0  The place was good, ambiance was very nice! Mu...            4.0   \n",
       "1                                       poor quality            2.0   \n",
       "2  Worst experience with delivery time.. It took ...            1.0   \n",
       "3  What's not to love here ... The best and the m...            5.0   \n",
       "4                                              worst            1.0   \n",
       "\n",
       "                                      sentence_lower  \\\n",
       "0  the place was good, ambiance was very nice! mu...   \n",
       "1                                       poor quality   \n",
       "2  worst experience with delivery time.. it took ...   \n",
       "3  what's not to love here ... the best and the m...   \n",
       "4                                              worst   \n",
       "\n",
       "                             sentence_no_punctuation  \n",
       "0  the place was good ambiance was very nice musi...  \n",
       "1                                       poor quality  \n",
       "2  worst experience with delivery time it took 2 ...  \n",
       "3  whats not to love here  the best and the most ...  \n",
       "4                                              worst  "
      ]
     },
     "execution_count": 56,
     "metadata": {},
     "output_type": "execute_result"
    }
   ],
   "source": [
    "dff.head()"
   ]
  },
  {
   "cell_type": "code",
   "execution_count": 57,
   "metadata": {},
   "outputs": [],
   "source": [
    "# Initialize empty array \n",
    "# to append clean text  \n",
    "corpus = []# containing words after removal of stop words\n",
    "for i in range(0, len(df)):\n",
    "    review = dff['sentence_no_punctuation'][i].split()# Tokenisation\n",
    "    review = [ps.stem(word) for word in review if not word in stopwords.words('english')]#stemming- removing stop words\n",
    "    review = ' '.join(review)\n",
    "    corpus.append(review)"
   ]
  },
  {
   "cell_type": "markdown",
   "metadata": {},
   "source": [
    "#### Bag of words:"
   ]
  },
  {
   "cell_type": "code",
   "execution_count": 58,
   "metadata": {},
   "outputs": [
    {
     "data": {
      "text/plain": [
       "(6400, 11531)"
      ]
     },
     "execution_count": 58,
     "metadata": {},
     "output_type": "execute_result"
    }
   ],
   "source": [
    "# vectorize the words in corpus using count vectorizer\n",
    "from sklearn.feature_extraction.text import CountVectorizer\n",
    "cv=CountVectorizer()\n",
    "x = cv.fit_transform(corpus).toarray()\n",
    "x.shape"
   ]
  },
  {
   "cell_type": "code",
   "execution_count": 59,
   "metadata": {},
   "outputs": [],
   "source": [
    "# using tfidf for giving weight to the words depends on their no of occurences\n",
    "tfidf = TfidfTransformer()\n",
    "X = tfidf.fit_transform(x)\n",
    "X = tfidf.transform(x)"
   ]
  },
  {
   "cell_type": "code",
   "execution_count": 60,
   "metadata": {},
   "outputs": [
    {
     "name": "stdout",
     "output_type": "stream",
     "text": [
      "\n",
      " The dimension of the sparse matrix : \n",
      "(6400, 11531)\n",
      "\n",
      " TF-IDF of the First Sentence : \n",
      "  (0, 11144)\t0.2574243210855496\n",
      "  (0, 10532)\t0.16452520501762735\n",
      "  (0, 9832)\t0.26443698927994574\n",
      "  (0, 9815)\t0.3028292589482827\n",
      "  (0, 8686)\t0.22010740241215576\n",
      "  (0, 8506)\t0.28497787015224396\n",
      "  (0, 7789)\t0.13588261838739427\n",
      "  (0, 7234)\t0.24798730415291342\n",
      "  (0, 6900)\t0.10766379549517087\n",
      "  (0, 6764)\t0.12168049347340086\n",
      "  (0, 6745)\t0.13793589031855003\n",
      "  (0, 6043)\t0.13909910708087805\n",
      "  (0, 5982)\t0.20593795798471157\n",
      "  (0, 5699)\t0.316828846006599\n",
      "  (0, 5328)\t0.19588457717126298\n",
      "  (0, 4420)\t0.06131351438122478\n",
      "  (0, 4309)\t0.12628164259433072\n",
      "  (0, 3548)\t0.18282462751270562\n",
      "  (0, 2686)\t0.30578844077349154\n",
      "  (0, 2419)\t0.17420956286820807\n",
      "  (0, 731)\t0.13721532561813507\n",
      "  (0, 709)\t0.12103332405502255\n",
      "  (0, 686)\t0.10497106376470941\n",
      "  (0, 580)\t0.2607550449113512\n",
      "\n",
      " TF-IDF of the Second Sentence : \n",
      "  (0, 8199)\t0.5569661117410715\n",
      "  (0, 7906)\t0.8305352192243459\n"
     ]
    }
   ],
   "source": [
    "print('\\n The dimension of the sparse matrix : ')\n",
    "print(X.shape)\n",
    "\n",
    "#print('\\n List of words and their indices in the feature vector : ')\n",
    "#print(tfidf.vocabulary_)\n",
    "\n",
    "\n",
    "print('\\n TF-IDF of the First Sentence : ')\n",
    "print(X[0,:])\n",
    "\n",
    "\n",
    "print('\\n TF-IDF of the Second Sentence : ')\n",
    "print(X[1,:])\n"
   ]
  },
  {
   "cell_type": "code",
   "execution_count": 61,
   "metadata": {},
   "outputs": [
    {
     "data": {
      "text/plain": [
       "(6400, 11531)"
      ]
     },
     "execution_count": 61,
     "metadata": {},
     "output_type": "execute_result"
    }
   ],
   "source": [
    "#checking rows and columns\n",
    "X.shape"
   ]
  },
  {
   "cell_type": "code",
   "execution_count": 62,
   "metadata": {},
   "outputs": [
    {
     "name": "stdout",
     "output_type": "stream",
     "text": [
      "Shape of Sparse Matrix:  (6400, 11531)\n",
      "Amount of Non-Zero occurrences:  149118\n",
      "Density: 0.20206129130170844\n"
     ]
    }
   ],
   "source": [
    "print('Shape of Sparse Matrix: ', X.shape)\n",
    "print('Amount of Non-Zero occurrences: ', X.nnz)\n",
    "\n",
    "# Percentage of non-zero values\n",
    "density = (100.0 * X.nnz / (X.shape[0] * X.shape[1]))\n",
    "print('Density: {}'.format((density)))"
   ]
  },
  {
   "cell_type": "code",
   "execution_count": 63,
   "metadata": {},
   "outputs": [
    {
     "data": {
      "text/plain": [
       "5.0    2483\n",
       "4.0    1559\n",
       "1.0    1106\n",
       "3.0     774\n",
       "2.0     425\n",
       "4.5      29\n",
       "3.5      15\n",
       "2.5       6\n",
       "1.5       3\n",
       "Name: Rating(1 - 5), dtype: int64"
      ]
     },
     "execution_count": 63,
     "metadata": {},
     "output_type": "execute_result"
    }
   ],
   "source": [
    "# checking value counts of target variable before label coding\n",
    "dff['Rating(1 - 5)'].value_counts()"
   ]
  },
  {
   "cell_type": "code",
   "execution_count": 64,
   "metadata": {},
   "outputs": [
    {
     "data": {
      "text/plain": [
       "Review_Text                 object\n",
       "Rating(1 - 5)              float64\n",
       "sentence_lower              object\n",
       "sentence_no_punctuation     object\n",
       "dtype: object"
      ]
     },
     "execution_count": 64,
     "metadata": {},
     "output_type": "execute_result"
    }
   ],
   "source": [
    "#to check the dtype of target variable\n",
    "dff.dtypes"
   ]
  },
  {
   "cell_type": "markdown",
   "metadata": {},
   "source": [
    "<a id='label'></a>\n",
    "# 6.LABEL ENCODING"
   ]
  },
  {
   "cell_type": "code",
   "execution_count": 65,
   "metadata": {},
   "outputs": [],
   "source": [
    "# target variable is in the form of continuous value, we have to convert that using label encoding\n",
    "# Label encoding the target variable\n",
    "from sklearn.preprocessing import LabelEncoder\n",
    "label_encoder = LabelEncoder()\n",
    "y = label_encoder.fit_transform(dff['Rating(1 - 5)'])"
   ]
  },
  {
   "cell_type": "code",
   "execution_count": 66,
   "metadata": {},
   "outputs": [
    {
     "data": {
      "text/plain": [
       "[1.0, 1.5, 2.0, 2.5, 3.0, 3.5, 4.0, 4.5, 5.0]"
      ]
     },
     "execution_count": 66,
     "metadata": {},
     "output_type": "execute_result"
    }
   ],
   "source": [
    "# checking the encoder classes\n",
    "list(label_encoder.classes_)"
   ]
  },
  {
   "cell_type": "code",
   "execution_count": 67,
   "metadata": {},
   "outputs": [
    {
     "data": {
      "text/plain": [
       "8    2483\n",
       "6    1559\n",
       "0    1106\n",
       "4     774\n",
       "2     425\n",
       "7      29\n",
       "5      15\n",
       "3       6\n",
       "1       3\n",
       "Name: rating, dtype: int64"
      ]
     },
     "execution_count": 67,
     "metadata": {},
     "output_type": "execute_result"
    }
   ],
   "source": [
    "# checking unique target variables after encoding\n",
    "yy = pd.DataFrame(y)\n",
    "yy.columns = ['rating']\n",
    "yy['rating'].value_counts() "
   ]
  },
  {
   "cell_type": "code",
   "execution_count": 68,
   "metadata": {},
   "outputs": [
    {
     "data": {
      "text/plain": [
       "array([4. , 2. , 1. , 5. , 3. , 3.5, 4.5, 2.5, 1.5])"
      ]
     },
     "execution_count": 68,
     "metadata": {},
     "output_type": "execute_result"
    }
   ],
   "source": [
    "dff['Rating(1 - 5)'].unique() # unique target variables before encoding"
   ]
  },
  {
   "cell_type": "markdown",
   "metadata": {},
   "source": [
    "<a id='target'></a>\n",
    "# 7.TARGET VARIABLE VISUALISATION"
   ]
  },
  {
   "cell_type": "code",
   "execution_count": 69,
   "metadata": {},
   "outputs": [
    {
     "data": {
      "application/javascript": [
       "\n",
       "        if (window._pyforest_update_imports_cell) { window._pyforest_update_imports_cell('import pandas as pd\\nimport seaborn as sns'); }\n",
       "    "
      ],
      "text/plain": [
       "<IPython.core.display.Javascript object>"
      ]
     },
     "metadata": {},
     "output_type": "display_data"
    },
    {
     "data": {
      "text/plain": [
       "<AxesSubplot:ylabel='count'>"
      ]
     },
     "execution_count": 69,
     "metadata": {},
     "output_type": "execute_result"
    },
    {
     "data": {
      "image/png": "[encoded data removed]",
      "text/plain": [
       "<Figure size 432x288 with 1 Axes>"
      ]
     },
     "metadata": {
      "needs_background": "light"
     },
     "output_type": "display_data"
    }
   ],
   "source": [
    "sns.countplot(y)# checking target variable whether it is imbalanced or balanced dataset"
   ]
  },
  {
   "cell_type": "markdown",
   "metadata": {},
   "source": [
    "### comment:\n",
    "+ we can conclude that the given data is imbalanced."
   ]
  },
  {
   "cell_type": "markdown",
   "metadata": {},
   "source": [
    "<a id='base'></a>\n",
    "\n",
    "# 8.MODEL BUILDING WITH IMBALANCED DATASET"
   ]
  },
  {
   "cell_type": "code",
   "execution_count": 70,
   "metadata": {},
   "outputs": [],
   "source": [
    "# splitting into train and test data\n",
    "x_train,x_test,y_train,y_test=train_test_split(X,y,test_size=0.2,random_state=1)"
   ]
  },
  {
   "cell_type": "code",
   "execution_count": 71,
   "metadata": {},
   "outputs": [],
   "source": [
    "#Creating Result Tabulation\n",
    "result_tab=pd.DataFrame(columns=['Model_name','Model'])"
   ]
  },
  {
   "cell_type": "code",
   "execution_count": 72,
   "metadata": {},
   "outputs": [],
   "source": [
    "#Building models and evaluating metrics\n",
    "\n",
    "models=[LogisticRegression(multi_class='ovr'),MultinomialNB(), RandomForestClassifier(), XGBClassifier()]\n",
    "\n",
    "def func(model_name):\n",
    "    for i in models:\n",
    "        \n",
    "        global result_tab\n",
    "        \n",
    "        print(str(i).upper())\n",
    "        print()\n",
    "        \n",
    "        method=i\n",
    "        method.fit(x_train,y_train)\n",
    "        y_pred=method.predict(x_test)\n",
    "        \n",
    "        pred_prob1 = method.predict_proba(x_test)\n",
    "        \n",
    "        fpr1, tpr1, thresh1 = roc_curve(y_test, pred_prob1[:,1], pos_label=1)\n",
    "        confusion_mat=confusion_matrix(y_pred,y_test)\n",
    "        \n",
    "        print(\"classification report:   \",classification_report(y_pred,y_test))\n",
    "        print('PPV: ', 100*confusion_mat[0][0]/(confusion_mat[0][0]+confusion_mat[1][0]))\n",
    "        print('NPV: ', 100*confusion_mat[1][1]/(confusion_mat[1][1]+confusion_mat[0][1]))\n",
    "\n",
    "        plt.plot(fpr1, tpr1, color='orange', label='ROC')\n",
    "        plt.plot([0, 1], [0, 1], color='darkblue', linestyle='--')\n",
    "        plt.xlabel('False Positive Rate')\n",
    "        plt.ylabel('True Positive Rate')\n",
    "        plt.title('Receiver Operating Characteristic (ROC) Curve')\n",
    "        plt.legend()\n",
    "        plt.show()\n",
    "        print()\n",
    "        \n",
    "        modd=pd.Series({'Model_name':str(model_name)[0:10],\n",
    "                        'Model': str(i),\n",
    "                    'AUC Score' : roc_auc_score(y_test, pred_prob1,average='weighted',multi_class='ovr'),\n",
    "                    'Precision Score': metrics.precision_score(y_test, y_pred,average = 'weighted'),\n",
    "                    'Recall Score': metrics.recall_score(y_test, y_pred, average = 'weighted'),\n",
    "                    'Accuracy Score': metrics.accuracy_score(y_test, y_pred),\n",
    "                    'Kappa Score': cohen_kappa_score(y_test, y_pred),\n",
    "                    'f1-score': f1_score(y_test, y_pred,average = 'weighted'),\n",
    "                    \"accuracy_score\": accuracy_score(y_pred,y_test),\n",
    "                   \"confusion matrix\":confusion_matrix(y_pred,y_test)})\n",
    "                    #'Sensitivity':100*confusion_mat[0][0]/(confusion_mat[0][0]+confusion_mat[0][1]),\n",
    "                    #'Specificity': 100*confusion_mat[1][1]/(confusion_mat[1][1]+confusion_mat[1][0])})\n",
    "        \n",
    "        result_tab=result_tab.append(modd,ignore_index=True)\n",
    "        \n",
    "    return result_tab\n"
   ]
  },
  {
   "cell_type": "code",
   "execution_count": 73,
   "metadata": {
    "scrolled": false
   },
   "outputs": [
    {
     "name": "stdout",
     "output_type": "stream",
     "text": [
      "LOGISTICREGRESSION(MULTI_CLASS='OVR')\n",
      "\n",
      "classification report:                  precision    recall  f1-score   support\n",
      "\n",
      "           0       0.83      0.63      0.72       272\n",
      "           1       0.00      0.00      0.00         0\n",
      "           2       0.02      0.20      0.04        10\n",
      "           3       0.00      0.00      0.00         0\n",
      "           4       0.13      0.46      0.20        50\n",
      "           5       0.00      0.00      0.00         0\n",
      "           6       0.46      0.47      0.46       288\n",
      "           7       0.00      0.00      0.00         0\n",
      "           8       0.88      0.67      0.76       660\n",
      "\n",
      "    accuracy                           0.60      1280\n",
      "   macro avg       0.26      0.27      0.24      1280\n",
      "weighted avg       0.74      0.60      0.66      1280\n",
      "\n",
      "PPV:  100.0\n",
      "NPV:  0.0\n"
     ]
    },
    {
     "data": {
      "image/png": "[encoded data removed]",
      "text/plain": [
       "<Figure size 432x288 with 1 Axes>"
      ]
     },
     "metadata": {
      "needs_background": "light"
     },
     "output_type": "display_data"
    },
    {
     "name": "stdout",
     "output_type": "stream",
     "text": [
      "\n",
      "MULTINOMIALNB()\n",
      "\n",
      "classification report:                  precision    recall  f1-score   support\n",
      "\n",
      "           0       0.54      0.72      0.62       155\n",
      "           1       0.00      0.00      0.00         0\n",
      "           2       0.00      0.00      0.00         0\n",
      "           3       0.00      0.00      0.00         0\n",
      "           4       0.00      0.00      0.00         0\n",
      "           5       0.00      0.00      0.00         0\n",
      "           6       0.35      0.35      0.35       297\n",
      "           7       0.00      0.00      0.00         0\n",
      "           8       0.94      0.57      0.71       828\n",
      "\n",
      "    accuracy                           0.53      1280\n",
      "   macro avg       0.20      0.18      0.19      1280\n",
      "weighted avg       0.75      0.53      0.61      1280\n",
      "\n",
      "PPV:  100.0\n",
      "NPV:  0.0\n"
     ]
    },
    {
     "data": {
      "image/png": "[encoded data removed]",
      "text/plain": [
       "<Figure size 432x288 with 1 Axes>"
      ]
     },
     "metadata": {
      "needs_background": "light"
     },
     "output_type": "display_data"
    },
    {
     "name": "stdout",
     "output_type": "stream",
     "text": [
      "\n",
      "RANDOMFORESTCLASSIFIER()\n",
      "\n",
      "classification report:                  precision    recall  f1-score   support\n",
      "\n",
      "           0       0.83      0.63      0.72       269\n",
      "           1       0.00      0.00      0.00         0\n",
      "           2       0.03      0.27      0.06        11\n",
      "           3       0.00      0.00      0.00         0\n",
      "           4       0.09      0.71      0.16        24\n",
      "           5       0.00      0.00      0.00         0\n",
      "           6       0.39      0.45      0.42       251\n",
      "           7       0.00      0.00      0.00         0\n",
      "           8       0.90      0.62      0.74       725\n",
      "\n",
      "    accuracy                           0.59      1280\n",
      "   macro avg       0.25      0.30      0.23      1280\n",
      "weighted avg       0.76      0.59      0.65      1280\n",
      "\n",
      "PPV:  100.0\n",
      "NPV:  0.0\n"
     ]
    },
    {
     "data": {
      "image/png": "[encoded data removed]",
      "text/plain": [
       "<Figure size 432x288 with 1 Axes>"
      ]
     },
     "metadata": {
      "needs_background": "light"
     },
     "output_type": "display_data"
    },
    {
     "name": "stdout",
     "output_type": "stream",
     "text": [
      "\n",
      "XGBCLASSIFIER(BASE_SCORE=NONE, BOOSTER=NONE, COLSAMPLE_BYLEVEL=NONE,\n",
      "              COLSAMPLE_BYNODE=NONE, COLSAMPLE_BYTREE=NONE, GAMMA=NONE,\n",
      "              GPU_ID=NONE, IMPORTANCE_TYPE='GAIN', INTERACTION_CONSTRAINTS=NONE,\n",
      "              LEARNING_RATE=NONE, MAX_DELTA_STEP=NONE, MAX_DEPTH=NONE,\n",
      "              MIN_CHILD_WEIGHT=NONE, MISSING=NAN, MONOTONE_CONSTRAINTS=NONE,\n",
      "              N_ESTIMATORS=100, N_JOBS=NONE, NUM_PARALLEL_TREE=NONE,\n",
      "              RANDOM_STATE=NONE, REG_ALPHA=NONE, REG_LAMBDA=NONE,\n",
      "              SCALE_POS_WEIGHT=NONE, SUBSAMPLE=NONE, TREE_METHOD=NONE,\n",
      "              VALIDATE_PARAMETERS=NONE, VERBOSITY=NONE)\n",
      "\n",
      "[18:01:12] WARNING: C:/Users/Administrator/workspace/xgboost-win64_release_1.3.0/src/learner.cc:1061: Starting in XGBoost 1.3.0, the default evaluation metric used with the objective 'multi:softprob' was changed from 'merror' to 'mlogloss'. Explicitly set eval_metric if you'd like to restore the old behavior.\n",
      "classification report:                  precision    recall  f1-score   support\n",
      "\n",
      "           0       0.74      0.64      0.69       239\n",
      "           1       0.00      0.00      0.00         0\n",
      "           2       0.04      0.13      0.07        30\n",
      "           3       0.00      0.00      0.00         0\n",
      "           4       0.22      0.45      0.30        88\n",
      "           5       0.00      0.00      0.00         1\n",
      "           6       0.46      0.43      0.45       317\n",
      "           7       0.00      0.00      0.00         0\n",
      "           8       0.82      0.68      0.74       605\n",
      "\n",
      "    accuracy                           0.58      1280\n",
      "   macro avg       0.25      0.26      0.25      1280\n",
      "weighted avg       0.66      0.58      0.61      1280\n",
      "\n",
      "PPV:  100.0\n",
      "NPV:  0.0\n"
     ]
    },
    {
     "data": {
      "image/png": "[encoded data removed]",
      "text/plain": [
       "<Figure size 432x288 with 1 Axes>"
      ]
     },
     "metadata": {
      "needs_background": "light"
     },
     "output_type": "display_data"
    },
    {
     "name": "stdout",
     "output_type": "stream",
     "text": [
      "\n"
     ]
    },
    {
     "data": {
      "text/html": [
       "<div>\n",
       "<style scoped>\n",
       "    .dataframe tbody tr th:only-of-type {\n",
       "        vertical-align: middle;\n",
       "    }\n",
       "\n",
       "    .dataframe tbody tr th {\n",
       "        vertical-align: top;\n",
       "    }\n",
       "\n",
       "    .dataframe thead th {\n",
       "        text-align: right;\n",
       "    }\n",
       "</style>\n",
       "<table border=\"1\" class=\"dataframe\">\n",
       "  <thead>\n",
       "    <tr style=\"text-align: right;\">\n",
       "      <th></th>\n",
       "      <th>Model_name</th>\n",
       "      <th>Model</th>\n",
       "      <th>AUC Score</th>\n",
       "      <th>Accuracy Score</th>\n",
       "      <th>Kappa Score</th>\n",
       "      <th>Precision Score</th>\n",
       "      <th>Recall Score</th>\n",
       "      <th>accuracy_score</th>\n",
       "      <th>confusion matrix</th>\n",
       "      <th>f1-score</th>\n",
       "    </tr>\n",
       "  </thead>\n",
       "  <tbody>\n",
       "    <tr>\n",
       "      <th>0</th>\n",
       "      <td>base</td>\n",
       "      <td>LogisticRegression(multi_class='ovr')</td>\n",
       "      <td>0.859758</td>\n",
       "      <td>0.601562</td>\n",
       "      <td>0.436558</td>\n",
       "      <td>0.547408</td>\n",
       "      <td>0.601562</td>\n",
       "      <td>0.601562</td>\n",
       "      <td>[[172, 1, 44, 1, 39, 0, 11, 0, 4], [0, 0, 0, 0...</td>\n",
       "      <td>0.547774</td>\n",
       "    </tr>\n",
       "    <tr>\n",
       "      <th>1</th>\n",
       "      <td>base</td>\n",
       "      <td>MultinomialNB()</td>\n",
       "      <td>0.818258</td>\n",
       "      <td>0.533594</td>\n",
       "      <td>0.309251</td>\n",
       "      <td>0.416022</td>\n",
       "      <td>0.533594</td>\n",
       "      <td>0.533594</td>\n",
       "      <td>[[112, 1, 18, 1, 18, 0, 4, 0, 1], [0, 0, 0, 0,...</td>\n",
       "      <td>0.454761</td>\n",
       "    </tr>\n",
       "    <tr>\n",
       "      <th>2</th>\n",
       "      <td>base</td>\n",
       "      <td>RandomForestClassifier()</td>\n",
       "      <td>0.839214</td>\n",
       "      <td>0.589063</td>\n",
       "      <td>0.410585</td>\n",
       "      <td>0.567716</td>\n",
       "      <td>0.589063</td>\n",
       "      <td>0.589063</td>\n",
       "      <td>[[170, 1, 38, 1, 41, 1, 9, 0, 8], [0, 0, 0, 0,...</td>\n",
       "      <td>0.525241</td>\n",
       "    </tr>\n",
       "    <tr>\n",
       "      <th>3</th>\n",
       "      <td>base</td>\n",
       "      <td>XGBClassifier(base_score=0.5, booster='gbtree'...</td>\n",
       "      <td>0.839495</td>\n",
       "      <td>0.579688</td>\n",
       "      <td>0.414214</td>\n",
       "      <td>0.539141</td>\n",
       "      <td>0.579688</td>\n",
       "      <td>0.579688</td>\n",
       "      <td>[[153, 1, 43, 0, 26, 1, 9, 0, 6], [0, 0, 0, 0,...</td>\n",
       "      <td>0.548481</td>\n",
       "    </tr>\n",
       "  </tbody>\n",
       "</table>\n",
       "</div>"
      ],
      "text/plain": [
       "  Model_name                                              Model  AUC Score  \\\n",
       "0       base              LogisticRegression(multi_class='ovr')   0.859758   \n",
       "1       base                                    MultinomialNB()   0.818258   \n",
       "2       base                           RandomForestClassifier()   0.839214   \n",
       "3       base  XGBClassifier(base_score=0.5, booster='gbtree'...   0.839495   \n",
       "\n",
       "   Accuracy Score  Kappa Score  Precision Score  Recall Score  accuracy_score  \\\n",
       "0        0.601562     0.436558         0.547408      0.601562        0.601562   \n",
       "1        0.533594     0.309251         0.416022      0.533594        0.533594   \n",
       "2        0.589063     0.410585         0.567716      0.589063        0.589063   \n",
       "3        0.579688     0.414214         0.539141      0.579688        0.579688   \n",
       "\n",
       "                                    confusion matrix  f1-score  \n",
       "0  [[172, 1, 44, 1, 39, 0, 11, 0, 4], [0, 0, 0, 0...  0.547774  \n",
       "1  [[112, 1, 18, 1, 18, 0, 4, 0, 1], [0, 0, 0, 0,...  0.454761  \n",
       "2  [[170, 1, 38, 1, 41, 1, 9, 0, 8], [0, 0, 0, 0,...  0.525241  \n",
       "3  [[153, 1, 43, 0, 26, 1, 9, 0, 6], [0, 0, 0, 0,...  0.548481  "
      ]
     },
     "execution_count": 73,
     "metadata": {},
     "output_type": "execute_result"
    }
   ],
   "source": [
    "# base model with imbalanced data\n",
    "func('base')"
   ]
  },
  {
   "cell_type": "code",
   "execution_count": 74,
   "metadata": {},
   "outputs": [
    {
     "data": {
      "text/html": [
       "<div>\n",
       "<style scoped>\n",
       "    .dataframe tbody tr th:only-of-type {\n",
       "        vertical-align: middle;\n",
       "    }\n",
       "\n",
       "    .dataframe tbody tr th {\n",
       "        vertical-align: top;\n",
       "    }\n",
       "\n",
       "    .dataframe thead th {\n",
       "        text-align: right;\n",
       "    }\n",
       "</style>\n",
       "<table border=\"1\" class=\"dataframe\">\n",
       "  <thead>\n",
       "    <tr style=\"text-align: right;\">\n",
       "      <th></th>\n",
       "      <th>Model_name</th>\n",
       "      <th>Model</th>\n",
       "      <th>AUC Score</th>\n",
       "      <th>Accuracy Score</th>\n",
       "      <th>Kappa Score</th>\n",
       "      <th>Precision Score</th>\n",
       "      <th>Recall Score</th>\n",
       "      <th>accuracy_score</th>\n",
       "      <th>confusion matrix</th>\n",
       "      <th>f1-score</th>\n",
       "    </tr>\n",
       "  </thead>\n",
       "  <tbody>\n",
       "    <tr>\n",
       "      <th>0</th>\n",
       "      <td>base</td>\n",
       "      <td>LogisticRegression(multi_class='ovr')</td>\n",
       "      <td>0.859758</td>\n",
       "      <td>0.601562</td>\n",
       "      <td>0.436558</td>\n",
       "      <td>0.547408</td>\n",
       "      <td>0.601562</td>\n",
       "      <td>0.601562</td>\n",
       "      <td>[[172, 1, 44, 1, 39, 0, 11, 0, 4], [0, 0, 0, 0...</td>\n",
       "      <td>0.547774</td>\n",
       "    </tr>\n",
       "    <tr>\n",
       "      <th>1</th>\n",
       "      <td>base</td>\n",
       "      <td>MultinomialNB()</td>\n",
       "      <td>0.818258</td>\n",
       "      <td>0.533594</td>\n",
       "      <td>0.309251</td>\n",
       "      <td>0.416022</td>\n",
       "      <td>0.533594</td>\n",
       "      <td>0.533594</td>\n",
       "      <td>[[112, 1, 18, 1, 18, 0, 4, 0, 1], [0, 0, 0, 0,...</td>\n",
       "      <td>0.454761</td>\n",
       "    </tr>\n",
       "    <tr>\n",
       "      <th>2</th>\n",
       "      <td>base</td>\n",
       "      <td>RandomForestClassifier()</td>\n",
       "      <td>0.839214</td>\n",
       "      <td>0.589063</td>\n",
       "      <td>0.410585</td>\n",
       "      <td>0.567716</td>\n",
       "      <td>0.589063</td>\n",
       "      <td>0.589063</td>\n",
       "      <td>[[170, 1, 38, 1, 41, 1, 9, 0, 8], [0, 0, 0, 0,...</td>\n",
       "      <td>0.525241</td>\n",
       "    </tr>\n",
       "    <tr>\n",
       "      <th>3</th>\n",
       "      <td>base</td>\n",
       "      <td>XGBClassifier(base_score=0.5, booster='gbtree'...</td>\n",
       "      <td>0.839495</td>\n",
       "      <td>0.579688</td>\n",
       "      <td>0.414214</td>\n",
       "      <td>0.539141</td>\n",
       "      <td>0.579688</td>\n",
       "      <td>0.579688</td>\n",
       "      <td>[[153, 1, 43, 0, 26, 1, 9, 0, 6], [0, 0, 0, 0,...</td>\n",
       "      <td>0.548481</td>\n",
       "    </tr>\n",
       "  </tbody>\n",
       "</table>\n",
       "</div>"
      ],
      "text/plain": [
       "  Model_name                                              Model  AUC Score  \\\n",
       "0       base              LogisticRegression(multi_class='ovr')   0.859758   \n",
       "1       base                                    MultinomialNB()   0.818258   \n",
       "2       base                           RandomForestClassifier()   0.839214   \n",
       "3       base  XGBClassifier(base_score=0.5, booster='gbtree'...   0.839495   \n",
       "\n",
       "   Accuracy Score  Kappa Score  Precision Score  Recall Score  accuracy_score  \\\n",
       "0        0.601562     0.436558         0.547408      0.601562        0.601562   \n",
       "1        0.533594     0.309251         0.416022      0.533594        0.533594   \n",
       "2        0.589063     0.410585         0.567716      0.589063        0.589063   \n",
       "3        0.579688     0.414214         0.539141      0.579688        0.579688   \n",
       "\n",
       "                                    confusion matrix  f1-score  \n",
       "0  [[172, 1, 44, 1, 39, 0, 11, 0, 4], [0, 0, 0, 0...  0.547774  \n",
       "1  [[112, 1, 18, 1, 18, 0, 4, 0, 1], [0, 0, 0, 0,...  0.454761  \n",
       "2  [[170, 1, 38, 1, 41, 1, 9, 0, 8], [0, 0, 0, 0,...  0.525241  \n",
       "3  [[153, 1, 43, 0, 26, 1, 9, 0, 6], [0, 0, 0, 0,...  0.548481  "
      ]
     },
     "execution_count": 74,
     "metadata": {},
     "output_type": "execute_result"
    }
   ],
   "source": [
    "# comparing the model accuracy with imbalanced dataset\n",
    "result_tab"
   ]
  },
  {
   "cell_type": "markdown",
   "metadata": {},
   "source": [
    "## Comment:\n",
    "+ we can conclude that LogisticRegression gave better accuracy compared to others."
   ]
  },
  {
   "cell_type": "markdown",
   "metadata": {},
   "source": [
    "<a id='oversampler'></a>\n",
    "\n",
    "# 9.HANDLING IMBALANCED DATASET USING OVERSAMPLING TECHNIQUE"
   ]
  },
  {
   "cell_type": "markdown",
   "metadata": {},
   "source": [
    "#### checking the shape of input and output variables before using oversampling technique"
   ]
  },
  {
   "cell_type": "code",
   "execution_count": 75,
   "metadata": {},
   "outputs": [
    {
     "data": {
      "text/plain": [
       "(6400, 11531)"
      ]
     },
     "execution_count": 75,
     "metadata": {},
     "output_type": "execute_result"
    }
   ],
   "source": [
    "X.shape"
   ]
  },
  {
   "cell_type": "code",
   "execution_count": 76,
   "metadata": {},
   "outputs": [
    {
     "data": {
      "text/plain": [
       "(6400,)"
      ]
     },
     "execution_count": 76,
     "metadata": {},
     "output_type": "execute_result"
    }
   ],
   "source": [
    "y.shape"
   ]
  },
  {
   "cell_type": "code",
   "execution_count": 78,
   "metadata": {},
   "outputs": [],
   "source": [
    "# Using Random Over sampler to make the dataset balanced.\n",
    "from imblearn.over_sampling import RandomOverSampler\n",
    "fit_ov = RandomOverSampler()\n",
    "x_re, y_re = fit_ov.fit_resample(X,y)"
   ]
  },
  {
   "cell_type": "markdown",
   "metadata": {},
   "source": [
    "#### checking the shape of input and output variables after using oversampling technique"
   ]
  },
  {
   "cell_type": "code",
   "execution_count": 79,
   "metadata": {},
   "outputs": [
    {
     "data": {
      "text/plain": [
       "(22347, 11531)"
      ]
     },
     "execution_count": 79,
     "metadata": {},
     "output_type": "execute_result"
    }
   ],
   "source": [
    "x_re.shape"
   ]
  },
  {
   "cell_type": "code",
   "execution_count": 80,
   "metadata": {},
   "outputs": [
    {
     "data": {
      "text/plain": [
       "(22347,)"
      ]
     },
     "execution_count": 80,
     "metadata": {},
     "output_type": "execute_result"
    }
   ],
   "source": [
    "y_re.shape\n"
   ]
  },
  {
   "cell_type": "code",
   "execution_count": 81,
   "metadata": {},
   "outputs": [
    {
     "data": {
      "application/javascript": [
       "\n",
       "        if (window._pyforest_update_imports_cell) { window._pyforest_update_imports_cell('import pandas as pd\\nimport seaborn as sns'); }\n",
       "    "
      ],
      "text/plain": [
       "<IPython.core.display.Javascript object>"
      ]
     },
     "metadata": {},
     "output_type": "display_data"
    },
    {
     "data": {
      "text/plain": [
       "<AxesSubplot:ylabel='count'>"
      ]
     },
     "execution_count": 81,
     "metadata": {},
     "output_type": "execute_result"
    },
    {
     "data": {
      "image/png": "[encoded data removed]",
      "text/plain": [
       "<Figure size 432x288 with 1 Axes>"
      ]
     },
     "metadata": {
      "needs_background": "light"
     },
     "output_type": "display_data"
    }
   ],
   "source": [
    "# visualizing target variable after used oversampling technique\n",
    "sns.countplot(y_re)"
   ]
  },
  {
   "cell_type": "markdown",
   "metadata": {},
   "source": [
    "### Comment:\n",
    "+ we can see that every classes having same number of samples.1"
   ]
  },
  {
   "cell_type": "markdown",
   "metadata": {},
   "source": [
    "<a id='over_rf'></a>\n",
    "# 10.MODEL BUILDING WITH BALANCED DATASET"
   ]
  },
  {
   "cell_type": "code",
   "execution_count": 82,
   "metadata": {},
   "outputs": [],
   "source": [
    "# Splitting data into train and test\n",
    "from sklearn.model_selection import train_test_split\n",
    "x_train,x_test,y_train,y_test=train_test_split(x_re,y_re,test_size=0.2,random_state=1)"
   ]
  },
  {
   "cell_type": "code",
   "execution_count": 83,
   "metadata": {
    "scrolled": false
   },
   "outputs": [
    {
     "name": "stdout",
     "output_type": "stream",
     "text": [
      "LOGISTICREGRESSION(MULTI_CLASS='OVR')\n",
      "\n",
      "classification report:                  precision    recall  f1-score   support\n",
      "\n",
      "           0       0.86      0.85      0.85       515\n",
      "           1       1.00      1.00      1.00       489\n",
      "           2       0.87      0.79      0.82       537\n",
      "           3       1.00      1.00      1.00       491\n",
      "           4       0.73      0.79      0.76       485\n",
      "           5       1.00      0.98      0.99       494\n",
      "           6       0.64      0.67      0.66       455\n",
      "           7       1.00      0.98      0.99       507\n",
      "           8       0.76      0.77      0.77       497\n",
      "\n",
      "    accuracy                           0.87      4470\n",
      "   macro avg       0.87      0.87      0.87      4470\n",
      "weighted avg       0.88      0.87      0.87      4470\n",
      "\n",
      "PPV:  100.0\n",
      "NPV:  100.0\n"
     ]
    },
    {
     "data": {
      "image/png": "[encoded data removed]",
      "text/plain": [
       "<Figure size 432x288 with 1 Axes>"
      ]
     },
     "metadata": {
      "needs_background": "light"
     },
     "output_type": "display_data"
    },
    {
     "name": "stdout",
     "output_type": "stream",
     "text": [
      "\n",
      "MULTINOMIALNB()\n",
      "\n",
      "classification report:                  precision    recall  f1-score   support\n",
      "\n",
      "           0       0.78      0.87      0.82       460\n",
      "           1       1.00      0.96      0.98       510\n",
      "           2       0.87      0.74      0.80       575\n",
      "           3       1.00      0.97      0.98       508\n",
      "           4       0.66      0.83      0.74       421\n",
      "           5       1.00      0.95      0.97       511\n",
      "           6       0.79      0.61      0.69       614\n",
      "           7       1.00      0.95      0.97       526\n",
      "           8       0.59      0.86      0.70       345\n",
      "\n",
      "    accuracy                           0.85      4470\n",
      "   macro avg       0.85      0.86      0.85      4470\n",
      "weighted avg       0.87      0.85      0.85      4470\n",
      "\n",
      "PPV:  99.0074441687345\n",
      "NPV:  100.0\n"
     ]
    },
    {
     "data": {
      "image/png": "[encoded data removed]",
      "text/plain": [
       "<Figure size 432x288 with 1 Axes>"
      ]
     },
     "metadata": {
      "needs_background": "light"
     },
     "output_type": "display_data"
    },
    {
     "name": "stdout",
     "output_type": "stream",
     "text": [
      "\n",
      "RANDOMFORESTCLASSIFIER()\n",
      "\n",
      "classification report:                  precision    recall  f1-score   support\n",
      "\n",
      "           0       0.95      0.94      0.94       520\n",
      "           1       1.00      1.00      1.00       489\n",
      "           2       0.97      0.96      0.97       489\n",
      "           3       1.00      1.00      1.00       491\n",
      "           4       0.89      0.96      0.92       495\n",
      "           5       1.00      1.00      1.00       486\n",
      "           6       0.76      0.81      0.79       444\n",
      "           7       1.00      1.00      1.00       498\n",
      "           8       0.85      0.77      0.80       558\n",
      "\n",
      "    accuracy                           0.94      4470\n",
      "   macro avg       0.94      0.94      0.94      4470\n",
      "weighted avg       0.94      0.94      0.94      4470\n",
      "\n",
      "PPV:  100.0\n",
      "NPV:  100.0\n"
     ]
    },
    {
     "data": {
      "image/png": "[encoded data removed]",
      "text/plain": [
       "<Figure size 432x288 with 1 Axes>"
      ]
     },
     "metadata": {
      "needs_background": "light"
     },
     "output_type": "display_data"
    },
    {
     "name": "stdout",
     "output_type": "stream",
     "text": [
      "\n",
      "XGBCLASSIFIER(BASE_SCORE=0.5, BOOSTER='GBTREE', COLSAMPLE_BYLEVEL=1,\n",
      "              COLSAMPLE_BYNODE=1, COLSAMPLE_BYTREE=1, GAMMA=0, GPU_ID=-1,\n",
      "              IMPORTANCE_TYPE='GAIN', INTERACTION_CONSTRAINTS='',\n",
      "              LEARNING_RATE=0.300000012, MAX_DELTA_STEP=0, MAX_DEPTH=6,\n",
      "              MIN_CHILD_WEIGHT=1, MISSING=NAN, MONOTONE_CONSTRAINTS='()',\n",
      "              N_ESTIMATORS=100, N_JOBS=4, NUM_PARALLEL_TREE=1,\n",
      "              OBJECTIVE='MULTI:SOFTPROB', RANDOM_STATE=0, REG_ALPHA=0,\n",
      "              REG_LAMBDA=1, SCALE_POS_WEIGHT=NONE, SUBSAMPLE=1,\n",
      "              TREE_METHOD='EXACT', VALIDATE_PARAMETERS=1, VERBOSITY=NONE)\n",
      "\n",
      "[18:02:17] WARNING: C:/Users/Administrator/workspace/xgboost-win64_release_1.3.0/src/learner.cc:1061: Starting in XGBoost 1.3.0, the default evaluation metric used with the objective 'multi:softprob' was changed from 'merror' to 'mlogloss'. Explicitly set eval_metric if you'd like to restore the old behavior.\n",
      "classification report:                  precision    recall  f1-score   support\n",
      "\n",
      "           0       0.91      0.87      0.89       537\n",
      "           1       1.00      1.00      1.00       489\n",
      "           2       0.95      0.91      0.93       507\n",
      "           3       1.00      1.00      1.00       492\n",
      "           4       0.82      0.88      0.85       495\n",
      "           5       1.00      1.00      1.00       488\n",
      "           6       0.68      0.73      0.71       443\n",
      "           7       1.00      1.00      1.00       498\n",
      "           8       0.76      0.74      0.75       521\n",
      "\n",
      "    accuracy                           0.90      4470\n",
      "   macro avg       0.90      0.90      0.90      4470\n",
      "weighted avg       0.91      0.90      0.90      4470\n",
      "\n",
      "PPV:  100.0\n",
      "NPV:  100.0\n"
     ]
    },
    {
     "data": {
      "image/png": "[encoded data removed]",
      "text/plain": [
       "<Figure size 432x288 with 1 Axes>"
      ]
     },
     "metadata": {
      "needs_background": "light"
     },
     "output_type": "display_data"
    },
    {
     "name": "stdout",
     "output_type": "stream",
     "text": [
      "\n"
     ]
    },
    {
     "data": {
      "text/html": [
       "<div>\n",
       "<style scoped>\n",
       "    .dataframe tbody tr th:only-of-type {\n",
       "        vertical-align: middle;\n",
       "    }\n",
       "\n",
       "    .dataframe tbody tr th {\n",
       "        vertical-align: top;\n",
       "    }\n",
       "\n",
       "    .dataframe thead th {\n",
       "        text-align: right;\n",
       "    }\n",
       "</style>\n",
       "<table border=\"1\" class=\"dataframe\">\n",
       "  <thead>\n",
       "    <tr style=\"text-align: right;\">\n",
       "      <th></th>\n",
       "      <th>Model_name</th>\n",
       "      <th>Model</th>\n",
       "      <th>AUC Score</th>\n",
       "      <th>Accuracy Score</th>\n",
       "      <th>Kappa Score</th>\n",
       "      <th>Precision Score</th>\n",
       "      <th>Recall Score</th>\n",
       "      <th>accuracy_score</th>\n",
       "      <th>confusion matrix</th>\n",
       "      <th>f1-score</th>\n",
       "    </tr>\n",
       "  </thead>\n",
       "  <tbody>\n",
       "    <tr>\n",
       "      <th>0</th>\n",
       "      <td>base</td>\n",
       "      <td>LogisticRegression(multi_class='ovr')</td>\n",
       "      <td>0.859758</td>\n",
       "      <td>0.601562</td>\n",
       "      <td>0.436558</td>\n",
       "      <td>0.547408</td>\n",
       "      <td>0.601562</td>\n",
       "      <td>0.601562</td>\n",
       "      <td>[[172, 1, 44, 1, 39, 0, 11, 0, 4], [0, 0, 0, 0...</td>\n",
       "      <td>0.547774</td>\n",
       "    </tr>\n",
       "    <tr>\n",
       "      <th>1</th>\n",
       "      <td>base</td>\n",
       "      <td>MultinomialNB()</td>\n",
       "      <td>0.818258</td>\n",
       "      <td>0.533594</td>\n",
       "      <td>0.309251</td>\n",
       "      <td>0.416022</td>\n",
       "      <td>0.533594</td>\n",
       "      <td>0.533594</td>\n",
       "      <td>[[112, 1, 18, 1, 18, 0, 4, 0, 1], [0, 0, 0, 0,...</td>\n",
       "      <td>0.454761</td>\n",
       "    </tr>\n",
       "    <tr>\n",
       "      <th>2</th>\n",
       "      <td>base</td>\n",
       "      <td>RandomForestClassifier()</td>\n",
       "      <td>0.839214</td>\n",
       "      <td>0.589063</td>\n",
       "      <td>0.410585</td>\n",
       "      <td>0.567716</td>\n",
       "      <td>0.589063</td>\n",
       "      <td>0.589063</td>\n",
       "      <td>[[170, 1, 38, 1, 41, 1, 9, 0, 8], [0, 0, 0, 0,...</td>\n",
       "      <td>0.525241</td>\n",
       "    </tr>\n",
       "    <tr>\n",
       "      <th>3</th>\n",
       "      <td>base</td>\n",
       "      <td>XGBClassifier(base_score=0.5, booster='gbtree'...</td>\n",
       "      <td>0.839495</td>\n",
       "      <td>0.579688</td>\n",
       "      <td>0.414214</td>\n",
       "      <td>0.539141</td>\n",
       "      <td>0.579688</td>\n",
       "      <td>0.579688</td>\n",
       "      <td>[[153, 1, 43, 0, 26, 1, 9, 0, 6], [0, 0, 0, 0,...</td>\n",
       "      <td>0.548481</td>\n",
       "    </tr>\n",
       "    <tr>\n",
       "      <th>4</th>\n",
       "      <td>oversampli</td>\n",
       "      <td>LogisticRegression(multi_class='ovr')</td>\n",
       "      <td>0.982002</td>\n",
       "      <td>0.872036</td>\n",
       "      <td>0.856035</td>\n",
       "      <td>0.870814</td>\n",
       "      <td>0.872036</td>\n",
       "      <td>0.872036</td>\n",
       "      <td>[[438, 0, 26, 0, 35, 0, 9, 0, 7], [0, 489, 0, ...</td>\n",
       "      <td>0.870984</td>\n",
       "    </tr>\n",
       "    <tr>\n",
       "      <th>5</th>\n",
       "      <td>oversampli</td>\n",
       "      <td>MultinomialNB()</td>\n",
       "      <td>0.980655</td>\n",
       "      <td>0.852125</td>\n",
       "      <td>0.833717</td>\n",
       "      <td>0.859988</td>\n",
       "      <td>0.852125</td>\n",
       "      <td>0.852125</td>\n",
       "      <td>[[399, 0, 20, 0, 28, 0, 6, 0, 7], [4, 489, 3, ...</td>\n",
       "      <td>0.849656</td>\n",
       "    </tr>\n",
       "    <tr>\n",
       "      <th>6</th>\n",
       "      <td>oversampli</td>\n",
       "      <td>RandomForestClassifier()</td>\n",
       "      <td>0.994544</td>\n",
       "      <td>0.935794</td>\n",
       "      <td>0.927759</td>\n",
       "      <td>0.937161</td>\n",
       "      <td>0.935794</td>\n",
       "      <td>0.935794</td>\n",
       "      <td>[[487, 0, 5, 0, 14, 0, 5, 0, 9], [0, 489, 0, 0...</td>\n",
       "      <td>0.936032</td>\n",
       "    </tr>\n",
       "    <tr>\n",
       "      <th>7</th>\n",
       "      <td>oversampli</td>\n",
       "      <td>XGBClassifier(base_score=0.5, booster='gbtree'...</td>\n",
       "      <td>0.989864</td>\n",
       "      <td>0.903579</td>\n",
       "      <td>0.891514</td>\n",
       "      <td>0.902951</td>\n",
       "      <td>0.903579</td>\n",
       "      <td>0.903579</td>\n",
       "      <td>[[467, 0, 12, 0, 30, 0, 11, 0, 17], [0, 489, 0...</td>\n",
       "      <td>0.902942</td>\n",
       "    </tr>\n",
       "  </tbody>\n",
       "</table>\n",
       "</div>"
      ],
      "text/plain": [
       "   Model_name                                              Model  AUC Score  \\\n",
       "0        base              LogisticRegression(multi_class='ovr')   0.859758   \n",
       "1        base                                    MultinomialNB()   0.818258   \n",
       "2        base                           RandomForestClassifier()   0.839214   \n",
       "3        base  XGBClassifier(base_score=0.5, booster='gbtree'...   0.839495   \n",
       "4  oversampli              LogisticRegression(multi_class='ovr')   0.982002   \n",
       "5  oversampli                                    MultinomialNB()   0.980655   \n",
       "6  oversampli                           RandomForestClassifier()   0.994544   \n",
       "7  oversampli  XGBClassifier(base_score=0.5, booster='gbtree'...   0.989864   \n",
       "\n",
       "   Accuracy Score  Kappa Score  Precision Score  Recall Score  accuracy_score  \\\n",
       "0        0.601562     0.436558         0.547408      0.601562        0.601562   \n",
       "1        0.533594     0.309251         0.416022      0.533594        0.533594   \n",
       "2        0.589063     0.410585         0.567716      0.589063        0.589063   \n",
       "3        0.579688     0.414214         0.539141      0.579688        0.579688   \n",
       "4        0.872036     0.856035         0.870814      0.872036        0.872036   \n",
       "5        0.852125     0.833717         0.859988      0.852125        0.852125   \n",
       "6        0.935794     0.927759         0.937161      0.935794        0.935794   \n",
       "7        0.903579     0.891514         0.902951      0.903579        0.903579   \n",
       "\n",
       "                                    confusion matrix  f1-score  \n",
       "0  [[172, 1, 44, 1, 39, 0, 11, 0, 4], [0, 0, 0, 0...  0.547774  \n",
       "1  [[112, 1, 18, 1, 18, 0, 4, 0, 1], [0, 0, 0, 0,...  0.454761  \n",
       "2  [[170, 1, 38, 1, 41, 1, 9, 0, 8], [0, 0, 0, 0,...  0.525241  \n",
       "3  [[153, 1, 43, 0, 26, 1, 9, 0, 6], [0, 0, 0, 0,...  0.548481  \n",
       "4  [[438, 0, 26, 0, 35, 0, 9, 0, 7], [0, 489, 0, ...  0.870984  \n",
       "5  [[399, 0, 20, 0, 28, 0, 6, 0, 7], [4, 489, 3, ...  0.849656  \n",
       "6  [[487, 0, 5, 0, 14, 0, 5, 0, 9], [0, 489, 0, 0...  0.936032  \n",
       "7  [[467, 0, 12, 0, 30, 0, 11, 0, 17], [0, 489, 0...  0.902942  "
      ]
     },
     "execution_count": 83,
     "metadata": {},
     "output_type": "execute_result"
    }
   ],
   "source": [
    "func('oversampling')"
   ]
  },
  {
   "cell_type": "code",
   "execution_count": 84,
   "metadata": {},
   "outputs": [
    {
     "data": {
      "text/html": [
       "<div>\n",
       "<style scoped>\n",
       "    .dataframe tbody tr th:only-of-type {\n",
       "        vertical-align: middle;\n",
       "    }\n",
       "\n",
       "    .dataframe tbody tr th {\n",
       "        vertical-align: top;\n",
       "    }\n",
       "\n",
       "    .dataframe thead th {\n",
       "        text-align: right;\n",
       "    }\n",
       "</style>\n",
       "<table border=\"1\" class=\"dataframe\">\n",
       "  <thead>\n",
       "    <tr style=\"text-align: right;\">\n",
       "      <th></th>\n",
       "      <th>Model_name</th>\n",
       "      <th>Model</th>\n",
       "      <th>AUC Score</th>\n",
       "      <th>Accuracy Score</th>\n",
       "      <th>Kappa Score</th>\n",
       "      <th>Precision Score</th>\n",
       "      <th>Recall Score</th>\n",
       "      <th>accuracy_score</th>\n",
       "      <th>confusion matrix</th>\n",
       "      <th>f1-score</th>\n",
       "    </tr>\n",
       "  </thead>\n",
       "  <tbody>\n",
       "    <tr>\n",
       "      <th>0</th>\n",
       "      <td>base</td>\n",
       "      <td>LogisticRegression(multi_class='ovr')</td>\n",
       "      <td>0.859758</td>\n",
       "      <td>0.601562</td>\n",
       "      <td>0.436558</td>\n",
       "      <td>0.547408</td>\n",
       "      <td>0.601562</td>\n",
       "      <td>0.601562</td>\n",
       "      <td>[[172, 1, 44, 1, 39, 0, 11, 0, 4], [0, 0, 0, 0...</td>\n",
       "      <td>0.547774</td>\n",
       "    </tr>\n",
       "    <tr>\n",
       "      <th>1</th>\n",
       "      <td>base</td>\n",
       "      <td>MultinomialNB()</td>\n",
       "      <td>0.818258</td>\n",
       "      <td>0.533594</td>\n",
       "      <td>0.309251</td>\n",
       "      <td>0.416022</td>\n",
       "      <td>0.533594</td>\n",
       "      <td>0.533594</td>\n",
       "      <td>[[112, 1, 18, 1, 18, 0, 4, 0, 1], [0, 0, 0, 0,...</td>\n",
       "      <td>0.454761</td>\n",
       "    </tr>\n",
       "    <tr>\n",
       "      <th>2</th>\n",
       "      <td>base</td>\n",
       "      <td>RandomForestClassifier()</td>\n",
       "      <td>0.839214</td>\n",
       "      <td>0.589063</td>\n",
       "      <td>0.410585</td>\n",
       "      <td>0.567716</td>\n",
       "      <td>0.589063</td>\n",
       "      <td>0.589063</td>\n",
       "      <td>[[170, 1, 38, 1, 41, 1, 9, 0, 8], [0, 0, 0, 0,...</td>\n",
       "      <td>0.525241</td>\n",
       "    </tr>\n",
       "    <tr>\n",
       "      <th>3</th>\n",
       "      <td>base</td>\n",
       "      <td>XGBClassifier(base_score=0.5, booster='gbtree'...</td>\n",
       "      <td>0.839495</td>\n",
       "      <td>0.579688</td>\n",
       "      <td>0.414214</td>\n",
       "      <td>0.539141</td>\n",
       "      <td>0.579688</td>\n",
       "      <td>0.579688</td>\n",
       "      <td>[[153, 1, 43, 0, 26, 1, 9, 0, 6], [0, 0, 0, 0,...</td>\n",
       "      <td>0.548481</td>\n",
       "    </tr>\n",
       "    <tr>\n",
       "      <th>4</th>\n",
       "      <td>oversampli</td>\n",
       "      <td>LogisticRegression(multi_class='ovr')</td>\n",
       "      <td>0.982002</td>\n",
       "      <td>0.872036</td>\n",
       "      <td>0.856035</td>\n",
       "      <td>0.870814</td>\n",
       "      <td>0.872036</td>\n",
       "      <td>0.872036</td>\n",
       "      <td>[[438, 0, 26, 0, 35, 0, 9, 0, 7], [0, 489, 0, ...</td>\n",
       "      <td>0.870984</td>\n",
       "    </tr>\n",
       "    <tr>\n",
       "      <th>5</th>\n",
       "      <td>oversampli</td>\n",
       "      <td>MultinomialNB()</td>\n",
       "      <td>0.980655</td>\n",
       "      <td>0.852125</td>\n",
       "      <td>0.833717</td>\n",
       "      <td>0.859988</td>\n",
       "      <td>0.852125</td>\n",
       "      <td>0.852125</td>\n",
       "      <td>[[399, 0, 20, 0, 28, 0, 6, 0, 7], [4, 489, 3, ...</td>\n",
       "      <td>0.849656</td>\n",
       "    </tr>\n",
       "    <tr>\n",
       "      <th>6</th>\n",
       "      <td>oversampli</td>\n",
       "      <td>RandomForestClassifier()</td>\n",
       "      <td>0.994544</td>\n",
       "      <td>0.935794</td>\n",
       "      <td>0.927759</td>\n",
       "      <td>0.937161</td>\n",
       "      <td>0.935794</td>\n",
       "      <td>0.935794</td>\n",
       "      <td>[[487, 0, 5, 0, 14, 0, 5, 0, 9], [0, 489, 0, 0...</td>\n",
       "      <td>0.936032</td>\n",
       "    </tr>\n",
       "    <tr>\n",
       "      <th>7</th>\n",
       "      <td>oversampli</td>\n",
       "      <td>XGBClassifier(base_score=0.5, booster='gbtree'...</td>\n",
       "      <td>0.989864</td>\n",
       "      <td>0.903579</td>\n",
       "      <td>0.891514</td>\n",
       "      <td>0.902951</td>\n",
       "      <td>0.903579</td>\n",
       "      <td>0.903579</td>\n",
       "      <td>[[467, 0, 12, 0, 30, 0, 11, 0, 17], [0, 489, 0...</td>\n",
       "      <td>0.902942</td>\n",
       "    </tr>\n",
       "  </tbody>\n",
       "</table>\n",
       "</div>"
      ],
      "text/plain": [
       "   Model_name                                              Model  AUC Score  \\\n",
       "0        base              LogisticRegression(multi_class='ovr')   0.859758   \n",
       "1        base                                    MultinomialNB()   0.818258   \n",
       "2        base                           RandomForestClassifier()   0.839214   \n",
       "3        base  XGBClassifier(base_score=0.5, booster='gbtree'...   0.839495   \n",
       "4  oversampli              LogisticRegression(multi_class='ovr')   0.982002   \n",
       "5  oversampli                                    MultinomialNB()   0.980655   \n",
       "6  oversampli                           RandomForestClassifier()   0.994544   \n",
       "7  oversampli  XGBClassifier(base_score=0.5, booster='gbtree'...   0.989864   \n",
       "\n",
       "   Accuracy Score  Kappa Score  Precision Score  Recall Score  accuracy_score  \\\n",
       "0        0.601562     0.436558         0.547408      0.601562        0.601562   \n",
       "1        0.533594     0.309251         0.416022      0.533594        0.533594   \n",
       "2        0.589063     0.410585         0.567716      0.589063        0.589063   \n",
       "3        0.579688     0.414214         0.539141      0.579688        0.579688   \n",
       "4        0.872036     0.856035         0.870814      0.872036        0.872036   \n",
       "5        0.852125     0.833717         0.859988      0.852125        0.852125   \n",
       "6        0.935794     0.927759         0.937161      0.935794        0.935794   \n",
       "7        0.903579     0.891514         0.902951      0.903579        0.903579   \n",
       "\n",
       "                                    confusion matrix  f1-score  \n",
       "0  [[172, 1, 44, 1, 39, 0, 11, 0, 4], [0, 0, 0, 0...  0.547774  \n",
       "1  [[112, 1, 18, 1, 18, 0, 4, 0, 1], [0, 0, 0, 0,...  0.454761  \n",
       "2  [[170, 1, 38, 1, 41, 1, 9, 0, 8], [0, 0, 0, 0,...  0.525241  \n",
       "3  [[153, 1, 43, 0, 26, 1, 9, 0, 6], [0, 0, 0, 0,...  0.548481  \n",
       "4  [[438, 0, 26, 0, 35, 0, 9, 0, 7], [0, 489, 0, ...  0.870984  \n",
       "5  [[399, 0, 20, 0, 28, 0, 6, 0, 7], [4, 489, 3, ...  0.849656  \n",
       "6  [[487, 0, 5, 0, 14, 0, 5, 0, 9], [0, 489, 0, 0...  0.936032  \n",
       "7  [[467, 0, 12, 0, 30, 0, 11, 0, 17], [0, 489, 0...  0.902942  "
      ]
     },
     "execution_count": 84,
     "metadata": {},
     "output_type": "execute_result"
    }
   ],
   "source": [
    "#comparing the result after oversampling\n",
    "result_tab"
   ]
  },
  {
   "cell_type": "markdown",
   "metadata": {},
   "source": [
    "## Comment:\n",
    "+ we can conclude that \"RandomForestClassifier\" gave best accuracy score and f1 score compared to other models."
   ]
  },
  {
   "cell_type": "markdown",
   "metadata": {},
   "source": [
    "<a id='test'></a>\n",
    "\n",
    "# 11.TEST"
   ]
  },
  {
   "cell_type": "code",
   "execution_count": 85,
   "metadata": {},
   "outputs": [],
   "source": [
    "# loading data\n",
    "test = pd.read_excel('Foodie_Community_Test.xlsx')"
   ]
  },
  {
   "cell_type": "code",
   "execution_count": 86,
   "metadata": {},
   "outputs": [
    {
     "data": {
      "text/html": [
       "<div>\n",
       "<style scoped>\n",
       "    .dataframe tbody tr th:only-of-type {\n",
       "        vertical-align: middle;\n",
       "    }\n",
       "\n",
       "    .dataframe tbody tr th {\n",
       "        vertical-align: top;\n",
       "    }\n",
       "\n",
       "    .dataframe thead th {\n",
       "        text-align: right;\n",
       "    }\n",
       "</style>\n",
       "<table border=\"1\" class=\"dataframe\">\n",
       "  <thead>\n",
       "    <tr style=\"text-align: right;\">\n",
       "      <th></th>\n",
       "      <th>Restaurant_Name</th>\n",
       "      <th>Reviewer_Name</th>\n",
       "      <th>Review_Text</th>\n",
       "      <th>Reviews &amp; Followers</th>\n",
       "      <th>Time</th>\n",
       "      <th>Pictures_uploaded</th>\n",
       "    </tr>\n",
       "  </thead>\n",
       "  <tbody>\n",
       "    <tr>\n",
       "      <th>0</th>\n",
       "      <td>Mustang Terrace Lounge</td>\n",
       "      <td>Sirisha Kandula</td>\n",
       "      <td>Could be one of the best place in gachibowli.\\...</td>\n",
       "      <td>1 Review , 1 Follower</td>\n",
       "      <td>2019-05-06 20:34:00</td>\n",
       "      <td>0</td>\n",
       "    </tr>\n",
       "    <tr>\n",
       "      <th>1</th>\n",
       "      <td>Shanghai Chef 2</td>\n",
       "      <td>Susmita Basu</td>\n",
       "      <td>I loved the food. Authentic Chinese and nice a...</td>\n",
       "      <td>17 Reviews , 48 Followers</td>\n",
       "      <td>2018-08-18 15:43:00</td>\n",
       "      <td>4</td>\n",
       "    </tr>\n",
       "    <tr>\n",
       "      <th>2</th>\n",
       "      <td>Eat India Company</td>\n",
       "      <td>Ananth Popuri</td>\n",
       "      <td>I love this place in Gachibowli. I have been h...</td>\n",
       "      <td>12 Reviews , 4 Followers</td>\n",
       "      <td>2019-03-09 15:37:00</td>\n",
       "      <td>0</td>\n",
       "    </tr>\n",
       "    <tr>\n",
       "      <th>3</th>\n",
       "      <td>Sardarji's Chaats &amp; More</td>\n",
       "      <td>RAHUL DEY</td>\n",
       "      <td>Too bad service, does not accept the Order mul...</td>\n",
       "      <td>5 Reviews , 999 Followers</td>\n",
       "      <td>2018-12-07 21:38:00</td>\n",
       "      <td>0</td>\n",
       "    </tr>\n",
       "    <tr>\n",
       "      <th>4</th>\n",
       "      <td>Cream Stone</td>\n",
       "      <td>Kiran</td>\n",
       "      <td>ordered nuts overloaded ice cream.fantastic ta...</td>\n",
       "      <td>11 Reviews , 1 Follower</td>\n",
       "      <td>2018-11-24 13:40:00</td>\n",
       "      <td>0</td>\n",
       "    </tr>\n",
       "  </tbody>\n",
       "</table>\n",
       "</div>"
      ],
      "text/plain": [
       "            Restaurant_Name    Reviewer_Name  \\\n",
       "0    Mustang Terrace Lounge  Sirisha Kandula   \n",
       "1           Shanghai Chef 2     Susmita Basu   \n",
       "2         Eat India Company    Ananth Popuri   \n",
       "3  Sardarji's Chaats & More        RAHUL DEY   \n",
       "4               Cream Stone            Kiran   \n",
       "\n",
       "                                         Review_Text  \\\n",
       "0  Could be one of the best place in gachibowli.\\...   \n",
       "1  I loved the food. Authentic Chinese and nice a...   \n",
       "2  I love this place in Gachibowli. I have been h...   \n",
       "3  Too bad service, does not accept the Order mul...   \n",
       "4  ordered nuts overloaded ice cream.fantastic ta...   \n",
       "\n",
       "         Reviews & Followers                Time  Pictures_uploaded  \n",
       "0      1 Review , 1 Follower 2019-05-06 20:34:00                  0  \n",
       "1  17 Reviews , 48 Followers 2018-08-18 15:43:00                  4  \n",
       "2   12 Reviews , 4 Followers 2019-03-09 15:37:00                  0  \n",
       "3  5 Reviews , 999 Followers 2018-12-07 21:38:00                  0  \n",
       "4    11 Reviews , 1 Follower 2018-11-24 13:40:00                  0  "
      ]
     },
     "execution_count": 86,
     "metadata": {},
     "output_type": "execute_result"
    }
   ],
   "source": [
    "test.head()"
   ]
  },
  {
   "cell_type": "code",
   "execution_count": 87,
   "metadata": {},
   "outputs": [
    {
     "data": {
      "text/plain": [
       "Restaurant_Name        0\n",
       "Reviewer_Name          0\n",
       "Review_Text            1\n",
       "Reviews & Followers    0\n",
       "Time                   0\n",
       "Pictures_uploaded      0\n",
       "dtype: int64"
      ]
     },
     "execution_count": 87,
     "metadata": {},
     "output_type": "execute_result"
    }
   ],
   "source": [
    "# checking null values\n",
    "test.isnull().sum()"
   ]
  },
  {
   "cell_type": "code",
   "execution_count": 88,
   "metadata": {},
   "outputs": [],
   "source": [
    "# replace null values with its mode\n",
    "test['Review_Text'].fillna(test['Review_Text'].mode()[0], inplace = True)"
   ]
  },
  {
   "cell_type": "code",
   "execution_count": 89,
   "metadata": {},
   "outputs": [],
   "source": [
    "# data preprocessing\n",
    "test['sentence_lower'] = test[\"Review_Text\"].str.lower()\n",
    "test['sentence_no_punctuation'] = test['sentence_lower'].str.replace('[^\\w\\s]','')\n",
    "test['sentence_no_punctuation'] = test[\"sentence_no_punctuation\"].fillna(\"fillna\")"
   ]
  },
  {
   "cell_type": "code",
   "execution_count": 90,
   "metadata": {},
   "outputs": [
    {
     "data": {
      "application/javascript": [
       "\n",
       "        if (window._pyforest_update_imports_cell) { window._pyforest_update_imports_cell('import pandas as pd\\nimport seaborn as sns'); }\n",
       "    "
      ],
      "text/plain": [
       "<IPython.core.display.Javascript object>"
      ]
     },
     "metadata": {},
     "output_type": "display_data"
    },
    {
     "data": {
      "text/plain": [
       "<AxesSubplot:>"
      ]
     },
     "execution_count": 90,
     "metadata": {},
     "output_type": "execute_result"
    },
    {
     "data": {
      "image/png": "[encoded data removed]",
      "text/plain": [
       "<Figure size 432x288 with 2 Axes>"
      ]
     },
     "metadata": {
      "needs_background": "light"
     },
     "output_type": "display_data"
    }
   ],
   "source": [
    "# visualising the null values\n",
    "sns.heatmap(test.isnull())# we can observe that there is no null values"
   ]
  },
  {
   "cell_type": "code",
   "execution_count": 91,
   "metadata": {},
   "outputs": [],
   "source": [
    "# Initialize empty array \n",
    "# to append clean text  \n",
    "corpus1 = []\n",
    "for i in range(0, len(test)):\n",
    "    review1 = test['sentence_no_punctuation'][i]\n",
    "    review1 = review1.lower()\n",
    "    review1 = review1.split()\n",
    "    review1 = [ps.stem(word) for word in review1 if not word in stopwords.words('english')]\n",
    "    review1 = ' '.join(review1)\n",
    "    corpus1.append(review1)"
   ]
  },
  {
   "cell_type": "code",
   "execution_count": 92,
   "metadata": {},
   "outputs": [
    {
     "data": {
      "text/plain": [
       "0       could be one of the best place in gachibowli\\n...\n",
       "1       i loved the food authentic chinese and nice am...\n",
       "2       i love this place in gachibowli i have been he...\n",
       "3       too bad service does not accept the order mult...\n",
       "4        ordered nuts overloaded ice creamfantastic taste\n",
       "                              ...                        \n",
       "1595    amazing food anyone who wants to have deliciou...\n",
       "1596    driven cafe comes with a perfect ambience that...\n",
       "1597                                                ok ok\n",
       "1598                                                 good\n",
       "1599    it was an awesome experiencethe staff speciall...\n",
       "Name: sentence_no_punctuation, Length: 1600, dtype: object"
      ]
     },
     "execution_count": 92,
     "metadata": {},
     "output_type": "execute_result"
    }
   ],
   "source": [
    "test['sentence_no_punctuation']"
   ]
  },
  {
   "cell_type": "markdown",
   "metadata": {},
   "source": [
    "<a id='rf'></a>\n",
    "# 12.USING RANDOM FOREST CLASSIFIER TO PREDICT THE RATING (ACCURACY = 93.5)"
   ]
  },
  {
   "cell_type": "code",
   "execution_count": 93,
   "metadata": {},
   "outputs": [
    {
     "data": {
      "text/plain": [
       "RandomForestClassifier()"
      ]
     },
     "execution_count": 93,
     "metadata": {},
     "output_type": "execute_result"
    }
   ],
   "source": [
    "# Best model\n",
    "best = RandomForestClassifier()\n",
    "best.fit(x_train,y_train)"
   ]
  },
  {
   "cell_type": "code",
   "execution_count": 94,
   "metadata": {},
   "outputs": [],
   "source": [
    "# prediction\n",
    "y_pred = best.predict(x_test)"
   ]
  },
  {
   "cell_type": "code",
   "execution_count": 95,
   "metadata": {},
   "outputs": [
    {
     "data": {
      "text/plain": [
       "array([4, 7, 6, ..., 2, 8, 5], dtype=int64)"
      ]
     },
     "execution_count": 95,
     "metadata": {},
     "output_type": "execute_result"
    }
   ],
   "source": [
    "y_pred"
   ]
  },
  {
   "cell_type": "code",
   "execution_count": 96,
   "metadata": {},
   "outputs": [
    {
     "data": {
      "text/plain": [
       "0.9353467561521253"
      ]
     },
     "execution_count": 96,
     "metadata": {},
     "output_type": "execute_result"
    }
   ],
   "source": [
    "#accuracy score\n",
    "accuracy_score(y_test,y_pred)"
   ]
  },
  {
   "cell_type": "code",
   "execution_count": 97,
   "metadata": {},
   "outputs": [
    {
     "data": {
      "text/plain": [
       "0.9355590792365388"
      ]
     },
     "execution_count": 97,
     "metadata": {},
     "output_type": "execute_result"
    }
   ],
   "source": [
    "#f1 score\n",
    "f1_score(y_test,y_pred, average = 'weighted')"
   ]
  },
  {
   "cell_type": "code",
   "execution_count": 98,
   "metadata": {},
   "outputs": [
    {
     "data": {
      "text/plain": [
       "array([[490,   0,   6,   0,   3,   0,   1,   0,  11],\n",
       "       [  0, 489,   0,   0,   0,   0,   0,   0,   0],\n",
       "       [  5,   0, 471,   0,   2,   0,   0,   0,   9],\n",
       "       [  0,   0,   0, 491,   0,   0,   0,   0,   0],\n",
       "       [ 14,   0,   5,   0, 480,   0,  13,   0,  18],\n",
       "       [  0,   0,   0,   0,   0, 486,   0,   0,   0],\n",
       "       [  7,   0,   2,   0,   9,   0, 356,   0,  99],\n",
       "       [  0,   0,   0,   0,   0,   0,   0, 498,   0],\n",
       "       [  9,   0,   5,   0,   3,   0,  68,   0, 420]], dtype=int64)"
      ]
     },
     "execution_count": 98,
     "metadata": {},
     "output_type": "execute_result"
    }
   ],
   "source": [
    "#confusion matrix\n",
    "from sklearn.metrics import confusion_matrix\n",
    "cm = confusion_matrix(y_test, y_pred)\n",
    "cm"
   ]
  },
  {
   "cell_type": "code",
   "execution_count": 99,
   "metadata": {},
   "outputs": [
    {
     "name": "stdout",
     "output_type": "stream",
     "text": [
      "              precision    recall  f1-score   support\n",
      "\n",
      "           0       0.93      0.96      0.95       511\n",
      "           1       1.00      1.00      1.00       489\n",
      "           2       0.96      0.97      0.97       487\n",
      "           3       1.00      1.00      1.00       491\n",
      "           4       0.97      0.91      0.93       530\n",
      "           5       1.00      1.00      1.00       486\n",
      "           6       0.81      0.75      0.78       473\n",
      "           7       1.00      1.00      1.00       498\n",
      "           8       0.75      0.83      0.79       505\n",
      "\n",
      "    accuracy                           0.94      4470\n",
      "   macro avg       0.94      0.94      0.94      4470\n",
      "weighted avg       0.94      0.94      0.94      4470\n",
      "\n"
     ]
    }
   ],
   "source": [
    "#classification report\n",
    "from sklearn.metrics import classification_report\n",
    "cr = classification_report(y_test, y_pred)\n",
    "print(cr)"
   ]
  },
  {
   "cell_type": "code",
   "execution_count": 100,
   "metadata": {},
   "outputs": [
    {
     "data": {
      "text/plain": [
       "0       Could be one of the best place in gachibowli.\\...\n",
       "1       I loved the food. Authentic Chinese and nice a...\n",
       "2       I love this place in Gachibowli. I have been h...\n",
       "3       Too bad service, does not accept the Order mul...\n",
       "4       ordered nuts overloaded ice cream.fantastic ta...\n",
       "                              ...                        \n",
       "1595    Amazing food.... Anyone who wants to have deli...\n",
       "1596    Driven cafe comes with a perfect ambience that...\n",
       "1597                                                Ok ok\n",
       "1598                                                 good\n",
       "1599    it was an awesome experience.....the staff spe...\n",
       "Name: Review_Text, Length: 1600, dtype: object"
      ]
     },
     "execution_count": 100,
     "metadata": {},
     "output_type": "execute_result"
    }
   ],
   "source": [
    "test['Review_Text']"
   ]
  },
  {
   "cell_type": "code",
   "execution_count": 101,
   "metadata": {},
   "outputs": [],
   "source": [
    "# function to predict the rating\n",
    "def check(msg):\n",
    "    v = cv.transform([msg])\n",
    "    prec = best.predict(v)\n",
    "    return prec"
   ]
  },
  {
   "cell_type": "code",
   "execution_count": 102,
   "metadata": {},
   "outputs": [
    {
     "data": {
      "text/plain": [
       "array([8], dtype=int64)"
      ]
     },
     "execution_count": 102,
     "metadata": {},
     "output_type": "execute_result"
    }
   ],
   "source": [
    "# took 1 sample for testing\n",
    "check('could be one of the best place in gachibowli\\nan underrated place from here you can see the skyline of gachibowlian awesome place\\nservice is good value for money')"
   ]
  },
  {
   "cell_type": "code",
   "execution_count": 103,
   "metadata": {},
   "outputs": [],
   "source": [
    "# predicting rating for all review text in test dataset\n",
    "pred_text = []\n",
    "for i in test['sentence_no_punctuation']:\n",
    "    pred_text.append(check(i))"
   ]
  },
  {
   "cell_type": "code",
   "execution_count": 104,
   "metadata": {},
   "outputs": [],
   "source": [
    "df_pred_text = pd.DataFrame(pred_text)"
   ]
  },
  {
   "cell_type": "code",
   "execution_count": 105,
   "metadata": {},
   "outputs": [],
   "source": [
    "df_pred_text.columns = ['Pred']"
   ]
  },
  {
   "cell_type": "code",
   "execution_count": 106,
   "metadata": {},
   "outputs": [],
   "source": [
    "# take inverse transform for converting the values to its actual form\n",
    "df_pred_text['Pred'] = label_encoder.inverse_transform(df_pred_text['Pred'])"
   ]
  },
  {
   "cell_type": "markdown",
   "metadata": {},
   "source": [
    "<a id='df'></a>\n",
    "# 13.CREATING DATAFRAME WITH REVIEW TEXT AND PREDICTED RATING"
   ]
  },
  {
   "cell_type": "code",
   "execution_count": 107,
   "metadata": {},
   "outputs": [],
   "source": [
    "# creating dataframe with review and its rating\n",
    "result=pd.concat([test['Review_Text'],df_pred_text['Pred']],axis=1)"
   ]
  },
  {
   "cell_type": "code",
   "execution_count": 108,
   "metadata": {},
   "outputs": [
    {
     "data": {
      "text/html": [
       "<div>\n",
       "<style scoped>\n",
       "    .dataframe tbody tr th:only-of-type {\n",
       "        vertical-align: middle;\n",
       "    }\n",
       "\n",
       "    .dataframe tbody tr th {\n",
       "        vertical-align: top;\n",
       "    }\n",
       "\n",
       "    .dataframe thead th {\n",
       "        text-align: right;\n",
       "    }\n",
       "</style>\n",
       "<table border=\"1\" class=\"dataframe\">\n",
       "  <thead>\n",
       "    <tr style=\"text-align: right;\">\n",
       "      <th></th>\n",
       "      <th>Review_Text</th>\n",
       "      <th>Pred</th>\n",
       "    </tr>\n",
       "  </thead>\n",
       "  <tbody>\n",
       "    <tr>\n",
       "      <th>0</th>\n",
       "      <td>Could be one of the best place in gachibowli.\\...</td>\n",
       "      <td>5.0</td>\n",
       "    </tr>\n",
       "    <tr>\n",
       "      <th>1</th>\n",
       "      <td>I loved the food. Authentic Chinese and nice a...</td>\n",
       "      <td>5.0</td>\n",
       "    </tr>\n",
       "    <tr>\n",
       "      <th>2</th>\n",
       "      <td>I love this place in Gachibowli. I have been h...</td>\n",
       "      <td>5.0</td>\n",
       "    </tr>\n",
       "    <tr>\n",
       "      <th>3</th>\n",
       "      <td>Too bad service, does not accept the Order mul...</td>\n",
       "      <td>1.0</td>\n",
       "    </tr>\n",
       "    <tr>\n",
       "      <th>4</th>\n",
       "      <td>ordered nuts overloaded ice cream.fantastic ta...</td>\n",
       "      <td>5.0</td>\n",
       "    </tr>\n",
       "    <tr>\n",
       "      <th>5</th>\n",
       "      <td>They always deny the table on weekends or Frid...</td>\n",
       "      <td>1.0</td>\n",
       "    </tr>\n",
       "    <tr>\n",
       "      <th>6</th>\n",
       "      <td>good</td>\n",
       "      <td>5.0</td>\n",
       "    </tr>\n",
       "    <tr>\n",
       "      <th>7</th>\n",
       "      <td>I ordered Afghani chicken from here but I got ...</td>\n",
       "      <td>1.0</td>\n",
       "    </tr>\n",
       "    <tr>\n",
       "      <th>8</th>\n",
       "      <td>biryani is good</td>\n",
       "      <td>5.0</td>\n",
       "    </tr>\n",
       "    <tr>\n",
       "      <th>9</th>\n",
       "      <td>Ordered chicken dum and received at fine time ...</td>\n",
       "      <td>2.0</td>\n",
       "    </tr>\n",
       "  </tbody>\n",
       "</table>\n",
       "</div>"
      ],
      "text/plain": [
       "                                         Review_Text  Pred\n",
       "0  Could be one of the best place in gachibowli.\\...   5.0\n",
       "1  I loved the food. Authentic Chinese and nice a...   5.0\n",
       "2  I love this place in Gachibowli. I have been h...   5.0\n",
       "3  Too bad service, does not accept the Order mul...   1.0\n",
       "4  ordered nuts overloaded ice cream.fantastic ta...   5.0\n",
       "5  They always deny the table on weekends or Frid...   1.0\n",
       "6                                               good   5.0\n",
       "7  I ordered Afghani chicken from here but I got ...   1.0\n",
       "8                                    biryani is good   5.0\n",
       "9  Ordered chicken dum and received at fine time ...   2.0"
      ]
     },
     "execution_count": 108,
     "metadata": {},
     "output_type": "execute_result"
    }
   ],
   "source": [
    "result.head(10)"
   ]
  },
  {
   "cell_type": "code",
   "execution_count": 109,
   "metadata": {},
   "outputs": [
    {
     "data": {
      "text/plain": [
       "Review_Text     object\n",
       "Pred           float64\n",
       "dtype: object"
      ]
     },
     "execution_count": 109,
     "metadata": {},
     "output_type": "execute_result"
    }
   ],
   "source": [
    "result.dtypes"
   ]
  },
  {
   "cell_type": "code",
   "execution_count": 110,
   "metadata": {},
   "outputs": [
    {
     "data": {
      "application/javascript": [
       "\n",
       "        if (window._pyforest_update_imports_cell) { window._pyforest_update_imports_cell('import pandas as pd\\nimport seaborn as sns'); }\n",
       "    "
      ],
      "text/plain": [
       "<IPython.core.display.Javascript object>"
      ]
     },
     "metadata": {},
     "output_type": "display_data"
    },
    {
     "data": {
      "text/plain": [
       "(array([0, 1, 2, 3, 4]),\n",
       " [Text(0, 0, '1.0'),\n",
       "  Text(1, 0, '2.0'),\n",
       "  Text(2, 0, '3.0'),\n",
       "  Text(3, 0, '4.0'),\n",
       "  Text(4, 0, '5.0')])"
      ]
     },
     "execution_count": 110,
     "metadata": {},
     "output_type": "execute_result"
    },
    {
     "data": {
      "image/png": "[encoded data removed]",
      "text/plain": [
       "<Figure size 432x288 with 1 Axes>"
      ]
     },
     "metadata": {
      "needs_background": "light"
     },
     "output_type": "display_data"
    }
   ],
   "source": [
    "# visualising predicted ratings\n",
    "pltt = sns.countplot(result['Pred'])\n",
    "plt.xticks(rotation=45)"
   ]
  },
  {
   "cell_type": "markdown",
   "metadata": {},
   "source": [
    "## Comment:\n",
    "+ Test dataset contains mostly reviews belongs to rating '5.0'"
   ]
  },
  {
   "cell_type": "code",
   "execution_count": 111,
   "metadata": {},
   "outputs": [
    {
     "data": {
      "text/plain": [
       "array([5., 1., 2., 3., 4.])"
      ]
     },
     "execution_count": 111,
     "metadata": {},
     "output_type": "execute_result"
    }
   ],
   "source": [
    "result['Pred'].unique()"
   ]
  },
  {
   "cell_type": "markdown",
   "metadata": {},
   "source": [
    "<a id=\"export\"></a>\n",
    "# 14.EXPORTING AS CSV"
   ]
  },
  {
   "cell_type": "code",
   "execution_count": 112,
   "metadata": {},
   "outputs": [],
   "source": [
    "# export the result to csv\n",
    "report_to_csv=result.to_csv('C:\\\\Users\\\\sowndariya\\\\Desktop\\\\PGAA Capstone Projects-20210205T113733Z-001\\\\PGAA Capstone Projects\\\\NLP\\\\Dataset\\\\predicted_ratings.csv')"
   ]
  },
  {
   "cell_type": "markdown",
   "metadata": {},
   "source": [
    "<a id=\"env\"></a>\n",
    "# 15. SYSTEM ENVIRONMENT"
   ]
  },
  {
   "cell_type": "code",
   "execution_count": 114,
   "metadata": {},
   "outputs": [
    {
     "name": "stdout",
     "output_type": "stream",
     "text": [
      "import pandas as pd\n",
      "import seaborn as sns\n"
     ]
    },
    {
     "data": {
      "text/plain": [
       "['import pandas as pd', 'import seaborn as sns']"
      ]
     },
     "execution_count": 114,
     "metadata": {},
     "output_type": "execute_result"
    }
   ],
   "source": [
    "active_imports()"
   ]
  },
  {
   "cell_type": "code",
   "execution_count": 113,
   "metadata": {},
   "outputs": [
    {
     "name": "stdout",
     "output_type": "stream",
     "text": [
      "xgboost==1.3.3\n",
      "tqdm==4.52.0\n",
      "spacy==2.3.2\n",
      "scikit-learn==0.24.1\n",
      "pyforest==1.0.3\n",
      "pandas==1.1.4\n",
      "numpy==1.19.2\n",
      "nltk==3.5\n",
      "matplotlib==3.3.3\n",
      "imblearn==0.0\n",
      "gensim==3.8.0\n"
     ]
    }
   ],
   "source": [
    "import pkg_resources\n",
    "import types\n",
    "def get_imports():\n",
    "    for name, val in globals().items():\n",
    "        if isinstance(val, types.ModuleType):\n",
    "            # Split ensures you get root package, \n",
    "            # not just imported function\n",
    "            name = val.__name__.split(\".\")[0]\n",
    "        elif isinstance(val, type):\n",
    "            name = val.__module__.split(\".\")[0]\n",
    "        # Some packages are weird and have different\n",
    "        # imported names vs. system/pip names. Unfortunately,\n",
    "        # there is no systematic way to get pip names from\n",
    "        # a package's imported name. You'll have to add\n",
    "        # exceptions to this list manually!\n",
    "        poorly_named_packages = {\"PIL\": \"Pillow\",\"sklearn\": \"scikit-learn\"}\n",
    "        if name in poorly_named_packages.keys():\n",
    "            name = poorly_named_packages[name]\n",
    "        yield name\n",
    "imports = list(set(get_imports()))\n",
    "# The only way I found to get the version of the root package\n",
    "# from only the name of the package is to cross-check the names \n",
    "# of installed packages vs. imported packages\n",
    "requirements = []\n",
    "for m in pkg_resources.working_set:\n",
    "    if m.project_name in imports and m.project_name!=\"pip\":\n",
    "        requirements.append((m.project_name, m.version))\n",
    "\n",
    "for r in requirements:\n",
    "    print(\"{}=={}\".format(*r))"
   ]
  }
 ],
 "metadata": {
  "kernelspec": {
   "display_name": "Python 3",
   "language": "python",
   "name": "python3"
  },
  "language_info": {
   "codemirror_mode": {
    "name": "ipython",
    "version": 3
   },
   "file_extension": ".py",
   "mimetype": "text/x-python",
   "name": "python",
   "nbconvert_exporter": "python",
   "pygments_lexer": "ipython3",
   "version": "3.7.9"
  }
 },
 "nbformat": 4,
 "nbformat_minor": 4
}
