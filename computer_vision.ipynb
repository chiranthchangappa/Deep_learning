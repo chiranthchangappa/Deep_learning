{
 "cells": [
  {
   "cell_type": "code",
   "execution_count": 1,
   "id": "seeing-michael",
   "metadata": {},
   "outputs": [],
   "source": [
    "import cv2\n",
    "import numpy"
   ]
  },
  {
   "cell_type": "code",
   "execution_count": 2,
   "id": "angry-shaft",
   "metadata": {},
   "outputs": [
    {
     "data": {
      "text/plain": [
       "'C:\\\\Users\\\\Chiranth SB\\\\Desktop\\\\python programming'"
      ]
     },
     "execution_count": 2,
     "metadata": {},
     "output_type": "execute_result"
    }
   ],
   "source": [
    "import os\n",
    "os.getcwd()"
   ]
  },
  {
   "cell_type": "code",
   "execution_count": 2,
   "id": "linear-slovenia",
   "metadata": {},
   "outputs": [],
   "source": [
    "input = cv2.imread('test1.jpg')\n",
    "\n",
    "cv2.imshow('test1 image', input)\n",
    "\n",
    "cv2.waitKey()\n",
    "\n",
    "cv2.destroyAllWindows()"
   ]
  },
  {
   "cell_type": "markdown",
   "id": "pediatric-context",
   "metadata": {},
   "source": [
    "# lets look how image are stored"
   ]
  },
  {
   "cell_type": "code",
   "execution_count": 5,
   "id": "incomplete-montgomery",
   "metadata": {},
   "outputs": [],
   "source": [
    "import numpy as np"
   ]
  },
  {
   "cell_type": "code",
   "execution_count": 6,
   "id": "colonial-fashion",
   "metadata": {},
   "outputs": [
    {
     "name": "stdout",
     "output_type": "stream",
     "text": [
      "(427, 640, 3)\n"
     ]
    }
   ],
   "source": [
    "print(input.shape)"
   ]
  },
  {
   "cell_type": "code",
   "execution_count": 11,
   "id": "growing-second",
   "metadata": {},
   "outputs": [
    {
     "name": "stdout",
     "output_type": "stream",
     "text": [
      "height of image 427 pixels\n",
      "height of image 640\n"
     ]
    }
   ],
   "source": [
    "print('height of image', int(input.shape[0]), 'pixels')\n",
    "print('height of image', int(input.shape[1]))"
   ]
  },
  {
   "cell_type": "code",
   "execution_count": 12,
   "id": "overall-sellers",
   "metadata": {},
   "outputs": [
    {
     "data": {
      "text/plain": [
       "True"
      ]
     },
     "execution_count": 12,
     "metadata": {},
     "output_type": "execute_result"
    }
   ],
   "source": [
    "cv2.imwrite('two_girls.png', input)"
   ]
  },
  {
   "cell_type": "code",
   "execution_count": 13,
   "id": "prostate-arbitration",
   "metadata": {},
   "outputs": [
    {
     "data": {
      "text/plain": [
       "True"
      ]
     },
     "execution_count": 13,
     "metadata": {},
     "output_type": "execute_result"
    }
   ],
   "source": [
    "cv2.imwrite('two_girls.jpg', input)"
   ]
  },
  {
   "cell_type": "markdown",
   "id": "indoor-maine",
   "metadata": {},
   "source": [
    "# Face and eye detection using HAAR cascade classifiers"
   ]
  },
  {
   "cell_type": "code",
   "execution_count": 3,
   "id": "configured-lunch",
   "metadata": {},
   "outputs": [],
   "source": [
    "face_classifier = cv2.CascadeClassifier('haarcascade_frontalface_default.xml')"
   ]
  },
  {
   "cell_type": "code",
   "execution_count": 4,
   "id": "revised-allah",
   "metadata": {},
   "outputs": [],
   "source": [
    "image = cv2.imread('Shah Rukh Khan-2085361793-1572690045.jpg')\n",
    "# blue_green_red\n",
    "gray = cv2.cvtColor(image, cv2.COLOR_BGRA2GRAY)\n",
    "\n",
    "faces = face_classifier.detectMultiScale(gray, 1.3, 5)\n",
    "\n",
    "#if faces is black\n",
    "if faces is ():\n",
    "    print('no faces found')\n",
    "    \n",
    "for (x, y, w, h) in faces:\n",
    "    cv2.rectangle(image, (x,y), (x+w, y+h), (127,0,255), 2)\n",
    "    cv2.imshow('face detection', image)\n",
    "    cv2.waitKey()\n",
    "\n",
    "cv2.destroyAllWindows()"
   ]
  },
  {
   "cell_type": "markdown",
   "id": "dying-steal",
   "metadata": {},
   "source": [
    "# eye and face detection"
   ]
  },
  {
   "cell_type": "code",
   "execution_count": 5,
   "id": "humanitarian-marble",
   "metadata": {},
   "outputs": [],
   "source": [
    "import cv2\n",
    "import numpy\n",
    "\n",
    "face_classifier = cv2.CascadeClassifier('haarcascade_frontalface_default.xml')\n",
    "eye_classifier = cv2.CascadeClassifier('haarcascade_eye.xml')\n",
    "\n",
    "image = cv2.imread('test1.jpg')\n",
    "# blue_green_red\n",
    "gray = cv2.cvtColor(image, cv2.COLOR_BGRA2GRAY)\n",
    "\n",
    "faces = face_classifier.detectMultiScale(gray, 1.3, 5)\n",
    "\n",
    "#if faces is black\n",
    "if faces is ():\n",
    "    print('no faces found')\n",
    "    \n",
    "for (x, y, w, h) in faces:\n",
    "    cv2.rectangle(image, (x,y), (x+w, y+h), (127,0,255), 2)\n",
    "    #cv2.imshow('face detection', image)\n",
    "    rol_gray = gray[y:y+h, x:x+w]\n",
    "    rol_color = image[y:y+h, x:x+w]\n",
    "    eyes = eye_classifier.detectMultiScale(rol_gray)\n",
    "    for (ex, ey, ew, eh) in eyes:\n",
    "        cv2.rectangle(rol_color, (ex,ey), (ex+ew, ey+eh), (255,255,0), 2)\n",
    "        cv2.imshow('img', image)\n",
    "        cv2.waitKey()\n",
    "cv2.destroyAllWindows()        "
   ]
  },
  {
   "cell_type": "markdown",
   "id": "dominican-october",
   "metadata": {},
   "source": [
    "# live faces "
   ]
  },
  {
   "cell_type": "code",
   "execution_count": null,
   "id": "arbitrary-throat",
   "metadata": {},
   "outputs": [],
   "source": [
    "import cv2\n",
    "import numpy\n",
    "\n",
    "face_classifier = cv2.CascadeClassifier('haarcascade_frontalface_default.xml')\n",
    "eye_classifier = cv2.CascadeClassifier('haarcascade_eye.xml')\n",
    "\n",
    "\n",
    "def detect(gray, frame):\n",
    "    faces = face_classifier.detectMultiScale(gray, 1.3, 5)\n",
    "    for (x, y, w, h) in faces:\n",
    "        cv2.rectangle(image, (x,y), (x+w, y+h), (225,255,0), 2)\n",
    "        #cv2.imshow('face detection', image)\n",
    "        rol_gray = gray[y:y+h, x:x+w]\n",
    "        rol_color = image[y:y+h, x:x+w]\n",
    "        eyes = eye_classifier.detectMultiScale(rol_gray, 1.1, 3)\n",
    "        for (ex, ey, ew, eh) in eyes:\n",
    "            cv2.rectangle(rol_color, (ex,ey), (ex+ew, ey+eh), (255,255,0), 2)\n",
    "    return frame\n",
    "#doing some face recognition with webcam\n",
    "vedio_capture = cv2.VideoCapture()\n",
    "while True:\n",
    "    _, frame = vedio_capture.read()\n",
    "    gray = cv2.cvtColor(frame, cv2.COLOR_GRAY2BGR)\n",
    "    canvas = detect(gray, frame)\n",
    "    cv2.imshow('vedio', canvas)\n",
    "    if cv2.waitKey() & 0xFF == ord('q'):\n",
    "        break\n",
    "vedio_capture.release()\n",
    "cv2.destroyAllWindows()"
   ]
  }
 ],
 "metadata": {
  "kernelspec": {
   "display_name": "Python 3",
   "language": "python",
   "name": "python3"
  },
  "language_info": {
   "codemirror_mode": {
    "name": "ipython",
    "version": 3
   },
   "file_extension": ".py",
   "mimetype": "text/x-python",
   "name": "python",
   "nbconvert_exporter": "python",
   "pygments_lexer": "ipython3",
   "version": "3.7.9"
  }
 },
 "nbformat": 4,
 "nbformat_minor": 5
}
